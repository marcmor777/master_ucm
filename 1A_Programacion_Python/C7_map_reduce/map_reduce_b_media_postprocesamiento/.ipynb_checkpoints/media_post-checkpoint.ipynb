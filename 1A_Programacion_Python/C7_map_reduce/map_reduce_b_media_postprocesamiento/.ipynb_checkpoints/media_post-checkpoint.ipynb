{
 "cells": [
  {
   "cell_type": "markdown",
   "metadata": {},
   "source": [
    "# Cálculo de la media mediante map-reduce con post-procesamiento"
   ]
  },
  {
   "cell_type": "markdown",
   "metadata": {},
   "source": [
    "## El porqué del post-procesamiento. Conceptos básicos\n",
    "\n",
    "Deseamos calcular la media de una lista de números. Por ejemplo, la siguiente:\n",
    "\n",
    "$$ [2, 3, 4] $$\n",
    "\n",
    "Observamos que esta operación no es asociativa, y que la asociación en cualquier orden no conduce a la media verdadera:\n",
    "\n",
    "$$\\frac{\\frac{2+3}{2} + 4}{2} \\neq \\frac{2 + \\frac{3+4}{2}}{2} \\neq \\frac{2+3+4}{3}$$\n",
    "\n",
    "Así pues, la simple aplicación de un algoritmo de map-reduce no es tan simple.\n",
    "\n",
    "Otro enfoque posible es calcular las sumas de los valores y del número de valores:\n",
    "\n",
    "    [2, 3, 4] -> [(2, 1), (3, 1), (4, 1)] -> (9, 3)\n",
    "    \n",
    "La operación de sumar los pares sí es asociativa:\n",
    "\n",
    "    [2, 3, 4] -> [(2, 1), (3, 1), (4, 1)] -> [(5, 2), (4, 1)] -> (9, 3)\n",
    "    [2, 3, 4] -> [(2, 1), (3, 1), (4, 1)] -> [(2, 1), (7, 2)] -> (9, 3)\n",
    "\n",
    "Pero produce finalmente un par, y no solo la media. Adoptamos este enfoque: calcular las sumas de los pares, pero **luego**, para cada par, nos quedamos únicamente con la media.\n",
    "\n",
    "Esta operación que se debe hacer **luego** es la que nos ayuda a ilustrar cómo aplicar algún tipo de postprocesamiento."
   ]
  },
  {
   "cell_type": "markdown",
   "metadata": {},
   "source": [
    "## Nuestro ejemplo concreto\n",
    "\n",
    "Vamos a empezar por generar una lista aleatoria de pares (color, número). Nuestra lista de colores es la siguiente:\n",
    "\n",
    "    Colores = {Azul, Blanco, Verde, Amarillo}\n",
    "\n",
    "Para cada color, el número es una v.a. uniforme extraída de un valor para cada color, $\\pm 1$. Las medias de los distintos colores vienen dadas en el siguiente diccionario:\n",
    "\n",
    "    Colores = {\"Azul\": 3.0, \"Blanco\": 5.0, \"Verde\": 15.0, \"Amarillo\": 10.0}\n",
    "\n",
    "Por ejemplo, si elegimos el azul, su número es $3.0 \\pm 1$."
   ]
  },
  {
   "cell_type": "code",
   "execution_count": 1,
   "metadata": {},
   "outputs": [],
   "source": [
    "import random\n",
    "\n",
    "Colores = {\"Azul\": 3.0, \"Blanco\": 5.0, \"Verde\": 15.0, \"Amarillo\": 10.0}\n",
    "\n",
    "def v_a(color):\n",
    "    return random.random() * 2 + Colores[color] - 1\n",
    "\n",
    "def generar_datos(archivo, n):\n",
    "    with open(archivo, \"w\") as f:\n",
    "        for _ in range(n):\n",
    "            [color] = random.choices(list(Colores.keys()))\n",
    "            x = round(v_a(color), 2)\n",
    "            f.write(color + \" \" + str(x) + \"\\n\")"
   ]
  },
  {
   "cell_type": "code",
   "execution_count": 2,
   "metadata": {},
   "outputs": [],
   "source": [
    "generar_datos(\"datos.txt\", 100)"
   ]
  },
  {
   "cell_type": "code",
   "execution_count": 3,
   "metadata": {},
   "outputs": [
    {
     "name": "stdout",
     "output_type": "stream",
     "text": [
      " El volumen de la unidad C es Windows \n",
      " El n£mero de serie del volumen es: 22D6-2907\n",
      "\n",
      " Directorio de C:\\Users\\cpareja\\Jupyter\\Python E1 - librer¡as - an lisis de datos\\E7 - map-reduce\\prueba - media - postprocesamiento\n",
      "\n",
      "04/03/2021  19:57    <DIR>          .\n",
      "04/03/2021  19:57    <DIR>          ..\n",
      "04/03/2021  18:27    <DIR>          .ipynb_checkpoints\n",
      "04/03/2021  19:59             1.306 datos.txt\n",
      "04/03/2021  18:12               521 generar_archivo.py\n",
      "04/03/2021  19:57               940 medias.py\n",
      "04/03/2021  19:57             7.529 media_post.ipynb\n",
      "               4 archivos         10.296 bytes\n",
      "               3 dirs  364.108.529.664 bytes libres\n"
     ]
    }
   ],
   "source": [
    "# Veamos el contenido de esta carpeta tras la generación de este archivo:\n",
    "    \n",
    "! dir"
   ]
  },
  {
   "cell_type": "markdown",
   "metadata": {},
   "source": [
    "He aquí el inicio del archivo `datos.txt`:\n",
    "\n",
    "    Blanco 4.26\n",
    "    Blanco 4.42\n",
    "    Azul 3.13\n",
    "    Blanco 5.96\n",
    "    Amarillo 10.8\n",
    "    Amarillo 9.18\n",
    "    Azul 3.75\n",
    "    Azul 2.51\n",
    "    Azul 2.3\n",
    "    Amarillo 10.05"
   ]
  },
  {
   "cell_type": "markdown",
   "metadata": {},
   "source": [
    "## Problema: cálculo de la media de cada color\n",
    "\n",
    "Aquí es donde se plantea resolver el cálculo de la media por color, con un programa map-reduce.\n",
    "\n",
    "Se ha planteado un programa para ser ejecutado desde la consola. Veámoslo."
   ]
  },
  {
   "cell_type": "code",
   "execution_count": 4,
   "metadata": {},
   "outputs": [
    {
     "name": "stdout",
     "output_type": "stream",
     "text": [
      "Amarillo - 10.02\n"
     ]
    },
    {
     "name": "stderr",
     "output_type": "stream",
     "text": [
      "No configs specified for inline runner\n"
     ]
    },
    {
     "name": "stdout",
     "output_type": "stream",
     "text": [
      "\n",
      "Azul - 3.08\n",
      "\n",
      "Blanco - 4.92\n",
      "\n",
      "Verde - 15.12\n",
      "\n"
     ]
    }
   ],
   "source": [
    "! python medias.py datos.txt"
   ]
  },
  {
   "cell_type": "code",
   "execution_count": 5,
   "metadata": {},
   "outputs": [
    {
     "name": "stdout",
     "output_type": "stream",
     "text": [
      "ï»¿\"\"\"\n",
      "Ejemplo de map-reduce\n",
      "con post-procesamiento\n",
      "@author: cpareja\n",
      "\"\"\"\n",
      "\n",
      "import sys\n",
      "from mrjob.job import MRJob\n",
      "\n",
      "def suma_doble(pares):\n",
      "    \"\"\"Ej. [(1, 10), (2, 20), (3, 30)]  --> (6, 60)\"\"\"\n",
      "    a, b = 0, 0\n",
      "    for x, y in pares:\n",
      "        a, b = a + x, b + y\n",
      "    return a, b\n",
      "\n",
      "class MRSumaTotales(MRJob):\n",
      "   \n",
      "    def mapper(self, _, linea):\n",
      "        [color, x] = linea.split()\n",
      "        yield color, (float(x), 1)\n",
      "              \n",
      "    def reducer(self, key, values):\n",
      "        yield key, suma_doble(values)\n",
      "        \n",
      "if __name__ == '__main__':\n",
      "                \n",
      "    archivo_datos = sys.argv[1]\n",
      "    trabajo = MRSumaTotales(args=[archivo_datos])    \n",
      "    with trabajo.make_runner() as runner:\n",
      "        runner.run()\n",
      "        for key, value in trabajo.parse_output(runner.cat_output()):\n",
      "            media = value[0] / value[1]\n",
      "            media_str = str(round(media, 2))\n",
      "            print(key + \" - \" + media_str + \"\\n\")\n"
     ]
    }
   ],
   "source": [
    "! type medias.py"
   ]
  },
  {
   "cell_type": "markdown",
   "metadata": {},
   "source": [
    "## Nota final\n",
    "\n",
    "Se trata de unos apuntes breves que intentan ser sobre todo útiles y claros.\n",
    "Obviamente, se han omitido los comentarios del programa de `map-reduce` por brevedad, esperando que sea lo bastante claro así."
   ]
  }
 ],
 "metadata": {
  "kernelspec": {
   "display_name": "Python 3",
   "language": "python",
   "name": "python3"
  },
  "language_info": {
   "codemirror_mode": {
    "name": "ipython",
    "version": 3
   },
   "file_extension": ".py",
   "mimetype": "text/x-python",
   "name": "python",
   "nbconvert_exporter": "python",
   "pygments_lexer": "ipython3",
   "version": "3.8.5"
  }
 },
 "nbformat": 4,
 "nbformat_minor": 1
}
