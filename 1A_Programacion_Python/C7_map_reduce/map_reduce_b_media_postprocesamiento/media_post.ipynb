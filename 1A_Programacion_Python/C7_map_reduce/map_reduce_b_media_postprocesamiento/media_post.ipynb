{
 "cells": [
  {
   "cell_type": "markdown",
   "metadata": {},
   "source": [
    "# Cálculo de la media mediante map-reduce con post-procesamiento"
   ]
  },
  {
   "cell_type": "markdown",
   "metadata": {},
   "source": [
    "## El porqué del post-procesamiento. Conceptos básicos\n",
    "\n",
    "La operación de *sumar* los pares es asociativa:\n",
    "\n",
    "    [2, 3, 4] -> [(2, 1), (3, 1), (4, 1)] -> [(5, 2), (4, 1)] -> (9, 3)\n",
    "    [2, 3, 4] -> [(2, 1), (3, 1), (4, 1)] -> [(2, 1), (7, 2)] -> (9, 3)\n",
    "\n",
    "Pueden realizarse sumas en un orden y agrupamiento arbitrarios, y concretamente en el que proporcionen los distintos procesadores de forma distribuida. Por lo tanto, se puede aplicar la operación `reduce` con seguridad.\n",
    "\n",
    "Deseamos ahora *calcular la media* de una lista de números. Por ejemplo, la siguiente:\n",
    "\n",
    "$$ [2, 3, 4] $$\n",
    "\n",
    "Observamos que esta operación no es asociativa, y que la asociación en cualquier orden no conduce a la media verdadera:\n",
    "\n",
    "$$\\frac{\\frac{2+3}{2} + 4}{2} \\neq \\frac{2 + \\frac{3+4}{2}}{2} \\neq \\frac{2+3+4}{3}$$\n",
    "\n",
    "Así pues, la simple aplicación de un algoritmo de map-reduce no es tan simple, pues el resultado dependerá de en qué orden vayan proporcionándose los resultados parciales, generados de forma distribuida.\n",
    "\n",
    "Sin embargo, es posible aplicar otro enfoque: calcular las sumas de los valores y del número de valores:\n",
    "\n",
    "    [2, 3, 4] -> [(2, 1), (3, 1), (4, 1)] -> (9, 3)\n",
    "    \n",
    "Evidentemente, este algoritmo no calcula la media, sino un par de valores. Por lo tanto, requiere un paso adicional, posteriormente: dividir ese par de valores.\n",
    "\n",
    "Esta operación que se debe hacer **tras el cálculo intensivo** es la que nos ayuda a ilustrar cómo aplicar algún tipo de postprocesamiento."
   ]
  },
  {
   "cell_type": "markdown",
   "metadata": {},
   "source": [
    "## Nuestro ejemplo concreto\n",
    "\n",
    "Tenemos un conjunto de colores: `{Azul, Blanco, Verde, Amarillo}`. \n",
    "Cada color tiene asociado un valor entero:\n",
    "\n",
    "    Valores = {\"Azul\": 3.0, \"Blanco\": 5.0, \"Verde\": 15.0, \"Amarillo\": 10.0}\n",
    "\n",
    "Elegimos un color, con igual probabilidad, entre la lista `Colores`, y para cada color, generamos un número real, extraído uniformemente en el intervalo del valor del color, $\\pm 1$. Por ejemplo,m si el color elegido es el azul, el valor será un número real del intervalo $[3-1, 3+1]$."
   ]
  },
  {
   "cell_type": "code",
   "execution_count": 1,
   "metadata": {},
   "outputs": [],
   "source": [
    "import random\n",
    "\n",
    "Valores = {\"Azul\": 3.0, \"Blanco\": 5.0, \"Verde\": 15.0, \"Amarillo\": 10.0}\n",
    "Colores = list(Valores.keys())\n",
    "\n",
    "def v_a(color):\n",
    "    valor = random.random() * 2 + Valores[color] - 1\n",
    "    return round(valor, 2)\n",
    "\n",
    "def generar_datos(n, archivo):\n",
    "    with open(archivo, \"w\") as f:\n",
    "        for _ in range(n):\n",
    "            [color] = random.choices(Colores)\n",
    "            x = v_a(color)\n",
    "            f.write(color + \" \" + str(x) + \"\\n\")"
   ]
  },
  {
   "cell_type": "markdown",
   "metadata": {},
   "source": [
    "Para calcular las medias de cada color, generamos una muestra, en un archivo de texto."
   ]
  },
  {
   "cell_type": "code",
   "execution_count": 2,
   "metadata": {},
   "outputs": [
    {
     "name": "stdout",
     "output_type": "stream",
     "text": [
      "Amarillo 9.48\n",
      "Azul 2.18\n",
      "Blanco 4.71\n",
      "Verde 14.4\n",
      "Azul 3.32\n",
      "Verde 15.27\n",
      "Amarillo 10.72\n",
      "Verde 15.96\n",
      "Azul 2.19\n",
      "Verde 14.52\n",
      "Amarillo 10.04\n",
      "Blanco 5.93\n",
      "Azul 2.41\n",
      "Blanco 4.61\n",
      "Amarillo 9.1\n",
      "Blanco 4.35\n",
      "Blanco 5.52\n",
      "Azul 3.14\n",
      "Azul 3.3\n",
      "Verde 14.77\n"
     ]
    }
   ],
   "source": [
    "generar_datos(20, \"datos.txt\")\n",
    "\n",
    "! type \"datos.txt\""
   ]
  },
  {
   "cell_type": "markdown",
   "metadata": {},
   "source": [
    "Generamos ahora una muestra más realista, de mayor tamaño:"
   ]
  },
  {
   "cell_type": "code",
   "execution_count": 3,
   "metadata": {},
   "outputs": [],
   "source": [
    "generar_datos(1000, \"datos.txt\")"
   ]
  },
  {
   "cell_type": "code",
   "execution_count": 4,
   "metadata": {
    "scrolled": true
   },
   "outputs": [
    {
     "name": "stdout",
     "output_type": "stream",
     "text": [
      " El volumen de la unidad C es Windows \n",
      " El n£mero de serie del volumen es: 22D6-2907\n",
      "\n",
      " Directorio de C:\\Users\\Cristobal\\Jupyter\\Python E1 - librer¡as - an lisis de datos\\E7 - map-reduce\\caso_3 - media - postprocesamiento\n",
      "\n",
      "16/10/2022  12:27    <DIR>          .\n",
      "15/10/2022  17:15    <DIR>          ..\n",
      "11/10/2022  17:28    <DIR>          .ipynb_checkpoints\n",
      "16/10/2022  12:30            13.036 datos.txt\n",
      "05/03/2021  16:19             3.944 E7 - ej3 - medias y postprocesamiento.rar\n",
      "04/03/2021  10:12               521 generar_archivo.py\n",
      "16/10/2022  12:30               858 medias.py\n",
      "16/10/2022  12:27             8.793 media_post.ipynb\n",
      "16/10/2022  12:09           176.492 media_post.pdf\n",
      "               6 archivos        203.644 bytes\n",
      "               3 dirs  218.703.601.664 bytes libres\n"
     ]
    }
   ],
   "source": [
    "# Veamos el contenido de esta carpeta tras la generación de este archivo:\n",
    "    \n",
    "! dir"
   ]
  },
  {
   "cell_type": "markdown",
   "metadata": {},
   "source": [
    "## Problema: cálculo de la media de cada color\n",
    "\n",
    "Aquí es donde se plantea resolver el cálculo de la media por color, con un programa map-reduce.\n",
    "\n",
    "Se ha planteado un programa para ser ejecutado desde la consola. Veámoslo."
   ]
  },
  {
   "cell_type": "code",
   "execution_count": 5,
   "metadata": {},
   "outputs": [
    {
     "name": "stdout",
     "output_type": "stream",
     "text": [
      "Amarillo - 9.98\n",
      "Azul - 3.02\n",
      "Blanco - 4.93\n",
      "Verde - 15.06\n"
     ]
    },
    {
     "name": "stderr",
     "output_type": "stream",
     "text": [
      "No configs specified for inline runner\n"
     ]
    }
   ],
   "source": [
    "! python medias.py datos.txt -q"
   ]
  },
  {
   "cell_type": "code",
   "execution_count": 6,
   "metadata": {},
   "outputs": [
    {
     "name": "stdout",
     "output_type": "stream",
     "text": [
      "ï»¿\n",
      "import sys\n",
      "from mrjob.job import MRJob\n",
      "\n",
      "def suma_doble(pares):\n",
      "    \"\"\"Ej. [(1, 10), (2, 20), (3, 30)]  --> (6, 60)\"\"\"\n",
      "    a, b = 0, 0\n",
      "    for x, y in pares:\n",
      "        a, b = a + x, b + y\n",
      "    return a, b\n",
      "\n",
      "class MRSumaTotales(MRJob):\n",
      "   \n",
      "    def mapper(self, _, linea):\n",
      "        [color, x] = linea.split()\n",
      "        yield color, (float(x), 1)\n",
      "              \n",
      "    def reducer(self, key, values):\n",
      "        yield key, suma_doble(values)\n",
      "        \n",
      "if __name__ == '__main__':\n",
      "                \n",
      "    archivo_datos = sys.argv[1]\n",
      "    trabajo = MRSumaTotales(args=[archivo_datos])    \n",
      "    with trabajo.make_runner() as runner:\n",
      "        runner.run()\n",
      "        for key, value in trabajo.parse_output(runner.cat_output()):\n",
      "            media = value[0] / value[1]\n",
      "            media_str = str(round(media, 2))\n",
      "            print(key + \" - \" + media_str)\n"
     ]
    }
   ],
   "source": [
    "! type medias.py"
   ]
  },
  {
   "cell_type": "markdown",
   "metadata": {},
   "source": [
    "## Nota final\n",
    "\n",
    "Se trata de unos apuntes breves que intentan ser sobre todo útiles y claros.\n",
    "Obviamente, se han omitido los comentarios del programa de `map-reduce` por brevedad, esperando que sea lo bastante claro así."
   ]
  }
 ],
 "metadata": {
  "kernelspec": {
   "display_name": "Python 3 (ipykernel)",
   "language": "python",
   "name": "python3"
  },
  "language_info": {
   "codemirror_mode": {
    "name": "ipython",
    "version": 3
   },
   "file_extension": ".py",
   "mimetype": "text/x-python",
   "name": "python",
   "nbconvert_exporter": "python",
   "pygments_lexer": "ipython3",
   "version": "3.9.12"
  }
 },
 "nbformat": 4,
 "nbformat_minor": 1
}
