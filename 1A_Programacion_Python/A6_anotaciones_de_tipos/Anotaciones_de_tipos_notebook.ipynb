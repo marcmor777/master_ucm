{
 "cells": [
  {
   "cell_type": "markdown",
   "metadata": {},
   "source": [
    "# Anotaciones de tipos o signaturas\n",
    "\n",
    "<hr>\n",
    "\n",
    "En algunos lenguajes de programación, los tipos de datos de sus datos y funciones se declaran explícitamente, Por ejemplo, en C++:\n",
    "\n",
    "```C\n",
    "float area(int radio, float PI=3.1416) {\n",
    "    return PI*pow(radio, 2);\n",
    "}\n",
    " \n",
    "int main() {\n",
    "    float radio = 4.5;   \n",
    "    float resultado = area(radio);\n",
    "    cout << \"El área de un círculo de radio \" << radio << \" es \" << resultado << endl;\n",
    "}\n",
    "\n",
    "```\n",
    "\n",
    "Esto permite realizar las comprobaciones de tipos *en tiempo de compilación* de un programa, por lo que se suele decir que son lenguajes *tipados estáticamente*.\n",
    "\n",
    "En Python, los tipos de las variables, funciones y argumentos no se declaran.\n",
    "El tipo de datos de cada variable o función se va calculando *dinámicamente*,\n",
    "es decir, durante su ejecución.\n",
    "\n",
    "Sin mencionar ahora las ventajas de esta decisión, presenta dos inconvenientes:\n",
    "\n",
    "- El diseño de programas erróneos desde el punto de vista de los tipos es posible, \n",
    "  y pasa fácilmente desapercibido hasta el momento de su ejecución porque no hay\n",
    "  una comprobación antes de dicha ejecución.\n",
    "\n",
    "- La ausencia de información sobre los tipos ayuda a camuflar dichos posibles errores\n",
    "  en la coherencia de los tipos de los datos.\n",
    "\n",
    "Para paliar este segundo inconveniente, en Python se recomienda con mayor fuerza incluir\n",
    "una documentación de forma estándar, el *docstring*, en la cual existen secciones especiales para\n",
    "especificar la signatura de una función, es decir, los tipos de los parámetros y del resultado\n",
    "de la misma. Este asunto se trata en otros documentos. Damos aquí una referencia disponible en Internet:\n",
    "\n",
    "  https://python-para-impacientes.blogspot.com/2014/02/docstrings.html\n",
    "  \n",
    "También, es posible añadir *anotaciones* de tipos.\n",
    "Y desde Python 3.5, la librería estándar incluye el módulo `typing`. \n",
    "Aunque las anotaciones no son operativas,\n",
    "esta característica permite el desarrollo de herramientas que realizan este chequeo,\n",
    "y de hecho existen actualmente *herramientas de control de tipos* que pueden usarse antes de\n",
    "la ejecución de un programa. De este modo, se reduce el primer inconveniente mencionado.\n",
    "Entre estas herramientas, mencionamos `mypy`, `pyre-check` y `pytype`."
   ]
  },
  {
   "cell_type": "markdown",
   "metadata": {},
   "source": [
    "### Anotaciones de variables, constantes y funciones\n",
    "\n",
    "He aquí las primeras anotaciones de tipos aplicadas a variables, constantes y funciones:"
   ]
  },
  {
   "cell_type": "code",
   "execution_count": 1,
   "metadata": {},
   "outputs": [
    {
     "name": "stdout",
     "output_type": "stream",
     "text": [
      "37 El mundo era tan reciente que muchas cosas carecían de nombre\n",
      "El área de un círculo de radio  4.5  es  63.585\n"
     ]
    }
   ],
   "source": [
    "n: int = 37\n",
    "frase: str = \"El mundo era tan reciente que muchas cosas carecían de nombre\"\n",
    "print(n, frase)\n",
    "\n",
    "def area_circulo(radio: float) -> float:\n",
    "    Pi: float = 3.14\n",
    "    return Pi*radio**2\n",
    "\n",
    "radio: float = 4.5\n",
    "resultado: float = area_circulo(radio)\n",
    "print(\"El área de un círculo de radio \", radio, \" es \" , resultado)"
   ]
  },
  {
   "cell_type": "markdown",
   "metadata": {},
   "source": [
    "Las anotaciones de tipos asociadas a una función pueden recuperarse mediante el método\n",
    "`__annotations__`, que genera un diccionario. Si aún no has visto este tipo de estructura, no te preocupes: observa a continuación su uso, que es muy intuitivo.\n",
    "\n",
    "Para recuperar el tipo declarado de una función, se ha de especificar el nombre de la función:"
   ]
  },
  {
   "cell_type": "code",
   "execution_count": 2,
   "metadata": {},
   "outputs": [
    {
     "name": "stdout",
     "output_type": "stream",
     "text": [
      "{'n': <class 'int'>, 'frase': <class 'str'>, 'radio': <class 'float'>, 'resultado': <class 'float'>}\n",
      "{'radio': <class 'float'>, 'return': <class 'float'>}\n",
      "<class 'int'>\n",
      "<class 'int'>\n"
     ]
    }
   ],
   "source": [
    "# Podemos inspeccionar las variables y constantes \n",
    "\n",
    "print(__annotations__)\n",
    "print(area_circulo.__annotations__)\n",
    "\n",
    "print(__annotations__[\"n\"])\n",
    "print(type(n))"
   ]
  },
  {
   "cell_type": "markdown",
   "metadata": {},
   "source": [
    "### Las anotaciones de tipos no se comprueban\n",
    "\n",
    "Las anotaciones de tipos únicamente especifican el tipo de las variables y el tipo que se espera de los parámetros y resultados de las funciones. Pero únicamente tienen un valor indicativo, pues Python no las tiene en cuenta en realidad, y **no hace las comprobaciones de tipos**."
   ]
  },
  {
   "cell_type": "code",
   "execution_count": 3,
   "metadata": {},
   "outputs": [
    {
     "name": "stdout",
     "output_type": "stream",
     "text": [
      "50\n",
      "50.0\n",
      "5555555555\n",
      "[1, 2, 3, 1, 2, 3, 1, 2, 3, 1, 2, 3, 1, 2, 3, 1, 2, 3, 1, 2, 3, 1, 2, 3, 1, 2, 3, 1, 2, 3]\n",
      "345345345345345345345345345345\n"
     ]
    }
   ],
   "source": [
    "def diez_veces(n: int) -> int:\n",
    "    return n*10\n",
    "\n",
    "print(diez_veces(5))\n",
    "print(diez_veces(5.0))\n",
    "print(diez_veces(\"5\"))\n",
    "print(diez_veces([1, 2, 3]))\n",
    "\n",
    "n: int = \"345\"\n",
    "print(diez_veces(n))"
   ]
  },
  {
   "cell_type": "markdown",
   "metadata": {},
   "source": [
    "Podríamos hacer incluso anotaciones incoherentes y Python no las detectaría hasta que se produjera un error,\n",
    "esto es, en tiempo de ejecución:"
   ]
  },
  {
   "cell_type": "code",
   "execution_count": 4,
   "metadata": {},
   "outputs": [
    {
     "name": "stdout",
     "output_type": "stream",
     "text": [
      "9\n"
     ]
    },
    {
     "ename": "TypeError",
     "evalue": "unsupported operand type(s) for +: 'int' and 'str'",
     "output_type": "error",
     "traceback": [
      "\u001b[1;31m---------------------------------------------------------------------------\u001b[0m",
      "\u001b[1;31mTypeError\u001b[0m                                 Traceback (most recent call last)",
      "Input \u001b[1;32mIn [4]\u001b[0m, in \u001b[0;36m<cell line: 5>\u001b[1;34m()\u001b[0m\n\u001b[0;32m      2\u001b[0m     \u001b[38;5;28;01mreturn\u001b[39;00m a\u001b[38;5;241m+\u001b[39mb\n\u001b[0;32m      4\u001b[0m \u001b[38;5;28mprint\u001b[39m(suma(\u001b[38;5;241m4\u001b[39m, \u001b[38;5;241m5\u001b[39m))\n\u001b[1;32m----> 5\u001b[0m \u001b[38;5;28mprint\u001b[39m(\u001b[43msuma\u001b[49m\u001b[43m(\u001b[49m\u001b[38;5;241;43m4\u001b[39;49m\u001b[43m,\u001b[49m\u001b[43m \u001b[49m\u001b[38;5;124;43m\"\u001b[39;49m\u001b[38;5;124;43mcaracol\u001b[39;49m\u001b[38;5;124;43m\"\u001b[39;49m\u001b[43m)\u001b[49m)\n",
      "Input \u001b[1;32mIn [4]\u001b[0m, in \u001b[0;36msuma\u001b[1;34m(a, b)\u001b[0m\n\u001b[0;32m      1\u001b[0m \u001b[38;5;28;01mdef\u001b[39;00m \u001b[38;5;21msuma\u001b[39m(a: \u001b[38;5;28mint\u001b[39m, b: \u001b[38;5;28mstr\u001b[39m) \u001b[38;5;241m-\u001b[39m\u001b[38;5;241m>\u001b[39m \u001b[38;5;28mint\u001b[39m:\n\u001b[1;32m----> 2\u001b[0m     \u001b[38;5;28;01mreturn\u001b[39;00m \u001b[43ma\u001b[49m\u001b[38;5;241;43m+\u001b[39;49m\u001b[43mb\u001b[49m\n",
      "\u001b[1;31mTypeError\u001b[0m: unsupported operand type(s) for +: 'int' and 'str'"
     ]
    }
   ],
   "source": [
    "def suma(a: int, b: str) -> int:\n",
    "    return a+b\n",
    "\n",
    "print(suma(4, 5))\n",
    "print(suma(4, \"caracol\"))"
   ]
  },
  {
   "cell_type": "markdown",
   "metadata": {},
   "source": [
    "### Anotaciones con identificadores estándar"
   ]
  },
  {
   "cell_type": "markdown",
   "metadata": {},
   "source": [
    "Podemos usar como anotaciones los nombres de los tipos predefinidos: `int`, `float`, `complex`, `str`, `bool`, `tuple`, `list`, `dict`:"
   ]
  },
  {
   "cell_type": "code",
   "execution_count": 5,
   "metadata": {},
   "outputs": [
    {
     "name": "stdout",
     "output_type": "stream",
     "text": [
      "7 2.71828 (1-5j) True\n",
      "El lagarto está llorando, la lagarta está llorando...\n",
      "(2, 3) [1, 2, 3]\n",
      "{'C': 34, 'A': 23}\n",
      "..................................\n",
      "n: ->  <class 'int'>\n",
      "e: ->  <class 'int'>\n",
      "z: ->  <class 'int'>\n",
      "afirmativo: ->  <class 'bool'>\n",
      "frase: ->  <class 'str'>\n",
      "par: ->  <class 'tuple'>\n",
      "lista: ->  <class 'list'>\n",
      "dicc: ->  <class 'dict'>\n"
     ]
    }
   ],
   "source": [
    "n: int = 7\n",
    "e: float = 2.71828\n",
    "z: complex = 1-5.0j\n",
    "afirmativo: bool = True\n",
    "frase: str = \"El lagarto está llorando, la lagarta está llorando...\"\n",
    "par: tuple = (2, 3)\n",
    "lista: list = [1, 2, 3]\n",
    "dicc: dict = {\"C\": 34, \"A\": 23}\n",
    "\n",
    "print(n, e, z, afirmativo)\n",
    "print(frase)\n",
    "print(par, lista)\n",
    "print(dicc)\n",
    "\n",
    "print(\"..................................\")\n",
    "\n",
    "tipos = __annotations__\n",
    "print(\"n: -> \", tipos[\"n\"])\n",
    "print(\"e: -> \", tipos[\"n\"])\n",
    "print(\"z: -> \", tipos[\"n\"])\n",
    "print(\"afirmativo: -> \", tipos[\"afirmativo\"])\n",
    "print(\"frase: -> \", tipos[\"frase\"])\n",
    "print(\"par: -> \", tipos[\"par\"])\n",
    "print(\"lista: -> \", tipos[\"lista\"])\n",
    "print(\"dicc: -> \", tipos[\"dicc\"])"
   ]
  },
  {
   "cell_type": "markdown",
   "metadata": {},
   "source": [
    "También podemos introducir ad hoc nombres nuevos de tipos de datos inexistentes,\n",
    "a título informativo, o durante el proceso de desarrollo, de manera provisional,\n",
    "mientras definimos con mayor precisión un tipo de datos."
   ]
  },
  {
   "cell_type": "code",
   "execution_count": 6,
   "metadata": {},
   "outputs": [
    {
     "name": "stdout",
     "output_type": "stream",
     "text": [
      "{'n': 'tipo_a', 'm': <class 'list'>, 'return': 'tipo_c'}\n"
     ]
    }
   ],
   "source": [
    "def mi_fun(n: \"tipo_a\", m: list) -> \"tipo_c\":\n",
    "    return (n, m)\n",
    "\n",
    "print(mi_fun.__annotations__)"
   ]
  },
  {
   "cell_type": "markdown",
   "metadata": {},
   "source": [
    "### Anotaciones con clases definidas por el usuario"
   ]
  },
  {
   "cell_type": "markdown",
   "metadata": {},
   "source": [
    "También podemos usar anotaciones en los métodos de las clases definidas por el usuario,\n",
    "y también los identificadores de las clases:"
   ]
  },
  {
   "cell_type": "code",
   "execution_count": 7,
   "metadata": {},
   "outputs": [
    {
     "name": "stdout",
     "output_type": "stream",
     "text": [
      "<3, 4> <4.5, 6.0>\n",
      "{'v': <class '__main__.VectorR2'>, 'k': <class 'float'>, 'return': <class '__main__.VectorR2'>}\n"
     ]
    }
   ],
   "source": [
    "class VectorR2:\n",
    "    def __init__(self, x: float, y: float):\n",
    "        self._x = x\n",
    "        self._y = y\n",
    "    def __str__(self):\n",
    "        return \"<\" + str(self._x) + \", \" + str(self._y) + \">\"\n",
    "\n",
    "def alargar(v: VectorR2, k: float) -> VectorR2:\n",
    "    return VectorR2(v._x * k, v._y * k)\n",
    "\n",
    "u = VectorR2(3, 4)\n",
    "v = alargar(u, 1.5)\n",
    "\n",
    "print(u, v)\n",
    "\n",
    "print(alargar.__annotations__)"
   ]
  },
  {
   "cell_type": "markdown",
   "metadata": {},
   "source": [
    "### Anotaciones con estructuras de datos definidas por el usuario"
   ]
  },
  {
   "cell_type": "markdown",
   "metadata": {},
   "source": [
    "En las estructuras de datos, se pueden dar también, opcionalmente, los tipos de sus componentes.\n",
    "Hay costumbre de usar distintos tipos de notación, aunque la verdad es que esta notación no es estándar, y existen otras propuestas alternativas para detallar los tipos de las estucturas de datos con los de sus componentes."
   ]
  },
  {
   "cell_type": "code",
   "execution_count": 8,
   "metadata": {},
   "outputs": [
    {
     "name": "stdout",
     "output_type": "stream",
     "text": [
      "[1, 2, 3] (2, 'dos') {1, 2, 3} {'C': 34, 'A': 23}\n",
      "[<class 'int'>]\n",
      "(<class 'int'>, <class 'str'>)\n",
      "{<class 'int'>}\n",
      "{<class 'str'>: <class 'int'>}\n"
     ]
    }
   ],
   "source": [
    "# OJO: esta notación no es estándar\n",
    "\n",
    "b: [int] = [1, 2, 3]\n",
    "par: (int, str) = (2, \"dos\")\n",
    "conj: {int} = {1, 2, 3}\n",
    "dicc: {str: int} = {\"C\": 34, \"A\": 23}\n",
    "\n",
    "print(b, par, conj, dicc)\n",
    "print(__annotations__[\"b\"])\n",
    "print(__annotations__[\"par\"])\n",
    "print(__annotations__[\"conj\"])\n",
    "print(__annotations__[\"dicc\"])"
   ]
  },
  {
   "cell_type": "code",
   "execution_count": 9,
   "metadata": {},
   "outputs": [
    {
     "name": "stdout",
     "output_type": "stream",
     "text": [
      "[1, 2, 3] (2, 'dos') {1, 2, 3} {'C': 34, 'A': 23}\n",
      "list[int]\n",
      "tuple[int, str]\n",
      "{<class 'int'>}\n",
      "dict[str, int]\n"
     ]
    }
   ],
   "source": [
    "# OJO: la siguiente notación es más adecuada, pero tampoco es estándar:\n",
    "\n",
    "b: list[int] = [1, 2, 3]\n",
    "par: tuple[int, str] = (2, \"dos\")\n",
    "conj: set[int] = {1, 2, 3}\n",
    "dicc: dict[str, int] = {\"C\": 34, \"A\": 23}\n",
    "\n",
    "print(b, par, conj, dicc)\n",
    "print(__annotations__[\"b\"])\n",
    "print(__annotations__[\"par\"])\n",
    "print(__annotations__[\"conj\"])\n",
    "print(__annotations__[\"dicc\"])"
   ]
  },
  {
   "cell_type": "markdown",
   "metadata": {},
   "source": [
    "### Anotaciones  con `typing`"
   ]
  },
  {
   "cell_type": "markdown",
   "metadata": {},
   "source": [
    "las notaciones anteriores son adecuadas cuando no necesitamos que Python haga comprobaciones de tipos. Pero la siguiente es más completa, aunque tampoco realizan comprobaciones de tipos. Se llama `typing`, y antes usarla se debe instalar la librería:\n",
    "\n",
    "    ```pip install typing```\n",
    "\n",
    "Hecho esto, podemos usarla de manera muy sencilla:"
   ]
  },
  {
   "cell_type": "code",
   "execution_count": 10,
   "metadata": {},
   "outputs": [
    {
     "name": "stdout",
     "output_type": "stream",
     "text": [
      "[1, 2, 3] (2, 'dos') {1, 2, 3} {'C': 34, 'A': 23}\n",
      "typing.List[int]\n",
      "typing.Tuple[int, str]\n",
      "typing.Set[int]\n",
      "typing.Dict[str, int]\n"
     ]
    }
   ],
   "source": [
    "from typing import List, Tuple, Dict, Set\n",
    "\n",
    "b: List[int] = [1, 2, 3]\n",
    "par: Tuple[int, str] = (2, \"dos\")\n",
    "conj: Set[int] = {1, 2, 3}\n",
    "dicc: Dict[str, int] = {\"C\": 34, \"A\": 23}\n",
    "\n",
    "print(b, par, conj, dicc)\n",
    "print(__annotations__[\"b\"])\n",
    "print(__annotations__[\"par\"])\n",
    "print(__annotations__[\"conj\"])\n",
    "print(__annotations__[\"dicc\"])"
   ]
  },
  {
   "cell_type": "markdown",
   "metadata": {},
   "source": [
    "He aquí un ejemplo de estructuras algo más complejas, anidando construcciones:"
   ]
  },
  {
   "cell_type": "code",
   "execution_count": 11,
   "metadata": {},
   "outputs": [
    {
     "name": "stdout",
     "output_type": "stream",
     "text": [
      "typing.List[typing.Tuple[str, float, typing.Set[str]]]\n"
     ]
    }
   ],
   "source": [
    "# Tipos de estructuras complejas:\n",
    "\n",
    "perros: List[Tuple[str, float, Set[str]]] = \\\n",
    "    [(\"Pipo\", 0.75, {\"caminar\", \"perseguir pájaros\", \"caramelos\"}),\n",
    "     (\"Blacky\", 0.35, {\"dormir\", \"morder otros perros\", \"sus chuches\"})]\n",
    "\n",
    "print(__annotations__[\"perros\"])"
   ]
  },
  {
   "cell_type": "markdown",
   "metadata": {},
   "source": [
    "Los tipos de datos pueden nombrarse mediante *alias* de tipos,\n",
    "que no son más que identificadores de tipos definidos por el usuario,\n",
    "ya sea por tratarse de estructuras de datos más complejas\n",
    "o para facilitar la lectura de un programa."
   ]
  },
  {
   "cell_type": "code",
   "execution_count": 12,
   "metadata": {},
   "outputs": [
    {
     "name": "stdout",
     "output_type": "stream",
     "text": [
      "typing.List[typing.Tuple[str, float, typing.Set[str]]]\n",
      "{'p': typing.Tuple[str, float, typing.Set[str]], 'return': <class 'float'>}\n"
     ]
    }
   ],
   "source": [
    "TipoPerro = Tuple[str, float, Set[str]]\n",
    "ListaDePerros = List[TipoPerro]\n",
    "\n",
    "perros: ListaDePerros = \\\n",
    "    [(\"Pipo\", 0.75, {\"caminar\", \"perseguir pájaros\", \"caramelos\"}),\n",
    "     (\"Blacky\", 0.35, {\"dormir\", \"morder a otros perros\", \"sus chuches\"})]\n",
    "\n",
    "def estatura_perruna(p: TipoPerro) -> float:\n",
    "    return p[1]\n",
    "    \n",
    "print(__annotations__[\"perros\"])\n",
    "print(estatura_perruna.__annotations__)"
   ]
  },
  {
   "cell_type": "markdown",
   "metadata": {},
   "source": [
    "Pero sigue sin comprobar tipos, como ya decíamos:"
   ]
  },
  {
   "cell_type": "code",
   "execution_count": 13,
   "metadata": {},
   "outputs": [
    {
     "name": "stdout",
     "output_type": "stream",
     "text": [
      "typing.List[typing.Tuple[str, float, typing.Set[str]]]\n"
     ]
    }
   ],
   "source": [
    "p: ListaDePerros = [1, 2, 3]\n",
    "print(__annotations__[\"perros\"])"
   ]
  },
  {
   "cell_type": "markdown",
   "metadata": {},
   "source": [
    "Para la construcción de tipos, podemos usar una operación `Optional`y otra `Union`:"
   ]
  },
  {
   "cell_type": "code",
   "execution_count": 14,
   "metadata": {},
   "outputs": [
    {
     "name": "stdout",
     "output_type": "stream",
     "text": [
      "{'a': <class 'int'>, 'b': <class 'int'>, 'return': typing.Optional[float]}\n",
      "3\n",
      "None\n"
     ]
    }
   ],
   "source": [
    "# Tipo Opcional:\n",
    "\n",
    "from typing import Optional\n",
    "\n",
    "MaybeFloat = Optional[float]\n",
    "\n",
    "def divide(a: int, b: int) -> MaybeFloat:\n",
    "    if  b != 0:\n",
    "        return a / b\n",
    "    \n",
    "print(divide.__annotations__)\n",
    "print(divide(6, 2))\n",
    "print(divide(6, 0))"
   ]
  },
  {
   "cell_type": "code",
   "execution_count": 15,
   "metadata": {},
   "outputs": [
    {
     "name": "stdout",
     "output_type": "stream",
     "text": [
      "-1.0\n",
      "None\n",
      "Infinitas soluciones\n"
     ]
    }
   ],
   "source": [
    "# Tipo Unión:\n",
    "\n",
    "from typing import Union\n",
    "\n",
    "SolucionesEcuacion = Union[float, str, None]\n",
    "\n",
    "def solve_ec_1_grado(a: float, b: float) -> SolucionesEcuacion:\n",
    "    # solución de una ecuación de la forma ax + b = 0\n",
    "    if a == 0:\n",
    "        if b == 0:\n",
    "            return \"Infinitas soluciones\"\n",
    "        else:\n",
    "            return None # No tiene solución\n",
    "    else: # a != 0\n",
    "        return -b/a\n",
    "\n",
    "print(solve_ec_1_grado(2, 2))\n",
    "print(solve_ec_1_grado(0, 2))\n",
    "print(solve_ec_1_grado(0, 0))"
   ]
  },
  {
   "cell_type": "markdown",
   "metadata": {},
   "source": [
    "Para funciones como parámetros o resultados, tenemos el constructor de tipos `Callable`:"
   ]
  },
  {
   "cell_type": "code",
   "execution_count": 16,
   "metadata": {},
   "outputs": [
    {
     "name": "stdout",
     "output_type": "stream",
     "text": [
      "64\n"
     ]
    }
   ],
   "source": [
    "from typing import Callable\n",
    "\n",
    "Fun_R_R = Callable[[float], float]\n",
    "\n",
    "def composition(f: Fun_R_R, g: Fun_R_R) -> Fun_R_R:\n",
    "    return lambda x: f(g(x))\n",
    "\n",
    "fg = composition(lambda x: x**2, lambda x: x+1)\n",
    "print(fg(7))"
   ]
  },
  {
   "cell_type": "markdown",
   "metadata": {},
   "source": [
    "### Comprobación de tipos de datos con `mypy`\n",
    "\n",
    "Una herramienta muy útil de comprobación de tipos es `mypy`. Antes usarla se debe instalar la librería:\n",
    "\n",
    "    ```pip install mypy```\n",
    "\n",
    "Hecho esto, podemos usarla de manera muy sencilla:"
   ]
  },
  {
   "cell_type": "code",
   "execution_count": 17,
   "metadata": {},
   "outputs": [
    {
     "name": "stdout",
     "output_type": "stream",
     "text": [
      "Overwriting diez_bien.py\n"
     ]
    }
   ],
   "source": [
    "%%writefile diez_bien.py\n",
    "\n",
    "def diez_veces(n: int) -> int:\n",
    "    return n*10\n",
    "\n",
    "n: int = 345\n",
    "print(n)"
   ]
  },
  {
   "cell_type": "code",
   "execution_count": 18,
   "metadata": {},
   "outputs": [
    {
     "name": "stdout",
     "output_type": "stream",
     "text": [
      "Success: no issues found in 1 source file\n"
     ]
    }
   ],
   "source": [
    "! mypy diez_bien.py"
   ]
  },
  {
   "cell_type": "code",
   "execution_count": 19,
   "metadata": {},
   "outputs": [
    {
     "name": "stdout",
     "output_type": "stream",
     "text": [
      "Overwriting diez_mal.py\n"
     ]
    }
   ],
   "source": [
    "%%writefile diez_mal.py\n",
    "\n",
    "def diez_veces(n: int) -> int:\n",
    "    return n*10\n",
    "\n",
    "n: int = \"345\"\n",
    "print(n)"
   ]
  },
  {
   "cell_type": "code",
   "execution_count": 20,
   "metadata": {},
   "outputs": [
    {
     "name": "stdout",
     "output_type": "stream",
     "text": [
      "diez_mal.py:5: error: Incompatible types in assignment (expression has type \"str\", variable has type \"int\")  [assignment]\n",
      "Found 1 error in 1 file (checked 1 source file)\n"
     ]
    }
   ],
   "source": [
    "! mypy diez_mal.py"
   ]
  },
  {
   "cell_type": "code",
   "execution_count": 21,
   "metadata": {},
   "outputs": [
    {
     "name": "stdout",
     "output_type": "stream",
     "text": [
      "Overwriting estructuras_arbitrarias_1.py\n"
     ]
    }
   ],
   "source": [
    "%%writefile estructuras_arbitrarias_1.py\n",
    "\n",
    "def suma_lista(lista: [int]) -> int:\n",
    "    return sum(lista)"
   ]
  },
  {
   "cell_type": "code",
   "execution_count": 22,
   "metadata": {},
   "outputs": [
    {
     "name": "stdout",
     "output_type": "stream",
     "text": [
      "estructuras_arbitrarias_1.py:2: error: Bracketed expression \"[...]\" is not valid as a type  [valid-type]\n",
      "estructuras_arbitrarias_1.py:2: note: Did you mean \"List[...]\"?\n",
      "Found 1 error in 1 file (checked 1 source file)\n"
     ]
    }
   ],
   "source": [
    "! mypy estructuras_arbitrarias_1.py"
   ]
  },
  {
   "cell_type": "code",
   "execution_count": 23,
   "metadata": {},
   "outputs": [
    {
     "name": "stdout",
     "output_type": "stream",
     "text": [
      "Overwriting estructuras_arbitrarias_2.py\n"
     ]
    }
   ],
   "source": [
    "%%writefile estructuras_arbitrarias_2.py\n",
    "\n",
    "def suma_lista(lista: list[int]) -> int:\n",
    "    return sum(lista)"
   ]
  },
  {
   "cell_type": "code",
   "execution_count": 24,
   "metadata": {},
   "outputs": [
    {
     "name": "stdout",
     "output_type": "stream",
     "text": [
      "Success: no issues found in 1 source file\n"
     ]
    }
   ],
   "source": [
    "! mypy estructuras_arbitrarias_2.py"
   ]
  },
  {
   "cell_type": "code",
   "execution_count": 25,
   "metadata": {},
   "outputs": [
    {
     "name": "stdout",
     "output_type": "stream",
     "text": [
      "Overwriting estructuras_arbitrarias_3.py\n"
     ]
    }
   ],
   "source": [
    "%%writefile estructuras_arbitrarias_3.py\n",
    "\n",
    "from typing import List\n",
    "\n",
    "def suma_lista(lista: List[int]) -> int:\n",
    "    return sum(lista)"
   ]
  },
  {
   "cell_type": "code",
   "execution_count": 26,
   "metadata": {},
   "outputs": [
    {
     "name": "stdout",
     "output_type": "stream",
     "text": [
      "Success: no issues found in 1 source file\n"
     ]
    }
   ],
   "source": [
    "! mypy estructuras_arbitrarias_3.py"
   ]
  },
  {
   "cell_type": "code",
   "execution_count": 27,
   "metadata": {},
   "outputs": [
    {
     "name": "stdout",
     "output_type": "stream",
     "text": [
      "Overwriting estructuras_arbitrarias_4.py\n"
     ]
    }
   ],
   "source": [
    "%%writefile estructuras_arbitrarias_4.py\n",
    "\n",
    "def primero(par: tuple[int, str]) -> int:\n",
    "    x, _ = par\n",
    "    return x"
   ]
  },
  {
   "cell_type": "code",
   "execution_count": 28,
   "metadata": {},
   "outputs": [
    {
     "name": "stdout",
     "output_type": "stream",
     "text": [
      "Success: no issues found in 1 source file\n"
     ]
    }
   ],
   "source": [
    "! mypy estructuras_arbitrarias_4.py"
   ]
  },
  {
   "cell_type": "code",
   "execution_count": 29,
   "metadata": {},
   "outputs": [
    {
     "name": "stdout",
     "output_type": "stream",
     "text": [
      "Overwriting estructuras_arbitrarias_5.py\n"
     ]
    }
   ],
   "source": [
    "%%writefile estructuras_arbitrarias_5.py\n",
    "\n",
    "from typing import List, Tuple, Set\n",
    "\n",
    "TipoPerro = Tuple[str, float, Set[str]]\n",
    "ListaDePerros = List[TipoPerro]\n",
    "\n",
    "perros: ListaDePerros = \\\n",
    "    [(\"Pipo\", 0.75, {\"caminar\", \"perseguir pájaros\", \"caramelos\"}),\n",
    "     (\"Blacky\", 0.35, {\"dormir\", \"morder otros perros\", \"sus chuches\"})]\n",
    "\n",
    "def estatura_perruna(p: TipoPerro) -> float:\n",
    "    return p[1]"
   ]
  },
  {
   "cell_type": "code",
   "execution_count": 30,
   "metadata": {},
   "outputs": [
    {
     "name": "stdout",
     "output_type": "stream",
     "text": [
      "Success: no issues found in 1 source file\n"
     ]
    }
   ],
   "source": [
    "! mypy estructuras_arbitrarias_5.py"
   ]
  },
  {
   "cell_type": "code",
   "execution_count": 31,
   "metadata": {},
   "outputs": [
    {
     "name": "stdout",
     "output_type": "stream",
     "text": [
      "Overwriting estructuras_arbitrarias_6.py\n"
     ]
    }
   ],
   "source": [
    "%%writefile estructuras_arbitrarias_6.py\n",
    "\n",
    "from typing import List, Any\n",
    "\n",
    "Array_22 = Any # [[int]]\n",
    "\n",
    "def suma_diag(vector: Array_22) -> int:\n",
    "    return vector[0][0] + vector[1][1]\n",
    "\n",
    "# Más tarde podemos quizá ofrecer un tipo más específico\n",
    "\n",
    "ArrayList_22 = List[List[int]]\n",
    "\n",
    "def suma_diag_2(vector: ArrayList_22) -> int:\n",
    "    return vector[0][0] + vector[1][1]"
   ]
  },
  {
   "cell_type": "code",
   "execution_count": 32,
   "metadata": {},
   "outputs": [
    {
     "name": "stdout",
     "output_type": "stream",
     "text": [
      "Success: no issues found in 1 source file\n"
     ]
    }
   ],
   "source": [
    "! mypy estructuras_arbitrarias_6.py"
   ]
  },
  {
   "cell_type": "code",
   "execution_count": 33,
   "metadata": {},
   "outputs": [
    {
     "name": "stdout",
     "output_type": "stream",
     "text": [
      "Overwriting estructuras_arbitrarias_7.py\n"
     ]
    }
   ],
   "source": [
    "%%writefile estructuras_arbitrarias_7.py\n",
    "\n",
    "import numpy as np\n",
    "\n",
    "MiniEntero = np.int8\n",
    "\n",
    "def doble(n: MiniEntero) -> MiniEntero:\n",
    "    return MiniEntero(2*n)\n",
    "\n",
    "a = np.int8(100)\n",
    "print(type(a))  # <class 'numpy.int8'>\n",
    "print(doble(a)) # -56, la explicación requiere conocer la representación de los enteros en complemento a dos"
   ]
  },
  {
   "cell_type": "code",
   "execution_count": 34,
   "metadata": {},
   "outputs": [
    {
     "name": "stdout",
     "output_type": "stream",
     "text": [
      "Success: no issues found in 1 source file\n"
     ]
    }
   ],
   "source": [
    "! mypy estructuras_arbitrarias_7.py"
   ]
  },
  {
   "cell_type": "markdown",
   "metadata": {},
   "source": [
    "### Valoración final y referencias\n",
    "\n",
    "Las anotaciones de tipos son útiles incluso cuando no se use una herramienta de chequeo. En resumen, hacen el código más legible, para quien programa y para quienes leen el código en otro momento. Por lo tanto, se facilita también el mantenimiento\n",
    "de los programas.\n",
    "\n",
    "En multitud de lugares puede leerse más información sobre las anotaciones en Python, así como las ventajas de \n",
    "adoptar la costumbre de anotar el código diseñado:\n",
    "\n",
    "    - https://florimond.dev/en/posts/2018/07/why-i-started-using-python-type-annotations-and-why-you-should-too/\n",
    "    - https://towardsdatascience.com/type-annotations-in-python-d90990b172dc\n",
    "    - https://peps.python.org/pep-0484/"
   ]
  }
 ],
 "metadata": {
  "kernelspec": {
   "display_name": "master_ucm",
   "language": "python",
   "name": "python3"
  },
  "language_info": {
   "codemirror_mode": {
    "name": "ipython",
    "version": 3
   },
   "file_extension": ".py",
   "mimetype": "text/x-python",
   "name": "python",
   "nbconvert_exporter": "python",
   "pygments_lexer": "ipython3",
   "version": "3.11.11"
  }
 },
 "nbformat": 4,
 "nbformat_minor": 1
}
