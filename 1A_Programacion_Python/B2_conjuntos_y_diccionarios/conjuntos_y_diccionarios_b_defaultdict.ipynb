{
 "cells": [
  {
   "cell_type": "markdown",
   "metadata": {},
   "source": [
    "# Diccionarios con valores por defecto\n",
    "\n",
    "Este script contiene unas notas breves y provisionales sobre este tema, por si facilita el uso de esta importante estructura de Python. Se agradece todo comentario hasta que pueda darlo por bueno.\n",
    "\n",
    "<hr>"
   ]
  },
  {
   "cell_type": "markdown",
   "metadata": {},
   "source": [
    "## Un ejemplo inicial\n",
    "\n",
    "Los diccionarios se usan con frecuencia como colecciones de acumuladores. Ejemplo:\n",
    "\n",
    "    Contabilizar cuántas veces aparece cada letra de un texto\n",
    "\n",
    "Para cada letra, tendremos un contador. Hagámoslo con diccionarios convencionales."
   ]
  },
  {
   "cell_type": "code",
   "execution_count": 1,
   "metadata": {},
   "outputs": [
    {
     "name": "stdout",
     "output_type": "stream",
     "text": [
      "{'U': 1, 'n': 17, 'g': 6, 'o': 22, 'l': 15, 'p': 4, 'e': 30, 'c': 9, 'i': 15, 't': 9, 'r': 14, 's': 13, 'a': 24, 'm': 6, 'h': 2, 'u': 10, 'b': 3, 'd': 10, 'y': 3, 'z': 1, 'v': 3, 'f': 2, 'q': 1, 'x': 1}\n"
     ]
    }
   ],
   "source": [
    "# Con un diccionario clásico:\n",
    "\n",
    "def cuenta_letras(texto):\n",
    "    contadores = dict()\n",
    "    for car in texto:\n",
    "        if car.isalpha():\n",
    "            if car in contadores:\n",
    "                contadores[car] = contadores[car] + 1\n",
    "            else:\n",
    "                contadores[car] = 1\n",
    "    return contadores\n",
    "    \n",
    "lluvia_proust = \"\"\"\n",
    "Un golpecito en el cristal, como si hubiesen tirado algo;\n",
    "luego un caer ligero y amplio, como de granos de arena lanzados desde una ventana de arriba,\n",
    "y por fin, ese caer que se extiende, toma reglas, adopta un ritmo\n",
    "y se hace fluido, sonoro, musical, incontable, universal: llueve.\"    \n",
    "\"\"\"\n",
    "\n",
    "frecuencias = cuenta_letras(lluvia_proust)\n",
    "print(frecuencias)"
   ]
  },
  {
   "cell_type": "code",
   "execution_count": 2,
   "metadata": {},
   "outputs": [
    {
     "name": "stdout",
     "output_type": "stream",
     "text": [
      "24\n"
     ]
    },
    {
     "ename": "KeyError",
     "evalue": "'w'",
     "output_type": "error",
     "traceback": [
      "\u001b[1;31m---------------------------------------------------------------------------\u001b[0m",
      "\u001b[1;31mKeyError\u001b[0m                                  Traceback (most recent call last)",
      "Cell \u001b[1;32mIn[2], line 4\u001b[0m\n\u001b[0;32m      1\u001b[0m \u001b[38;5;66;03m# Dos comprobaciones más:\u001b[39;00m\n\u001b[0;32m      3\u001b[0m \u001b[38;5;28mprint\u001b[39m(frecuencias[\u001b[38;5;124m\"\u001b[39m\u001b[38;5;124ma\u001b[39m\u001b[38;5;124m\"\u001b[39m])\n\u001b[1;32m----> 4\u001b[0m \u001b[38;5;28mprint\u001b[39m(frecuencias[\u001b[38;5;124m\"\u001b[39m\u001b[38;5;124mw\u001b[39m\u001b[38;5;124m\"\u001b[39m])\n",
      "\u001b[1;31mKeyError\u001b[0m: 'w'"
     ]
    }
   ],
   "source": [
    "# Dos comprobaciones más:\n",
    "\n",
    "print(frecuencias[\"a\"])\n",
    "print(frecuencias[\"w\"])"
   ]
  },
  {
   "cell_type": "markdown",
   "metadata": {},
   "source": [
    "En efecto: la `z` no está presente en el texto y por lo tanto, tampoco en el diccionario. Por eso obtenemos un error al consultar su frecuencia.\n",
    "\n",
    "En un *defaultdict*, un diccionario por defecto, se asigna un valor por defecto a los elementos ausentes. Esto tiene dos consecuencias. Para comentarlas, sigo refiriéndome a nuestro ejemplo de las letras.\n",
    "\n",
    "1. Cuando se realiza el recorrido. Al realizar la contabilidad, no hace falta comprobar previamente si está la letra ya en el diccionario. El valor \"inexistente\" se tomará como el valor \"por defecto\", esto es, un cero.\n",
    "\n",
    "Comprobemos esto:"
   ]
  },
  {
   "cell_type": "code",
   "execution_count": 3,
   "metadata": {},
   "outputs": [
    {
     "name": "stdout",
     "output_type": "stream",
     "text": [
      "defaultdict(<class 'int'>, {'U': 1, 'n': 17, 'g': 6, 'o': 22, 'l': 15, 'p': 4, 'e': 30, 'c': 9, 'i': 15, 't': 9, 'r': 14, 's': 13, 'a': 24, 'm': 6, 'h': 2, 'u': 10, 'b': 3, 'd': 10, 'y': 3, 'z': 1, 'v': 3, 'f': 2, 'q': 1, 'x': 1})\n"
     ]
    }
   ],
   "source": [
    "# Con un diccionario con valores por defecto:\n",
    "\n",
    "from collections import defaultdict\n",
    "\n",
    "def cuenta_letras(texto):\n",
    "    contadores = defaultdict(int) # int pone el valor por defecto a cero\n",
    "    for car in texto:\n",
    "        if car.isalpha():\n",
    "            contadores[car] = contadores[car] + 1\n",
    "    return contadores\n",
    "    \n",
    "lluvia_proust = \"\"\"\n",
    "Un golpecito en el cristal, como si hubiesen tirado algo;\n",
    "luego un caer ligero y amplio, como de granos de arena lanzados desde una ventana de arriba,\n",
    "y por fin, ese caer que se extiende, toma reglas, adopta un ritmo\n",
    "y se hace fluido, sonoro, musical, incontable, universal: llueve.\"    \n",
    "\"\"\"\n",
    "\n",
    "frecuencias = cuenta_letras(lluvia_proust)\n",
    "print(frecuencias)"
   ]
  },
  {
   "cell_type": "markdown",
   "metadata": {},
   "source": [
    "Y otra consecuencia:\n",
    "\n",
    "2. Cuando se consulta un valor inexistente del diccionario, no se pruduce un error, sino que se añade al diccionario con el valor por defecto.\n",
    "\n",
    "Comprobemos esto:"
   ]
  },
  {
   "cell_type": "code",
   "execution_count": 4,
   "metadata": {},
   "outputs": [
    {
     "name": "stdout",
     "output_type": "stream",
     "text": [
      "defaultdict(<class 'int'>, {})\n",
      "0\n",
      "defaultdict(<class 'int'>, {'nuevo': 0})\n"
     ]
    }
   ],
   "source": [
    "mi_dic = defaultdict(int)\n",
    "print(mi_dic)\n",
    "print(mi_dic[\"nuevo\"])\n",
    "print(mi_dic)"
   ]
  },
  {
   "cell_type": "markdown",
   "metadata": {},
   "source": [
    "## Otros valores por defecto\n",
    "\n",
    "Con enteros, hemos usado `int` para representar el `0` como valor por defecto. Igualmente:\n",
    "Con reales, `float`representa `0.0`.\n",
    "Con listas, `list` representa `[]`.\n",
    "Con conjuntos, `set` representa `{}`."
   ]
  },
  {
   "cell_type": "code",
   "execution_count": 5,
   "metadata": {},
   "outputs": [
    {
     "name": "stdout",
     "output_type": "stream",
     "text": [
      "defaultdict(<class 'list'>, {})\n",
      "defaultdict(<class 'list'>, {'consonante': ['s', 'p', 'r', 'c', 'l', 'f', 'r', 'g', 'l', 's', 't', 'c', 'x', 'p', 'l', 'd', 's'], 'vocales': ['u', 'e', 'a', 'i', 'a', 'i', 'i', 'i', 'o', 'e', 'i', 'a', 'i', 'o', 'o']})\n",
      "defaultdict(<class 'set'>, {})\n",
      "defaultdict(<class 'set'>, {'consonante': {'f', 'l', 'p', 'd', 's', 'g', 't', 'r', 'x', 'c'}, 'vocales': {'a', 'u', 'i', 'o', 'e'}})\n"
     ]
    }
   ],
   "source": [
    "# Con listas:\n",
    "\n",
    "dic_letras = defaultdict(list)\n",
    "print(dic_letras)\n",
    "\n",
    "for letra in \"supercalifragilisticoexpialidoso\":\n",
    "    if letra in \"aeiou\":\n",
    "        dic_letras[\"vocales\"].append(letra)\n",
    "    else:\n",
    "        dic_letras[\"consonante\"].append(letra)\n",
    "\n",
    "print(dic_letras)\n",
    "\n",
    "# Con conjuntos:\n",
    "\n",
    "dic_letras = defaultdict(set)\n",
    "print(dic_letras)\n",
    "\n",
    "for letra in \"supercalifragilisticoexpialidoso\":\n",
    "    if letra in \"aeiou\":\n",
    "        dic_letras[\"vocales\"].add(letra)\n",
    "    else:\n",
    "        dic_letras[\"consonante\"].add(letra)\n",
    "\n",
    "print(dic_letras)"
   ]
  },
  {
   "cell_type": "markdown",
   "metadata": {},
   "source": [
    "## Defaultdict con defaultdict\n",
    "    \n",
    "Contabilicemos pares de letras consecutivas:"
   ]
  },
  {
   "cell_type": "code",
   "execution_count": 6,
   "metadata": {},
   "outputs": [
    {
     "name": "stdout",
     "output_type": "stream",
     "text": [
      "defaultdict(<class 'int'>, {})\n",
      "defaultdict(<class 'int'>, {('s', 'u'): 1, ('u', 'p'): 4, ('p', 'e'): 4, ('e', 'r'): 4, ('r', 'u'): 2, ('r', 'e'): 1, ('e', 'u'): 1, ('r', 'c'): 1, ('c', 'a'): 2, ('a', 'l'): 2, ('l', 'i'): 2, ('i', 'c'): 1, ('i', '.'): 1, ('.', '.'): 2, ('.', 'o'): 1, ('o', 's'): 7, ('s', 'o'): 7})\n"
     ]
    }
   ],
   "source": [
    "# Con tuplas:\n",
    "\n",
    "dic_pares_letras = defaultdict(int)\n",
    "print(dic_pares_letras)\n",
    "\n",
    "frase = \"superuperupereupercalicali...osososososososo\"\n",
    "for i in range(1, len(frase)):\n",
    "    pre, post = frase[i-1], frase[i]\n",
    "    dic_pares_letras[(pre, post)] += 1\n",
    "\n",
    "print(dic_pares_letras)"
   ]
  },
  {
   "cell_type": "code",
   "execution_count": 7,
   "metadata": {},
   "outputs": [
    {
     "name": "stdout",
     "output_type": "stream",
     "text": [
      "defaultdict(<function <lambda> at 0x0000025444D8F7E0>, {})\n",
      "defaultdict(<function <lambda> at 0x0000025444D8F7E0>, {'s': defaultdict(<class 'int'>, {'u': 1, 'o': 7}), 'u': defaultdict(<class 'int'>, {'p': 4}), 'p': defaultdict(<class 'int'>, {'e': 4}), 'e': defaultdict(<class 'int'>, {'r': 4, 'u': 1}), 'r': defaultdict(<class 'int'>, {'u': 2, 'e': 1, 'c': 1}), 'c': defaultdict(<class 'int'>, {'a': 2}), 'a': defaultdict(<class 'int'>, {'l': 2}), 'l': defaultdict(<class 'int'>, {'i': 2}), 'i': defaultdict(<class 'int'>, {'c': 1, '.': 1}), '.': defaultdict(<class 'int'>, {'.': 2, 'o': 1}), 'o': defaultdict(<class 'int'>, {'s': 7})})\n"
     ]
    }
   ],
   "source": [
    "# Con diccionarios de diccionarios:\n",
    "\n",
    "dic_pares_letras = defaultdict(lambda: defaultdict(int))\n",
    "print(dic_pares_letras)\n",
    "\n",
    "frase = \"superuperupereupercalicali...osososososososo\"\n",
    "for i in range(1, len(frase)):\n",
    "    pre, post = frase[i-1], frase[i]\n",
    "    dic_pares_letras[pre][post] += 1\n",
    "\n",
    "print(dic_pares_letras)"
   ]
  },
  {
   "cell_type": "markdown",
   "metadata": {},
   "source": [
    "O sea: tras la \"s\", viene la \"u\" una vez y la \"o\", siete veces..."
   ]
  }
 ],
 "metadata": {
  "kernelspec": {
   "display_name": "master_ucm",
   "language": "python",
   "name": "python3"
  },
  "language_info": {
   "codemirror_mode": {
    "name": "ipython",
    "version": 3
   },
   "file_extension": ".py",
   "mimetype": "text/x-python",
   "name": "python",
   "nbconvert_exporter": "python",
   "pygments_lexer": "ipython3",
   "version": "3.11.11"
  }
 },
 "nbformat": 4,
 "nbformat_minor": 1
}
