{
 "cells": [
  {
   "cell_type": "markdown",
   "metadata": {},
   "source": [
    "# Clases y Objetos\n",
    "\n",
    "En programación, un *objeto* es una estructura de datos que encapsula *datos*, ¡cómo no!, y las *operaciones* necesarias para trabajar con dicho objeto.\n",
    "\n",
    "Por ejemplo, la información sobre un *coche* concreto registra sus *datos* (posición, orientación, velocidad, etc.) más las posibles *operaciones* (encender el motor o apagarlo, acelerar o frenar, girar, saber la velocidad, etc.):\n",
    "\n",
    "* Coche:\n",
    "    + Estado:\n",
    "        - posición\n",
    "        - orientación\n",
    "        - velocidad\n",
    "        - etc.\n",
    "    + Operaciones:\n",
    "        - encender el motor o apagarlo\n",
    "        - acelerar o frenar\n",
    "        - girar\n",
    "        - saber la velocidad\n",
    "        - etc.\n",
    "\n",
    "En el mundo de la programación orientada a objetos, el conjunto de los datos de un objeto se llama su *estado*, y cada uno de dichos datos es un *atributo*. A las operaciones se les llama *métodos*.\n",
    "\n",
    "Otro ejemplo: la información sobre una *televisión* incluye su *estado* (esto es, sus datos: encendida o apagada, canal seleccionado, volumen, etc.), y las *operaciones* posibles (encenderla o apagarla, cambiar el volumen o el canal, consultar el volumen o el canal, etc.)\n",
    "\n",
    "Una cosa es la definición abstracta de una *clase* de objetos y otra cosa es *cada objeto* concreto de esa clase. A la descripción de un punto del plano genérico (por ejemplo, diciendo que los atributos serán sus dos coordenadas reales y que las operaciones serán unas u otras) se le llama *clase*. A cada punto concreto de dicha clase (por ejemplo, el de coordenadas (4.0, 5.0)) se le llama *objeto*.\n",
    "\n",
    "Vamos a detallar esta situación en Python."
   ]
  },
  {
   "cell_type": "markdown",
   "metadata": {},
   "source": [
    "## Ejemplo: la clase Punto\n",
    "\n",
    "Deseamos trabajar con objetos geométricos, y el más sencillo es el punto. Empezamos definiendo un punto en dos dimensiones; el tipo de datos correspondiente tiene sus dos coordenadas típicas.\n",
    "\n",
    "La manera de hacerlo en Python es la siguiente:"
   ]
  },
  {
   "cell_type": "code",
   "execution_count": 1,
   "metadata": {},
   "outputs": [],
   "source": [
    "class Point(object):\n",
    "    def __init__(self):\n",
    "        self.x = 0.0\n",
    "        self.y = 0.0"
   ]
  },
  {
   "cell_type": "code",
   "execution_count": 2,
   "metadata": {},
   "outputs": [
    {
     "name": "stdout",
     "output_type": "stream",
     "text": [
      "0.0 0.0\n",
      "4.0 5.0\n",
      "<class '__main__.Point'>\n"
     ]
    }
   ],
   "source": [
    "p0 = Point()\n",
    "p1 = Point()\n",
    "p1.x, p1.y = 4., 5.\n",
    "print (p0.x, p0.y)\n",
    "print (p1.x, p1.y)\n",
    "print(type(p0))"
   ]
  },
  {
   "cell_type": "markdown",
   "metadata": {},
   "source": [
    "Hemos definido la *clase* `Punto`, que es un objeto genérico, y esta definición nos ha permitido luego crear los *objetos* particulares `p0`y `p1`, variables que representan puntos concretos. Este objeto únicamente tiene de momento información, las coordenadas `x`e `y`. Estos datos definen la posición del punto, su *estado*, y cada uno de ellos es un *atributo* de la clase `Punto`.\n",
    "\n",
    "El método `__init__` se activa automáticamente cuando creamos un objeto de la clase `Point`. En nuestra definición, cada vez que creamos un punto nuevo, empieza teniendo sus dos coordenadas a cero.\n",
    "\n",
    "Para referirnos a los atributos, dentro de la clase, usamos el identificador `self`. El parámetro `self` del método `__init__` se refiere al propio objeto `Point`que se está definiendo.\n",
    "\n",
    "Cuando se crea un punto, se activa este método de inicialización y, en él, se crean los atributos `x`e `y`, inicialmente a cero."
   ]
  },
  {
   "cell_type": "markdown",
   "metadata": {},
   "source": [
    "Vamos a añadir una operación, para saber la distancia del punto al origen de coordenadas:"
   ]
  },
  {
   "cell_type": "code",
   "execution_count": 3,
   "metadata": {},
   "outputs": [
    {
     "name": "stdout",
     "output_type": "stream",
     "text": [
      "13.0\n"
     ]
    }
   ],
   "source": [
    "from math import sqrt, pi\n",
    "\n",
    "class Point(object):\n",
    "    def __init__(self):\n",
    "        self.x = 0.0\n",
    "        self.y = 0.0\n",
    "    def dist_origen(self):\n",
    "        return sqrt(self.x**2 + self.y**2)\n",
    "\n",
    "p = Point()\n",
    "p.x, p.y = 12.0, 5.0\n",
    "print(p.dist_origen())"
   ]
  },
  {
   "cell_type": "markdown",
   "metadata": {},
   "source": [
    "Acabamos de definir la primera operación, que se llama *método* en el mundo de la Programación Orientada a Objetos (POO)."
   ]
  },
  {
   "cell_type": "markdown",
   "metadata": {},
   "source": [
    "**Ejemplo** de uso de estos objetos. Podemos escribir una función que calcule la distancia entre dos entre dos puntos, esto esm entre dos objetos de la clase `Point`:"
   ]
  },
  {
   "cell_type": "code",
   "execution_count": 4,
   "metadata": {},
   "outputs": [],
   "source": [
    "from math import sqrt, pi\n",
    "\n",
    "def distancia(p0, p1):\n",
    "    return sqrt((p0.x - p1.x)**2 + (p0.y - p1.y)**2)"
   ]
  },
  {
   "cell_type": "markdown",
   "metadata": {},
   "source": [
    "Pongamos las anotaciones de tipo en eta función para mayor claridad:"
   ]
  },
  {
   "cell_type": "code",
   "execution_count": 5,
   "metadata": {},
   "outputs": [],
   "source": [
    "def distancia(p0: Point, p1: Point) -> float:\n",
    "    return sqrt((p0.x - p1.x)**2 + (p0.y - p1.y)**2)"
   ]
  },
  {
   "cell_type": "markdown",
   "metadata": {},
   "source": [
    "Con una función como ésta, es fácil discernir si cuatro Points forman un rectángulo. Con anotaciones de tipo:"
   ]
  },
  {
   "cell_type": "code",
   "execution_count": 6,
   "metadata": {},
   "outputs": [
    {
     "data": {
      "text/plain": [
       "True"
      ]
     },
     "execution_count": 6,
     "metadata": {},
     "output_type": "execute_result"
    }
   ],
   "source": [
    "def es_rectangulo(a: Point, b: Point, c: Point, d: Point) -> bool:\n",
    "    dab = distancia(a, b)\n",
    "    dac = distancia(a, c)\n",
    "    dad = distancia(a, d)\n",
    "    dbc = distancia(b, c)\n",
    "    dbd = distancia(b, d)\n",
    "    dcd = distancia(c, d)\n",
    "    return dab == dcd and dac == dbd and dad == dbc\n",
    "\n",
    "p0, p1, p2, p3 = Point(), Point(), Point(), Point()\n",
    "\n",
    "p0.x, p0.y = 0, 0\n",
    "p1.x, p1.y = 3, 1\n",
    "p2.x, p2.y = 0, 1\n",
    "p3.x, p3.y = 3, 0\n",
    "\n",
    "es_rectangulo(p0, p1, p2, p3)"
   ]
  },
  {
   "cell_type": "markdown",
   "metadata": {},
   "source": [
    "**Nota:** En realidad, la distancia entre Points debería definirse mejor como un *método* de la clase Point. Lo veremos más adelante."
   ]
  },
  {
   "cell_type": "markdown",
   "metadata": {},
   "source": [
    "## Métodos especiales \\_\\_init\\_\\_ y \\_\\_str\\_\\_ "
   ]
  },
  {
   "cell_type": "markdown",
   "metadata": {},
   "source": [
    "La definición anterior no permite definir más puntos que el (0, 0). Aunque luego se pueda cambiar, sería mejor poder definir un punto que, inicialmente, tenga la posición que se desee.\n",
    "\n",
    "Para ello, se debe utilizar el  *constructor* `__init__`, que es un método especializado en crear objetos con un determinado estado inicial:"
   ]
  },
  {
   "cell_type": "code",
   "execution_count": 7,
   "metadata": {},
   "outputs": [],
   "source": [
    "class Point(object):\n",
    "    \"\"\"\n",
    "    Point class. It represents 2D points.\n",
    "    \n",
    "    Attributes\n",
    "    ----------\n",
    "    x, y: float    # cartesian coordinates\n",
    "    \"\"\"\n",
    "    def __init__(self, px, py):\n",
    "        \"\"\"\n",
    "        Constructor\n",
    "        \n",
    "        Parameters\n",
    "        ----------\n",
    "        x: float\n",
    "        y: float\n",
    "        \"\"\"\n",
    "        self.x = px\n",
    "        self.y = py"
   ]
  },
  {
   "cell_type": "code",
   "execution_count": 8,
   "metadata": {},
   "outputs": [
    {
     "name": "stdout",
     "output_type": "stream",
     "text": [
      "3.1622776601683795\n",
      "True\n"
     ]
    }
   ],
   "source": [
    "p0, p1, p2, p3 = Point(0,0), Point(3,1), Point(0,1), Point(3,0)\n",
    "print(distancia(p0, p1))\n",
    "print(es_rectangulo(p0, p1, p2, p3))"
   ]
  },
  {
   "cell_type": "code",
   "execution_count": 9,
   "metadata": {},
   "outputs": [
    {
     "name": "stdout",
     "output_type": "stream",
     "text": [
      "<__main__.Point object at 0x000002B52A85FAD0>\n"
     ]
    },
    {
     "data": {
      "text/plain": [
       "<__main__.Point at 0x2b52a85fad0>"
      ]
     },
     "execution_count": 9,
     "metadata": {},
     "output_type": "execute_result"
    }
   ],
   "source": [
    "print(p0)\n",
    "p0"
   ]
  },
  {
   "cell_type": "markdown",
   "metadata": {},
   "source": [
    "Otro método especial es `__str__` que determina cómo se escriben (con `print`) los objetos de una clase:"
   ]
  },
  {
   "cell_type": "code",
   "execution_count": 10,
   "metadata": {},
   "outputs": [],
   "source": [
    "class Point(object):\n",
    "    \"\"\"\n",
    "    clase Point. It represents 2D points.\n",
    "    \n",
    "    Attributes\n",
    "    ----------\n",
    "    x, y: float    # cartesian coordinates\n",
    "    \"\"\"\n",
    "    def __init__(self, px, py):\n",
    "        \"\"\"\n",
    "        Constructor\n",
    "        \n",
    "        Parameters\n",
    "        ----------\n",
    "        x: float\n",
    "        y: float\n",
    "        \"\"\"\n",
    "        self.x = px\n",
    "        self.y = py\n",
    "        \n",
    "    def __str__(self):\n",
    "        \"\"\"\n",
    "        This method returns the string that represents a 2D point\n",
    "        \"\"\"\n",
    "        return '(́{0:.2f}, {1:.2f})'.format(self.x, self.y)"
   ]
  },
  {
   "cell_type": "code",
   "execution_count": 11,
   "metadata": {},
   "outputs": [
    {
     "name": "stdout",
     "output_type": "stream",
     "text": [
      "(́3.00, 4.00)\n"
     ]
    },
    {
     "data": {
      "text/plain": [
       "<__main__.Point at 0x2b52a860d50>"
      ]
     },
     "execution_count": 11,
     "metadata": {},
     "output_type": "execute_result"
    }
   ],
   "source": [
    "p0 = Point(3.0, 4.0)\n",
    "print(p0)\n",
    "p0"
   ]
  },
  {
   "cell_type": "markdown",
   "metadata": {},
   "source": [
    "## Más métodos"
   ]
  },
  {
   "cell_type": "markdown",
   "metadata": {},
   "source": [
    "Antes, definimos una función (*externa* a la clase `Point`) para calcular la distancia entre dos puntos. También podemos *encapsular* la función distancia dentro de la clase `Point`:"
   ]
  },
  {
   "cell_type": "code",
   "execution_count": 12,
   "metadata": {},
   "outputs": [],
   "source": [
    "class Point(object):\n",
    "    def __init__(self, px, py):\n",
    "        self.x = px\n",
    "        self.y = py\n",
    "    \n",
    "    def __str__(self):\n",
    "        return '(' + str(self.x) + ', ' + str(self.y) + ')'\n",
    "    \n",
    "    def distance(self, other):\n",
    "        \"\"\"\n",
    "        This function returns the distance from this object to other\n",
    "        \"\"\"\n",
    "        return sqrt((self.x - other.x)**2 + (self.y - other.y)**2)\n",
    "   "
   ]
  },
  {
   "cell_type": "code",
   "execution_count": 13,
   "metadata": {},
   "outputs": [
    {
     "name": "stdout",
     "output_type": "stream",
     "text": [
      "(5, 6) (6, 7) 1.4142135623730951\n"
     ]
    }
   ],
   "source": [
    "p = Point(5, 6)\n",
    "q = Point(6, 7)\n",
    "print(p, q, p.distance(q))"
   ]
  },
  {
   "cell_type": "code",
   "execution_count": 14,
   "metadata": {},
   "outputs": [
    {
     "data": {
      "text/plain": [
       "True"
      ]
     },
     "execution_count": 14,
     "metadata": {},
     "output_type": "execute_result"
    }
   ],
   "source": [
    "def is_rectangle(a, b, c, d):\n",
    "    dab = a.distance(b)\n",
    "    dac = a.distance(c)\n",
    "    dad = a.distance(d)\n",
    "    dbc = b.distance(c)\n",
    "    dbd = b.distance(d)\n",
    "    dcd = c.distance(d)\n",
    "    return dab == dcd and dac == dbd and dad == dbc\n",
    "\n",
    "p0, p1, p2, p3 = Point(0,0), Point(1,1), Point(0,1), Point(1,0)\n",
    "is_rectangle(p0, p1, p2, p3)"
   ]
  },
  {
   "cell_type": "markdown",
   "metadata": {},
   "source": [
    "El método `distance` es meramente *de acceso*, pues su uso *no* modifica el objeto, sino que únicamente consulta información sobre su estado. Pero también hay métodos que *modifican* el estado del objeto. Pensemos, por ejemplo, en mover el objeto, aplicando una traslación:"
   ]
  },
  {
   "cell_type": "code",
   "execution_count": 15,
   "metadata": {},
   "outputs": [],
   "source": [
    "class Point(object):\n",
    "    def __init__(self, px, py):\n",
    "        self.x = px\n",
    "        self.y = py\n",
    "    \n",
    "    def __str__(self):\n",
    "        return 'Point(' + str(self.x) + ', ' + str(self.y) + ')'\n",
    "    \n",
    "    def distance(self, other):\n",
    "        return sqrt((self.x - other.x)**2 + (self.y - other.y)**2)\n",
    "    \n",
    "    def move(self, t_x, t_y):\n",
    "        self.x = self.x + t_x\n",
    "        self.y = self.y + t_y"
   ]
  },
  {
   "cell_type": "markdown",
   "metadata": {},
   "source": [
    "Observa que el método `move` no tiene `return`, modifica la posición de un Point pero no devuelve nada."
   ]
  },
  {
   "cell_type": "code",
   "execution_count": 16,
   "metadata": {},
   "outputs": [
    {
     "name": "stdout",
     "output_type": "stream",
     "text": [
      "Point(1.0, 2.0)\n",
      "Point(7.0, 3.5)\n",
      "6.18465843842649\n",
      "Point(3.0, 6.0)\n"
     ]
    }
   ],
   "source": [
    "p0 = Point(1.0, 2.0)\n",
    "p1 = Point(7.0, 3.5)\n",
    "print(p0)\n",
    "print(p1)\n",
    "print(p0.distance(p1))\n",
    "p0.move(2.0, 4.0)\n",
    "print(p0)"
   ]
  },
  {
   "cell_type": "markdown",
   "metadata": {},
   "source": [
    "Si definimos la clase `Vector`, la operación `move`puede diseñarse para que traslade un punto *según un vector*, más cómodamente, en lugar de tomar como parámetros las dos coordenadas de la traslación."
   ]
  },
  {
   "cell_type": "code",
   "execution_count": 17,
   "metadata": {},
   "outputs": [],
   "source": [
    "class Point(object):\n",
    "    def __init__(self, px, py):\n",
    "        self.x = px\n",
    "        self.y = py\n",
    "    \n",
    "    def __str__(self):\n",
    "        return 'Point(́{0:.2f}, {1:.2f})'.format(self.x, self.y)\n",
    "    \n",
    "    def distance(self, other):\n",
    "        return sqrt((self.x - other.x)**2 + (self.y - other.y)**2)\n",
    "    \n",
    "    def move(self, v):\n",
    "        \"\"\"\n",
    "        This function move this point applying the vector v\n",
    "        \"\"\"\n",
    "        self.x = self.x + v.x\n",
    "        self.y = self.y + v.y\n",
    "        \n",
    "class Vector(object):\n",
    "    \"\"\"This class reperesents a 2D vector\n",
    "    \n",
    "    Attributes\n",
    "    ---------\n",
    "    x, y: float    \n",
    "    \"\"\"\n",
    "    def __init__(self, px, py):\n",
    "        \"\"\"\n",
    "        Constructor\n",
    "        \n",
    "        Parameters\n",
    "        ----------\n",
    "        x: float\n",
    "        y: float\n",
    "        \"\"\"\n",
    "        self.x = px\n",
    "        self.y = py\n",
    "        \n",
    "    def __str__(self):\n",
    "        \"\"\"\n",
    "        This method returns str representation of the Vector\n",
    "        \"\"\"\n",
    "        return 'Vector(́{0:.2f}, {0:.2f})'.format(self.x, self.y)\n"
   ]
  },
  {
   "cell_type": "code",
   "execution_count": 18,
   "metadata": {},
   "outputs": [
    {
     "name": "stdout",
     "output_type": "stream",
     "text": [
      "Point(́1.00, 3.00)\n",
      "Point(́3.00, 4.00)\n"
     ]
    }
   ],
   "source": [
    "p0 = Point(1.0, 3.0)\n",
    "print(p0)\n",
    "p0.move(Vector(2.0, 1.0))\n",
    "print(p0)"
   ]
  },
  {
   "cell_type": "markdown",
   "metadata": {},
   "source": [
    "## Objetos como atributos de otro objeto"
   ]
  },
  {
   "cell_type": "code",
   "execution_count": 19,
   "metadata": {},
   "outputs": [],
   "source": [
    " class Circle(object):\n",
    "    \"\"\"\n",
    "        Class to represents a circle.\n",
    "    \"\"\"\n",
    "    def __init__(self, center, radius):\n",
    "        \"\"\"\n",
    "        Constructor\n",
    "        \n",
    "        Parameters:\n",
    "        -----------\n",
    "        center: Point\n",
    "        radius: float\n",
    "        \"\"\"\n",
    "        self.__center = center\n",
    "        self.__radius = radius\n",
    "\n",
    "    def __str__(self):\n",
    "        return 'Circle({0}, {1:.2f})'.format(self.__center, self.__radius)\n",
    "\n",
    "    def surface(self):\n",
    "        \"\"\"\n",
    "        This function returns the surface of the circle\n",
    "        \"\"\"\n",
    "        return pi*self.__radius**2"
   ]
  },
  {
   "cell_type": "code",
   "execution_count": 20,
   "metadata": {},
   "outputs": [
    {
     "name": "stdout",
     "output_type": "stream",
     "text": [
      "Circle(Point(́2.00, 1.00), 2.00)\n",
      "12.566370614359172\n"
     ]
    }
   ],
   "source": [
    "p0 = Point(2.0, 1.0)\n",
    "c = Circle(p0, 2.0)\n",
    "print(c)\n",
    "print(c.surface())"
   ]
  },
  {
   "cell_type": "markdown",
   "metadata": {},
   "source": [
    "Y si sabemos trasladar un `Point`, sabemos trasladar un `circle`:"
   ]
  },
  {
   "cell_type": "code",
   "execution_count": 21,
   "metadata": {},
   "outputs": [],
   "source": [
    "class Circle(object):\n",
    "    def __init__(self, center, radius):\n",
    "        self.center = center\n",
    "        self.radius = radius\n",
    "\n",
    "    def __str__(self):\n",
    "        return 'Circle({0}, {1:.2f})'.format(self.center, self.radius)\n",
    "    \n",
    "    def surface(self):\n",
    "        \"\"\"\n",
    "        This function returns the surface of the circle\n",
    "        \"\"\"\n",
    "        return pi*self.radius**2\n",
    "    \n",
    "    def move(self, v):\n",
    "        \"\"\"\n",
    "        This funciton move the Circle applying vector v\n",
    "        \"\"\"\n",
    "        self.center.move(v)"
   ]
  },
  {
   "cell_type": "code",
   "execution_count": 22,
   "metadata": {},
   "outputs": [
    {
     "name": "stdout",
     "output_type": "stream",
     "text": [
      "Circle(Point(́2.00, 1.00), 2.00)\n",
      "Circle(Point(́5.00, 2.00), 2.00)\n",
      "Point(́5.00, 2.00)\n"
     ]
    }
   ],
   "source": [
    "p0 = Point(2.0, 1.0)\n",
    "c = Circle(p0, 2.0)\n",
    "print(c)\n",
    "c.move(Vector(3.0, 1.0))\n",
    "print(c)\n",
    "print(p0)"
   ]
  },
  {
   "cell_type": "markdown",
   "metadata": {},
   "source": [
    "Observemos que se ha producido un efecto lateral. Al mover el círculo, se ha movido también el punto. Se comparte memoria. Si no quiero que pase tengo que hacer una copia."
   ]
  },
  {
   "cell_type": "code",
   "execution_count": 23,
   "metadata": {},
   "outputs": [
    {
     "name": "stdout",
     "output_type": "stream",
     "text": [
      "Circle(Point(́2.00, 1.00), 2.00)\n",
      "Circle(Point(́5.00, 2.00), 2.00)\n",
      "Point(́2.00, 1.00)\n"
     ]
    }
   ],
   "source": [
    "from copy import deepcopy as dcopy\n",
    "\n",
    "p0 = Point(2.0, 1.0)\n",
    "c = Circle(dcopy(p0), 2.0)\n",
    "print(c)\n",
    "c.move(Vector(3.0, 1.0))\n",
    "print(c)\n",
    "print(p0)"
   ]
  },
  {
   "cell_type": "markdown",
   "metadata": {},
   "source": [
    "# Métodos especiales\n",
    "\n",
    "Para sumar vectores, podemos definir una operación `suma`:\n",
    "\n",
    "```python\n",
    "    add(u, v)\n",
    "```\n",
    "Pero querríamos también poder sumarlos con la operación `+`, y usarla con la sintaxis clásica como operación aritmética:\n",
    "\n",
    "```python\n",
    "    u + v\n",
    "```\n",
    "\n",
    "Algunas de estas operaciones (`<`, `<=`, `==`, `!=`, `>`, `>=`) pueden definirse en Python con nombres especiales: \n",
    "\n",
    "```python\n",
    "    object.__lt__(self, other)\n",
    "    object.__le__(self, other)\n",
    "    object.__eq__(self, other)\n",
    "    object.__ne__(self, other)\n",
    "    object.__gt__(self, other)\n",
    "    object.__ge__(self, other)\n",
    "```\n",
    "\n",
    "También hay otros métodos con fines especiales, tales como facilitar la conversión de un objeto en otro tipo de datos mediante la función de casting típica (ej.: `bool`)\n",
    "\n",
    "```python\n",
    "    object.__bool__(self, other)\n",
    "```\n",
    "\n",
    "La lista completa de métodos especiales puede encontrarse, por ejemplo, en la siguiente url:\n",
    "\n",
    "https://docs.python.org/3/reference/datamodel.html#special-method-names\n"
   ]
  },
  {
   "cell_type": "code",
   "execution_count": 24,
   "metadata": {},
   "outputs": [],
   "source": [
    "class Point(object):\n",
    "    def __init__(self, px, py):\n",
    "        self.x = px\n",
    "        self.y = py\n",
    "    \n",
    "    def __str__(self):\n",
    "        return 'Point(́{0:.2f}, {1:.2f})'.format(self.x, self.y)\n",
    "    \n",
    "    \n",
    "    def __add__(self, v):\n",
    "        \"\"\"\n",
    "        This function returns a new point adding vector v to self\n",
    "        \n",
    "        Paramters\n",
    "        ---------\n",
    "        v: Vector\n",
    "        \n",
    "        Returns\n",
    "        -------\n",
    "        Point\n",
    "        \"\"\"\n",
    "        if not isinstance(v, Vector):\n",
    "            return NotImplemented\n",
    "        else:\n",
    "            return Point(self.x + v.x, self.y + v.y)\n",
    "    \n",
    "    \n",
    "    def __sub__(self, p):\n",
    "        \"\"\"This method returns the vector form p to self\n",
    "        \n",
    "        Paramters\n",
    "        ---------\n",
    "        p: Point\n",
    "        \n",
    "        Returns\n",
    "        -------\n",
    "        \n",
    "        Vector\n",
    "        \"\"\"\n",
    "        if not isinstance(p, Point):\n",
    "            return NotImplemented\n",
    "        else:\n",
    "            return Vector(self.x - p.x, self.y - p.y)\n",
    "        \n",
    "        \n",
    "    def distance(self, p):\n",
    "        \"\"\"This method computes the distance from shelf to p\n",
    "        \n",
    "        Parameters\n",
    "        ----------\n",
    "        p: Point\n",
    "        \n",
    "        Returns\n",
    "        -------\n",
    "        float\n",
    "        \"\"\"\n",
    "        return (self - p).module()\n",
    "        \n",
    "class Vector(object):\n",
    "    \"\"\"This class represents a 2D vector based upon its cartesian coordinates\n",
    "    \n",
    "    Attributes\n",
    "    ---------\n",
    "    x,y: float    \n",
    "    \"\"\"\n",
    "    def __init__(self, px, py):\n",
    "        \"\"\"\n",
    "        Constructor\n",
    "        \n",
    "        Parameters\n",
    "        ----------\n",
    "        x: float\n",
    "        y: float\n",
    "        \"\"\"\n",
    "        self.x = px\n",
    "        self.y = py\n",
    "    \n",
    "    def module(self):\n",
    "        \"\"\"This method returns the module of a vector\"\"\"\n",
    "        return sqrt(self.x**2 + self.y**2)\n",
    "        \n",
    "    def __str__(self):\n",
    "        \"\"\"\n",
    "        This method returns str representation of the Vector\n",
    "        \"\"\"\n",
    "        return 'Vector(́{0:.2f}, {0:.2f})'.format(self.x, self.y)\n"
   ]
  },
  {
   "cell_type": "code",
   "execution_count": 25,
   "metadata": {},
   "outputs": [
    {
     "data": {
      "text/plain": [
       "2.8284271247461903"
      ]
     },
     "execution_count": 25,
     "metadata": {},
     "output_type": "execute_result"
    }
   ],
   "source": [
    "p = Point(0,1)\n",
    "v = Vector(2,2)\n",
    "q = p + v\n",
    "q.distance(p)"
   ]
  },
  {
   "cell_type": "markdown",
   "metadata": {},
   "source": [
    "# Ejemplo adicional\n",
    "\n",
    "... para una agenda... a lo mejor puedes completar tú los fragmentos que faltan..."
   ]
  },
  {
   "cell_type": "code",
   "execution_count": 26,
   "metadata": {},
   "outputs": [
    {
     "name": "stdout",
     "output_type": "stream",
     "text": [
      "<Nombre: Blacky, Edad: 12, Estatura: 0.3...>\n"
     ]
    },
    {
     "data": {
      "text/plain": [
       "<__main__.Persona at 0x2b52a88a290>"
      ]
     },
     "execution_count": 26,
     "metadata": {},
     "output_type": "execute_result"
    }
   ],
   "source": [
    "class Persona(object):\n",
    "    \"\"\"\n",
    "    Esta clase representa la ficha de una persona.\n",
    "    No incluye el núm. de registro o el DNI,\n",
    "    porque se asume que puede ser la clave de búsqueda\n",
    "    en un diccionario.\n",
    "    \n",
    "    Attributes\n",
    "    ----------\n",
    "    nombre: str\n",
    "    edad: int\n",
    "    estatura: float\n",
    "    direccion: str\n",
    "    \"\"\"\n",
    "\n",
    "    def __init__(self, nombre, edad, estatura, direccion):\n",
    "        self.nombre = nombre\n",
    "        self.edad = edad\n",
    "        self.estatura = estatura\n",
    "        self.direccion = direccion\n",
    "    \n",
    "    def __str__(self):\n",
    "        #...\n",
    "        return '<Nombre: ' + self.nombre + ', Edad: ' + str(self.edad) + ', Estatura: ' + str(self.estatura) + '...>'\n",
    "\n",
    "p = Persona(\"Blacky\", 12, 0.30, \"Pozuelo de Alarcón\")\n",
    "print(p)\n",
    "p"
   ]
  },
  {
   "cell_type": "code",
   "execution_count": 27,
   "metadata": {},
   "outputs": [
    {
     "name": "stdout",
     "output_type": "stream",
     "text": [
      "7023 <Nombre: Blacky, Edad: 12, Estatura: 0.3...>\n",
      "3401 <Nombre: Fer, Edad: 25, Estatura: 1.85...>\n",
      "5003 <Nombre: Artu, Edad: 28, Estatura: 1.78...>\n",
      "3045 <Nombre: Rosa, Edad: 89, Estatura: 1.65...>\n"
     ]
    }
   ],
   "source": [
    "# Formamos ahora una agenda con un diccionario,\n",
    "# donde la clave es el número de registro:\n",
    "\n",
    "mi_agenda = dict()\n",
    "mi_agenda[\"7023\"] = p\n",
    "mi_agenda[\"3401\"] = Persona(\"Fer\", 25, 1.85, \"Pozuelo de Alarcón\")\n",
    "mi_agenda[\"5003\"] = Persona(\"Artu\", 28, 1.78, \"Pozuelo de Alarcón\")\n",
    "mi_agenda[\"3045\"] = Persona(\"Rosa\", 89, 1.65, \"Madrid\")\n",
    "\n",
    "def mostrar_agenda(agenda):\n",
    "    for n in agenda:\n",
    "        print(n, agenda[n])\n",
    "        \n",
    "mostrar_agenda(mi_agenda)"
   ]
  },
  {
   "cell_type": "code",
   "execution_count": 28,
   "metadata": {},
   "outputs": [
    {
     "name": "stdout",
     "output_type": "stream",
     "text": [
      "023491 <Nombre: Fernando, Edad: 26, Estatura: 1.9...>\n",
      "324098 <Nombre: Elena, Edad: 60, Estatura: 1.7...>\n",
      "534001 <Nombre: Fer, Edad: 25, Estatura: 1.85...>\n",
      "450303 <Nombre: Artu, Edad: 30, Estatura: 1.78...>\n",
      "376045 <Nombre: Rosa, Edad: 89, Estatura: 1.65...>\n",
      "Pozuelo de Alarcón\n"
     ]
    }
   ],
   "source": [
    "# Leemos el contenido de un archivo en la agenda\n",
    "\n",
    "def crear_agenda(nombre_archivo):\n",
    "    la_agenda = dict()\n",
    "    archivo = open(nombre_archivo, \"r\")\n",
    "    for linea in archivo:\n",
    "        # print(linea) # just for testing\n",
    "        lin_limpia = linea.rstrip('\\n')\n",
    "        reg, nom, edad, estat, direcc = lin_limpia.split(\" # \")\n",
    "        edad = int(edad)\n",
    "        estat = float(estat)\n",
    "        # print(reg, nom, edad, estat, direcc) # just for testing\n",
    "        la_agenda[reg] = Persona(nom, edad, estat, direcc)\n",
    "    return la_agenda\n",
    "    \n",
    "ag = crear_agenda(\"agenda.txt\")\n",
    "mostrar_agenda(ag)\n",
    "print(ag[\"023491\"].direccion)"
   ]
  },
  {
   "cell_type": "markdown",
   "metadata": {},
   "source": [
    "# Herencia y especialización\n",
    "\n",
    "Imagina que deseamos definir una clase para los clientes de un supermercado.\n",
    "Cada `Cliente` es una `Persona` de la cual queremos registrar información adicional: su `cuenta` y el `importe_maximo`\n",
    "fijado para cada compra.\n",
    "\n",
    "No necesitamos volver a definir toda la información como `Persona`. Podemos definir una clase nueva, `Cliente`, derivada a partir de la primera, `Persona`:"
   ]
  },
  {
   "cell_type": "code",
   "execution_count": 29,
   "metadata": {},
   "outputs": [],
   "source": [
    "class Cliente(Persona):\n",
    "    \n",
    "    def __init__(self, nombre, edad, estatura, direccion, num_cta, imp_max):\n",
    "        Persona.__init__(self, nombre, edad, estatura, direccion)\n",
    "        self.num_cuenta = num_cta\n",
    "        self.importe_maximo = imp_max\n",
    "\n",
    "    def __str__(self):\n",
    "        return '<Nombre: ' + self.nombre + ', Edad: ' + str(self.edad) \\\n",
    "            + ', Núm. cuenta: ' + str(self.num_cuenta) \\\n",
    "            + ', Importe máx.: ' + str(self.importe_maximo) + '>'\n",
    "\n",
    "    def es_cliente_preferente(self):\n",
    "        return self.importe_maximo >= 500"
   ]
  },
  {
   "cell_type": "code",
   "execution_count": 30,
   "metadata": {},
   "outputs": [
    {
     "name": "stdout",
     "output_type": "stream",
     "text": [
      "\n",
      "<Nombre: Javier, Edad: 57, Núm. cuenta: 002445281325490654, Importe máx.: 300>\n",
      "<class '__main__.Cliente'>\n",
      "False\n",
      "\n",
      "<Nombre: Elena, Edad: 62, Núm. cuenta: 325490654002445281, Importe máx.: 600>\n",
      "True\n"
     ]
    }
   ],
   "source": [
    "# He aquí unas pocas pruebas:\n",
    "\n",
    "cli_1 = Cliente(\"Javier\", 57, 1.70, \"Carretera de Húmera, Pozuelo de Alarcón\", \"002445281325490654\", 300)\n",
    "\n",
    "print()\n",
    "\n",
    "cli_2 = Cliente(\"Elena\", 62, 1.50, \"Príncipe de Vergara, Madrid\", \"325490654002445281\", 600)\n",
    "\n",
    "print(cli_1)\n",
    "print(type(cli_1))\n",
    "print(cli_1.es_cliente_preferente())\n",
    "\n",
    "print()\n",
    "\n",
    "print(cli_2)\n",
    "print(cli_2.es_cliente_preferente())"
   ]
  },
  {
   "cell_type": "markdown",
   "metadata": {},
   "source": [
    "La clase `Persona` es la *superclase*. La clase `Cliente` es la subclase, es decir, la clase *derivada*, que ha heredado la estructura de la superclase, es decir, sus atributos y métodos, añadiendo quizás algun atributo (como `num_cuenta` y `importe_maximo`), redefiniendo algunos de ellos (como `__str__`) o añadiendo otros nuevos (como `es_cliente_preferente`)."
   ]
  },
  {
   "cell_type": "markdown",
   "metadata": {},
   "source": [
    "# Apéndice: una clase abstracta e implementaciones\n",
    "\n",
    "Es habitual implementar números complejos mediante sus componentes cartesianas, *parte real* y *parte imaginaria*. Pero también lo es mediante su representación en forma polar, esto es, con su *módulo* y *argumento*. Una clase abstracta define la signatura de un objeto, esto es, sus operaciones y argumentos. Es como sigue; más abajo veremos cuál es la finalidad de esto."
   ]
  },
  {
   "cell_type": "code",
   "execution_count": 31,
   "metadata": {},
   "outputs": [],
   "source": [
    "class Complex(object):\n",
    "    \"\"\"\n",
    "    This class represents a complex number\n",
    "    \n",
    "    Rest of docstring to be fulfilled\n",
    "    \"\"\"\n",
    "    def __init__(self, arg1, arg2, mode=\"cartesian\"):\n",
    "        \"\"\"\n",
    "        docstring to be fulfilled\n",
    "        \n",
    "        If mode=\"cartesian\", arg1 and arg2 represent real and imag components\n",
    "        If mode=\"polar\", arg1 and arg2 represent module and argument components\n",
    "        Other mode will raise an exception\n",
    "        \"\"\"\n",
    "        raise Exception(\"Class Vector has no implemented the __init__ method.\")\n",
    "        \n",
    "    def __str__(self, mode=\"polar\"):\n",
    "        \"\"\"\n",
    "        This method returns str representing the cartesian or polar form of the complex\n",
    "        \"\"\"\n",
    "        raise Exception(\"Class Complex has no implemented the __str__ method.\")\n",
    "\n",
    "    def module(self):\n",
    "        \"\"\"\n",
    "        docstring to be fulfilled\n",
    "        \"\"\"\n",
    "        raise Exception(\"Class Complex has no implemented the module method.\")\n",
    "\n",
    "    def __add__(self, v):\n",
    "        \"\"\"\n",
    "        docstring to be fulfilled\n",
    "        \"\"\"\n",
    "        raise Exception(\"Class Complex has no implemented the __add__ method.\")"
   ]
  },
  {
   "cell_type": "markdown",
   "metadata": {},
   "source": [
    "Como hemos visto, en una clase abstracta no se concreta la representación interna de la clase. Sirve para fijar ideas de lo que se quiere definir y su comportamiento previsto, pero sin concretar la representación. Esto se hará cuando se diseñe por completo, tras tomar una decisión sobre la representación interna de dicho objeto. Por ejemplo, así:"
   ]
  },
  {
   "cell_type": "code",
   "execution_count": 32,
   "metadata": {},
   "outputs": [],
   "source": [
    "import math\n",
    "\n",
    "class PolarComplex(Complex):\n",
    "    \"\"\"\n",
    "    This class implements complex number, based upon its polar representation\n",
    "    \n",
    "    Attributes:\n",
    "    -----------\n",
    "    __module, __argument: real\n",
    "    \"\"\"\n",
    "    def __init__(self, arg1, arg2, mode=\"cartesian\"):\n",
    "        \"\"\"\n",
    "        docstring to be fulfilled\n",
    "        \"\"\"\n",
    "        if mode==\"cartesian\":\n",
    "            self.__module = math.sqrt(px**2 + py**2)\n",
    "            self.__argument = math.arctan(py/px)          \n",
    "        elif mode==\"polar\":\n",
    "            self.__module = px\n",
    "            self.__argument = py           \n",
    "        \n",
    "    def __str__(self, mode=\"polar\"):\n",
    "        \"\"\"\n",
    "        This method returns str representing the cartesian or polar form of the complex\n",
    "        \"\"\"\n",
    "        raise Exception(\"Class PolarVector has no implemented the __str__ method.\")\n",
    "\n",
    "    def module(self):\n",
    "        \"\"\"\n",
    "        docstring to be fulfilled\n",
    "        \"\"\"\n",
    "        raise Exception(\"Class PolarVector has no implemented the module method.\")\n",
    "\n",
    "    def __add__(self, v):\n",
    "        \"\"\"\n",
    "        docstring to be fulfilled\n",
    "        \"\"\"\n",
    "        raise Exception(\"Class PolarVector has no implemented the __add__ method.\")"
   ]
  },
  {
   "cell_type": "markdown",
   "metadata": {},
   "source": [
    "**Ejercicios**\n",
    "\n",
    "1. Completa esta clase y documéntala.\n",
    "    Diseña un pequeño conjunto de casos de prueba para ver el comportamiento de estas operaciones.\n",
    "\n",
    "2. Añade una operación para calcular el conjugado de un número complejo.\n",
    "\n",
    "3. Añade una operación para calcular el producto de un complejo por un escalar (float)\n",
    "   y el producto de dos complejos. ¿Podrían unificarse estas dos operaciones en un solo método?\n",
    "   Este ejercicio presenta nu ejemplo muy claro de *polimorfismo*.\n",
    "\n",
    "4. Diseña otra clase para trabajar con complejos, con la misma *signatura* que la anterior,\n",
    "   pero basada, en esta ocasión, en una representación cartesiana.\n",
    "   Ambas implementaciones deben comportarse de idéntica manera. Compruébalo con los mismos\n",
    "   casos de prueba que la anterior."
   ]
  },
  {
   "cell_type": "markdown",
   "metadata": {},
   "source": [
    "### Implementaciones de una clase abstracta\n",
    "\n",
    "Las dos clases anteriores, `PolarComplex` y `CartesianComplex` deberían comportarse de manera idéntica. No obstante, se basan en *mecanismos* distintos, es decir, representaciones internas distintas. Y las operaciones en cada una de ellas actúan manejando dichas representaciones distintas.\n",
    "\n",
    "La abstracción es fundamental en programación: en el mundo de los tipos abstractos de datos, consiste en separar lo que se ve (el comportamiento) e ignorar los detalles internos (la implementación).\n",
    "Esta idea es semejante a conducir dos coches, uno de gasolina y otro eléctrico, pero ambos con volantes iguales, mismos mandos de arranque, mismo acelerador, mismo freno, encendido de luces, etc.\n",
    "\n",
    "Cuando consideramos dos implementaciones distintas para un mismo concepto, es posible que una de las representaciones sea ventajosa (más eficiente) para algunas operaciones en detrimento quizá de otras, más ineficientes, mientras que, en la segunda representación, haya otras operaciones más eficientes y sea más adecuada en otras aplicaciones. Estas diferencias serán los argumentos para implementar y preferir una de las representaciones frente a la otra, según el uso que se vaya a hacer explotando preferentemente unas operaciones u otras.\n",
    "\n",
    "Esta idea básica se ha de tener en cuenta a la hora de estudiar el catálogo clásico de estructuras de datos y a la hora de diseñar una clase nueva para nuestros fines."
   ]
  },
  {
   "cell_type": "code",
   "execution_count": 33,
   "metadata": {},
   "outputs": [],
   "source": [
    "class MyClass():\n",
    "    def __init__(self):\n",
    "        self.x = 1\n",
    "        self._y = 2\n",
    "        self.__z = 3\n",
    "        \n",
    "my_ob = MyClass()"
   ]
  },
  {
   "cell_type": "markdown",
   "metadata": {},
   "source": [
    "# Apéndice: nombres de atributos: guiones bajos\n",
    "\n",
    "Partimos de un ejemplo para facilitar la explicación técnica. Luego vendrá la explicación conceptual.\n",
    "Observa los nombres de los atributosde la siguiente clase y en su inicio: los hay con un guion bajo, con dos o con ninguno."
   ]
  },
  {
   "cell_type": "code",
   "execution_count": 34,
   "metadata": {},
   "outputs": [
    {
     "name": "stdout",
     "output_type": "stream",
     "text": [
      "1\n",
      "2\n"
     ]
    }
   ],
   "source": [
    "print(my_ob.x)\n",
    "print(my_ob._y)"
   ]
  },
  {
   "cell_type": "markdown",
   "metadata": {},
   "source": [
    "Hasta aquí, todo va bien. Los atributos `x` e `_y` se están manejando desde fuera de la clase.\n",
    "\n",
    "Podemos verlos o modificarlos sin problema. La diferencia entre nombrarlos sin o con guion bajo\n",
    "es únicamente una convención, para señalar que se trata de atributos de la clase,\n",
    "y es una buena costumbre,\n",
    "aunque no hemos entrado en este detalle hasta ahora para evitar esta disquisición en un primer contacto\n",
    "con el mundo de los objetos.\n",
    "\n",
    "Identificar un atributo empezando con un guion bajo indica\n",
    "al usuario que se trata de un atributo de la clase, aunque en realidad el usuario puede\n",
    "usarlo, o sea, fuerza a que el usuario sea más consciente de que está empleando un atributo\n",
    "que en realidad es del ámbito interno, local, de la clase.\n",
    "\n",
    "Pero veamos qué ocurre con el otro atributo:"
   ]
  },
  {
   "cell_type": "code",
   "execution_count": 35,
   "metadata": {},
   "outputs": [
    {
     "ename": "AttributeError",
     "evalue": "'MyClass' object has no attribute '__z'",
     "output_type": "error",
     "traceback": [
      "\u001b[1;31m---------------------------------------------------------------------------\u001b[0m",
      "\u001b[1;31mAttributeError\u001b[0m                            Traceback (most recent call last)",
      "Cell \u001b[1;32mIn[35], line 1\u001b[0m\n\u001b[1;32m----> 1\u001b[0m \u001b[38;5;28mprint\u001b[39m(my_ob\u001b[38;5;241m.\u001b[39m__z)\n",
      "\u001b[1;31mAttributeError\u001b[0m: 'MyClass' object has no attribute '__z'"
     ]
    }
   ],
   "source": [
    "print(my_ob.__z)"
   ]
  },
  {
   "cell_type": "markdown",
   "metadata": {},
   "source": [
    "Este atributo no puede manejarse desde fuera de la clase sí puede de la manera convencional,\n",
    "con su identificador,\n",
    "aunque en realidad sí puede ser accesible de otro modo, un poco más retorcido:"
   ]
  },
  {
   "cell_type": "code",
   "execution_count": 36,
   "metadata": {},
   "outputs": [
    {
     "name": "stdout",
     "output_type": "stream",
     "text": [
      "3\n"
     ]
    }
   ],
   "source": [
    "print(my_ob._MyClass__z)"
   ]
  },
  {
   "cell_type": "markdown",
   "metadata": {},
   "source": [
    "Es una advertencia aún más fuerte, imponiendo una manera de acceder al atributo local mucho más incómoda,\n",
    "incluso algo absurda, imponiendo una dificultad adicional, que realmente muy pocos programadores usan,\n",
    "como debe ser, y que está limitada a pruebas en el curso del desarrollo, más que en el uso convencional\n",
    "de los atributos de una clase.\n",
    "\n",
    "Más técnicamente, es una indicación de la distinción entre atributos privados (`_x`) y protegidos (`__y`). Pero únicamente es eso: una indicación."
   ]
  },
  {
   "cell_type": "markdown",
   "metadata": {},
   "source": [
    "### La explicación conceptual\n",
    "\n",
    "En principio, los atributos de una clase son características propias suyas, internas.\n",
    "Usarlas desde fuera es una irregularidad, restringida normalmente al usuario convencional de una clase,\n",
    "que debería usar los atributos del objeto, normalmente, a través de las operaciones de acceso y modificación.\n",
    "\n",
    "En muchos lenguajes de programación, estos atributos son privados realmente, y no es posible acceder\n",
    "a ellos, más que a través de las operaciones de acceso y modificación de la clase.\n",
    "En Python, el acceso a dichos atributos privados es accesible, sobre todo, para facilitar el desarrollo\n",
    "y las pruebas durante el desarrollo de una clase. Pero sin perder de vista lo que son atributos privados,\n",
    "en realidad *seudoprivados*, y los dos niveles de acceso a los mismos."
   ]
  },
  {
   "cell_type": "markdown",
   "metadata": {},
   "source": [
    "### Bibliografía\n",
    "\n",
    "\n",
    "* M. T. Goodrich, R. Tamassia, M. H. Goldwasser,\n",
    "  *Data Structures and Algorithms in Python*, Ed. Wiley\n"
   ]
  }
 ],
 "metadata": {
  "kernelspec": {
   "display_name": "Python 3 (ipykernel)",
   "language": "python",
   "name": "python3"
  },
  "language_info": {
   "codemirror_mode": {
    "name": "ipython",
    "version": 3
   },
   "file_extension": ".py",
   "mimetype": "text/x-python",
   "name": "python",
   "nbconvert_exporter": "python",
   "pygments_lexer": "ipython3",
   "version": "3.11.5"
  }
 },
 "nbformat": 4,
 "nbformat_minor": 1
}
