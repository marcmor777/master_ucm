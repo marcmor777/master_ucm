{
 "cells": [
  {
   "cell_type": "markdown",
   "metadata": {},
   "source": [
    "# Funciones\n",
    "\n",
    "<hr>\n",
    "\n",
    "Cuando definimos una función, disponemos de una herramienta útil que podemos luego usar en múltiples situaciones concretas:"
   ]
  },
  {
   "cell_type": "code",
   "execution_count": 3,
   "metadata": {},
   "outputs": [],
   "source": [
    "import math"
   ]
  },
  {
   "cell_type": "markdown",
   "metadata": {},
   "source": [
    "## Definición y llamada de una función\n",
    "\n",
    "Estos dos conceptos se ven mucho mejor con un ejemplo:"
   ]
  },
  {
   "cell_type": "code",
   "execution_count": 1,
   "metadata": {},
   "outputs": [
    {
     "data": {
      "text/plain": [
       "(34, 92, 5)"
      ]
     },
     "execution_count": 1,
     "metadata": {},
     "output_type": "execute_result"
    }
   ],
   "source": [
    "# Definición de una función:\n",
    "\n",
    "def formar_numero(dec, uni):\n",
    "    valor_decenas = 10 * dec\n",
    "    valor_unidades = uni\n",
    "    return valor_decenas + valor_unidades\n",
    "\n",
    "# Distintas llamadas a la función anterior:\n",
    "\n",
    "formar_numero(3, 4), formar_numero(9, 2), formar_numero(0, 5)"
   ]
  },
  {
   "cell_type": "markdown",
   "metadata": {},
   "source": [
    "En el ejemplo anterior, la función \"componer_numero\" se define usando los *parámetros abstractos* \"dec\" y \"uni\", que representan las cifras de las decenas y las unidades de un número. \n",
    "\n",
    "El cuerpo de la definición se compone de instrucciones, que trabajan con los parámetros abstractos.\n",
    "Una instrucción especial, llamada *return* sirve para expresar el valor que la función devuelve, tras los cálculos.\n",
    "\n",
    "Cada uso (o *llamada*) de la función se hace con los parámetros concretos con los que realmente necesitamos realizar los cálculos. En cada llamada, los parámetros abstractos (también llamados parámetros *formales*) asumen los valores de los parámetros concretos (también llamados parámetros *reales*) y se ejecuta el cuerpo con ellos.\n",
    "\n",
    "Los ejemplos siguientes pueden entenderse sin mayor explicación.\n",
    "En ellos, te resultará fácil distinguir entre definición y llamadas,\n",
    "y entre parámetros formales y reales."
   ]
  },
  {
   "cell_type": "code",
   "execution_count": 2,
   "metadata": {},
   "outputs": [
    {
     "data": {
      "text/plain": [
       "(14.0, 4.5, -2.0)"
      ]
     },
     "execution_count": 2,
     "metadata": {},
     "output_type": "execute_result"
    }
   ],
   "source": [
    "def media(x, y):\n",
    "    return (x + y) / 2\n",
    "\n",
    "media(3,25), media(3.4,5.6), media(-1,-3)"
   ]
  },
  {
   "cell_type": "code",
   "execution_count": 3,
   "metadata": {},
   "outputs": [
    {
     "data": {
      "text/plain": [
       "5.075"
      ]
     },
     "execution_count": 3,
     "metadata": {},
     "output_type": "execute_result"
    }
   ],
   "source": [
    "def media_4(a1, a2, a3, a4):\n",
    "    suma = a1 + a2 + a3 + a4\n",
    "    return suma / 4\n",
    "\n",
    "media_4(1.5, 9.1, 3.0, 6.7)"
   ]
  },
  {
   "cell_type": "code",
   "execution_count": 4,
   "metadata": {},
   "outputs": [
    {
     "name": "stdout",
     "output_type": "stream",
     "text": [
      "3.141592653589793\n",
      "12.566370614359172\n"
     ]
    }
   ],
   "source": [
    "import math\n",
    "\n",
    "def area_circulo(radius):\n",
    "    return math.pi * radius ** 2\n",
    "\n",
    "print(math.pi)\n",
    "area = area_circulo(2)\n",
    "print(area)"
   ]
  },
  {
   "cell_type": "markdown",
   "metadata": {},
   "source": [
    "## Documentación de una función\n",
    "\n",
    "Debemos indicar lo que hace la función y el tipo que deben tener los parámetros de entrada y el valor devuelto."
   ]
  },
  {
   "cell_type": "code",
   "execution_count": 5,
   "metadata": {},
   "outputs": [
    {
     "data": {
      "text/plain": [
       "(3, 2, 7)"
      ]
     },
     "execution_count": 5,
     "metadata": {},
     "output_type": "execute_result"
    }
   ],
   "source": [
    "def maximo(x, y):\n",
    "    \"\"\"\n",
    "    Función que calcula el máximo de 2 números\n",
    "    \n",
    "    Parameters\n",
    "    ----------\n",
    "    x : int\n",
    "        El primer número\n",
    "    y : int\n",
    "        El segundo número\n",
    "        \n",
    "    Returns\n",
    "    -------\n",
    "    int\n",
    "        El máximo de los valores x e y\n",
    "    \n",
    "    Example\n",
    "    -------\n",
    "    >>> maximo(2, 3)\n",
    "    3\n",
    "    \"\"\"\n",
    "    return x if x >= y else y\n",
    "\n",
    "maximo(2, 3), maximo(2, -3), maximo(7, 7)"
   ]
  },
  {
   "cell_type": "code",
   "execution_count": 6,
   "metadata": {},
   "outputs": [
    {
     "data": {
      "text/plain": [
       "5.075"
      ]
     },
     "execution_count": 6,
     "metadata": {},
     "output_type": "execute_result"
    }
   ],
   "source": [
    "def media_4(a1, a2, a3, a4):\n",
    "    \"\"\"\n",
    "    Función que devuelve la media de 4 números reales\n",
    "   \n",
    "    Parameters\n",
    "    ----------\n",
    "    a1, a2, a3, a4: number (int or float)\n",
    "    \n",
    "    Returns\n",
    "    -------\n",
    "    float\n",
    "        la media de a1, a2, a3 y a4\n",
    "        \n",
    "    Example\n",
    "    -------\n",
    "    >>> media_4(1.5, 9.1, 3.0, 6.7)\n",
    "    5.075\n",
    "    \"\"\"\n",
    "    suma = a1 + a2 + a3 + a4\n",
    "    return suma / 4\n",
    "\n",
    "media_4(1.5, 9.1, 3.0, 6.7)"
   ]
  },
  {
   "cell_type": "markdown",
   "metadata": {},
   "source": [
    "La documentación de una función es un atributo suyo, recuperable en Python:"
   ]
  },
  {
   "cell_type": "code",
   "execution_count": 7,
   "metadata": {},
   "outputs": [
    {
     "name": "stdout",
     "output_type": "stream",
     "text": [
      "\n",
      "    Función que calcula el máximo de 2 números\n",
      "    \n",
      "    Parameters\n",
      "    ----------\n",
      "    x : int\n",
      "        El primer número\n",
      "    y : int\n",
      "        El segundo número\n",
      "        \n",
      "    Returns\n",
      "    -------\n",
      "    int\n",
      "        El máximo de los valores x e y\n",
      "    \n",
      "    Example\n",
      "    -------\n",
      "    >>> maximo(2, 3)\n",
      "    3\n",
      "    \n"
     ]
    }
   ],
   "source": [
    "print(maximo.__doc__)"
   ]
  },
  {
   "cell_type": "code",
   "execution_count": 8,
   "metadata": {},
   "outputs": [
    {
     "name": "stdout",
     "output_type": "stream",
     "text": [
      "\n",
      "    Función que devuelve la media de 4 números reales\n",
      "   \n",
      "    Parameters\n",
      "    ----------\n",
      "    a1, a2, a3, a4: number (int or float)\n",
      "    \n",
      "    Returns\n",
      "    -------\n",
      "    float\n",
      "        la media de a1, a2, a3 y a4\n",
      "        \n",
      "    Example\n",
      "    -------\n",
      "    >>> media_4(1.5, 9.1, 3.0, 6.7)\n",
      "    5.075\n",
      "    \n"
     ]
    }
   ],
   "source": [
    "print(media_4.__doc__)"
   ]
  },
  {
   "cell_type": "markdown",
   "metadata": {},
   "source": [
    "La documentación de una función puede verse en Spyder, en el inspector de objetos, formateada de manera estándar."
   ]
  },
  {
   "cell_type": "markdown",
   "metadata": {},
   "source": [
    "## Requisitos: precondición\n",
    "\n",
    "Cuando sea necesario, también se han de poner los requisitos que deben cumplir los parámetros de una función."
   ]
  },
  {
   "cell_type": "code",
   "execution_count": 9,
   "metadata": {},
   "outputs": [
    {
     "name": "stdout",
     "output_type": "stream",
     "text": [
      "1.4142135623730951\n"
     ]
    },
    {
     "ename": "ValueError",
     "evalue": "math domain error",
     "output_type": "error",
     "traceback": [
      "\u001b[1;31m---------------------------------------------------------------------------\u001b[0m",
      "\u001b[1;31mValueError\u001b[0m                                Traceback (most recent call last)",
      "Input \u001b[1;32mIn [9]\u001b[0m, in \u001b[0;36m<cell line: 33>\u001b[1;34m()\u001b[0m\n\u001b[0;32m     29\u001b[0m \u001b[38;5;28mprint\u001b[39m(lado_cuadrado(\u001b[38;5;241m2\u001b[39m))\n\u001b[0;32m     31\u001b[0m \u001b[38;5;66;03m# El siguiente ejemplo fallará. Vemos que la precondición era necesaria:\u001b[39;00m\n\u001b[1;32m---> 33\u001b[0m \u001b[38;5;28mprint\u001b[39m(\u001b[43mlado_cuadrado\u001b[49m\u001b[43m(\u001b[49m\u001b[38;5;241;43m-\u001b[39;49m\u001b[38;5;241;43m2\u001b[39;49m\u001b[43m)\u001b[49m)\n",
      "Input \u001b[1;32mIn [9]\u001b[0m, in \u001b[0;36mlado_cuadrado\u001b[1;34m(area)\u001b[0m\n\u001b[0;32m      3\u001b[0m \u001b[38;5;28;01mdef\u001b[39;00m \u001b[38;5;21mlado_cuadrado\u001b[39m(area):\n\u001b[0;32m      4\u001b[0m     \u001b[38;5;124;03m\"\"\"\u001b[39;00m\n\u001b[0;32m      5\u001b[0m \u001b[38;5;124;03m    Función que calcula el lado de un cuadrado, comocida su área\u001b[39;00m\n\u001b[0;32m      6\u001b[0m \n\u001b[1;32m   (...)\u001b[0m\n\u001b[0;32m     24\u001b[0m \u001b[38;5;124;03m    28.274333882308138    \u001b[39;00m\n\u001b[0;32m     25\u001b[0m \u001b[38;5;124;03m    \"\"\"\u001b[39;00m\n\u001b[1;32m---> 26\u001b[0m     lado \u001b[38;5;241m=\u001b[39m \u001b[43mmath\u001b[49m\u001b[38;5;241;43m.\u001b[39;49m\u001b[43msqrt\u001b[49m\u001b[43m(\u001b[49m\u001b[43marea\u001b[49m\u001b[43m)\u001b[49m\n\u001b[0;32m     27\u001b[0m     \u001b[38;5;28;01mreturn\u001b[39;00m lado\n",
      "\u001b[1;31mValueError\u001b[0m: math domain error"
     ]
    }
   ],
   "source": [
    "import math\n",
    "\n",
    "def lado_cuadrado(area):\n",
    "    \"\"\"\n",
    "    Función que calcula el lado de un cuadrado, comocida su área\n",
    "\n",
    "    Parameters\n",
    "    ----------\n",
    "    area : float\n",
    "        El área de un cuadrado\n",
    "\n",
    "    Precondition\n",
    "    ------------\n",
    "    area >= 0\n",
    "\n",
    "    Returns\n",
    "    ------\n",
    "    float\n",
    "        El lado de dicho cuadrado\n",
    "\n",
    "    Example\n",
    "    -------\n",
    "    >>> circle(3)\n",
    "    28.274333882308138    \n",
    "    \"\"\"\n",
    "    lado = math.sqrt(area)\n",
    "    return lado\n",
    "\n",
    "print(lado_cuadrado(2))\n",
    "\n",
    "# El siguiente ejemplo fallará. Vemos que la precondición era necesaria:\n",
    "\n",
    "print(lado_cuadrado(-2))\n"
   ]
  },
  {
   "cell_type": "markdown",
   "metadata": {},
   "source": [
    "Una forma de imponer una precondición es mediante una aserción al inicio de una función:"
   ]
  },
  {
   "cell_type": "code",
   "execution_count": 10,
   "metadata": {},
   "outputs": [
    {
     "name": "stdout",
     "output_type": "stream",
     "text": [
      "1.4142135623730951\n"
     ]
    },
    {
     "ename": "AssertionError",
     "evalue": "el área debe ser positiva",
     "output_type": "error",
     "traceback": [
      "\u001b[1;31m---------------------------------------------------------------------------\u001b[0m",
      "\u001b[1;31mAssertionError\u001b[0m                            Traceback (most recent call last)",
      "Input \u001b[1;32mIn [10]\u001b[0m, in \u001b[0;36m<cell line: 12>\u001b[1;34m()\u001b[0m\n\u001b[0;32m      8\u001b[0m \u001b[38;5;28mprint\u001b[39m(lado_cuadrado(\u001b[38;5;241m2\u001b[39m))\n\u001b[0;32m     10\u001b[0m \u001b[38;5;66;03m# El siguiente ejemplo fallará. Vemos que la precondición era necesaria:\u001b[39;00m\n\u001b[1;32m---> 12\u001b[0m \u001b[38;5;28mprint\u001b[39m(\u001b[43mlado_cuadrado\u001b[49m\u001b[43m(\u001b[49m\u001b[38;5;241;43m-\u001b[39;49m\u001b[38;5;241;43m2\u001b[39;49m\u001b[43m)\u001b[49m)\n",
      "Input \u001b[1;32mIn [10]\u001b[0m, in \u001b[0;36mlado_cuadrado\u001b[1;34m(area)\u001b[0m\n\u001b[0;32m      3\u001b[0m \u001b[38;5;28;01mdef\u001b[39;00m \u001b[38;5;21mlado_cuadrado\u001b[39m(area):\n\u001b[1;32m----> 4\u001b[0m     \u001b[38;5;28;01massert\u001b[39;00m area \u001b[38;5;241m>\u001b[39m\u001b[38;5;241m=\u001b[39m \u001b[38;5;241m0\u001b[39m, \u001b[38;5;124m\"\u001b[39m\u001b[38;5;124mel área debe ser positiva\u001b[39m\u001b[38;5;124m\"\u001b[39m\n\u001b[0;32m      5\u001b[0m     lado \u001b[38;5;241m=\u001b[39m math\u001b[38;5;241m.\u001b[39msqrt(area)\n\u001b[0;32m      6\u001b[0m     \u001b[38;5;28;01mreturn\u001b[39;00m lado\n",
      "\u001b[1;31mAssertionError\u001b[0m: el área debe ser positiva"
     ]
    }
   ],
   "source": [
    "import math\n",
    "\n",
    "def lado_cuadrado(area):\n",
    "    assert area >= 0, \"el área debe ser positiva\"\n",
    "    lado = math.sqrt(area)\n",
    "    return lado\n",
    "\n",
    "print(lado_cuadrado(2))\n",
    "\n",
    "# El siguiente ejemplo fallará. Vemos que la precondición era necesaria:\n",
    "\n",
    "print(lado_cuadrado(-2))"
   ]
  },
  {
   "cell_type": "markdown",
   "metadata": {},
   "source": [
    "Como ejemplo de lo anterior, fíjate en la siguiente función. Resuelve una ecuación de segundo grado $a x^2 + b x + c = 0$, dados sus coeficientes. Lo hace áplicando la fórmula siguiente:\n",
    "\n",
    "$$x = \\frac{-b \\pm \\sqrt{b^2 - 4 a c}}{2a}$$\n",
    "\n",
    "Pero no funciona si el radicando es negativo o si el coeficiente $a$ es nulo."
   ]
  },
  {
   "cell_type": "code",
   "execution_count": 11,
   "metadata": {},
   "outputs": [
    {
     "name": "stdout",
     "output_type": "stream",
     "text": [
      "3.0 2.0\n"
     ]
    }
   ],
   "source": [
    "def ec_2_grado(a, b, c):\n",
    "    \"\"\"\n",
    "    Función que calcula las soluciones de una ecuación cuadrática\n",
    "        a * x**2 + b * x + c = 0\n",
    "\n",
    "    Precondition\n",
    "    ------------\n",
    "    a != 0 and b*b - 4*a*c >= 0\n",
    "\n",
    "    Parameters\n",
    "    ----------\n",
    "    a, b, c : float\n",
    "        coeficientes de la ecuación\n",
    "\n",
    "    Returns\n",
    "    -------\n",
    "    (float, float)\n",
    "        Solutions of equation\n",
    "\n",
    "    Example\n",
    "    -------\n",
    "    >>> ec_2_grado(1, -5, 6)\n",
    "    (3.0, 2.0)\n",
    "    \"\"\"\n",
    "    disc = b*b - 4*a*c\n",
    "    sol1 = (-b + math.sqrt(disc)) / (2*a)\n",
    "    sol2 = (-b - math.sqrt(disc)) / (2*a)\n",
    "    return sol1, sol2\n",
    "\n",
    "a, b = ec_2_grado(1, -5, 6)\n",
    "print(a, b)"
   ]
  },
  {
   "cell_type": "markdown",
   "metadata": {},
   "source": [
    "¿Qué ocurrre a la función si los parámetros no cumplen la precondición?"
   ]
  },
  {
   "cell_type": "code",
   "execution_count": 12,
   "metadata": {},
   "outputs": [
    {
     "ename": "ValueError",
     "evalue": "math domain error",
     "output_type": "error",
     "traceback": [
      "\u001b[1;31m---------------------------------------------------------------------------\u001b[0m",
      "\u001b[1;31mValueError\u001b[0m                                Traceback (most recent call last)",
      "Input \u001b[1;32mIn [12]\u001b[0m, in \u001b[0;36m<cell line: 1>\u001b[1;34m()\u001b[0m\n\u001b[1;32m----> 1\u001b[0m a, b \u001b[38;5;241m=\u001b[39m \u001b[43mec_2_grado\u001b[49m\u001b[43m(\u001b[49m\u001b[38;5;241;43m1\u001b[39;49m\u001b[43m,\u001b[49m\u001b[43m \u001b[49m\u001b[38;5;241;43m1\u001b[39;49m\u001b[43m,\u001b[49m\u001b[43m \u001b[49m\u001b[38;5;241;43m4\u001b[39;49m\u001b[43m)\u001b[49m\n",
      "Input \u001b[1;32mIn [11]\u001b[0m, in \u001b[0;36mec_2_grado\u001b[1;34m(a, b, c)\u001b[0m\n\u001b[0;32m      2\u001b[0m \u001b[38;5;124;03m\"\"\"\u001b[39;00m\n\u001b[0;32m      3\u001b[0m \u001b[38;5;124;03mFunción que calcula las soluciones de una ecuación cuadrática\u001b[39;00m\n\u001b[0;32m      4\u001b[0m \u001b[38;5;124;03m    a * x**2 + b * x + c = 0\u001b[39;00m\n\u001b[1;32m   (...)\u001b[0m\n\u001b[0;32m     23\u001b[0m \u001b[38;5;124;03m(3.0, 2.0)\u001b[39;00m\n\u001b[0;32m     24\u001b[0m \u001b[38;5;124;03m\"\"\"\u001b[39;00m\n\u001b[0;32m     25\u001b[0m disc \u001b[38;5;241m=\u001b[39m b\u001b[38;5;241m*\u001b[39mb \u001b[38;5;241m-\u001b[39m \u001b[38;5;241m4\u001b[39m\u001b[38;5;241m*\u001b[39ma\u001b[38;5;241m*\u001b[39mc\n\u001b[1;32m---> 26\u001b[0m sol1 \u001b[38;5;241m=\u001b[39m (\u001b[38;5;241m-\u001b[39mb \u001b[38;5;241m+\u001b[39m \u001b[43mmath\u001b[49m\u001b[38;5;241;43m.\u001b[39;49m\u001b[43msqrt\u001b[49m\u001b[43m(\u001b[49m\u001b[43mdisc\u001b[49m\u001b[43m)\u001b[49m) \u001b[38;5;241m/\u001b[39m (\u001b[38;5;241m2\u001b[39m\u001b[38;5;241m*\u001b[39ma)\n\u001b[0;32m     27\u001b[0m sol2 \u001b[38;5;241m=\u001b[39m (\u001b[38;5;241m-\u001b[39mb \u001b[38;5;241m-\u001b[39m math\u001b[38;5;241m.\u001b[39msqrt(disc)) \u001b[38;5;241m/\u001b[39m (\u001b[38;5;241m2\u001b[39m\u001b[38;5;241m*\u001b[39ma)\n\u001b[0;32m     28\u001b[0m \u001b[38;5;28;01mreturn\u001b[39;00m sol1, sol2\n",
      "\u001b[1;31mValueError\u001b[0m: math domain error"
     ]
    }
   ],
   "source": [
    "a, b = ec_2_grado(1, 1, 4)"
   ]
  },
  {
   "cell_type": "code",
   "execution_count": 13,
   "metadata": {},
   "outputs": [
    {
     "ename": "ZeroDivisionError",
     "evalue": "float division by zero",
     "output_type": "error",
     "traceback": [
      "\u001b[1;31m---------------------------------------------------------------------------\u001b[0m",
      "\u001b[1;31mZeroDivisionError\u001b[0m                         Traceback (most recent call last)",
      "Input \u001b[1;32mIn [13]\u001b[0m, in \u001b[0;36m<cell line: 1>\u001b[1;34m()\u001b[0m\n\u001b[1;32m----> 1\u001b[0m a, b \u001b[38;5;241m=\u001b[39m \u001b[43mec_2_grado\u001b[49m\u001b[43m(\u001b[49m\u001b[38;5;241;43m0\u001b[39;49m\u001b[43m,\u001b[49m\u001b[43m \u001b[49m\u001b[38;5;241;43m4\u001b[39;49m\u001b[43m,\u001b[49m\u001b[43m \u001b[49m\u001b[38;5;241;43m1\u001b[39;49m\u001b[43m)\u001b[49m\n",
      "Input \u001b[1;32mIn [11]\u001b[0m, in \u001b[0;36mec_2_grado\u001b[1;34m(a, b, c)\u001b[0m\n\u001b[0;32m      2\u001b[0m \u001b[38;5;124;03m\"\"\"\u001b[39;00m\n\u001b[0;32m      3\u001b[0m \u001b[38;5;124;03mFunción que calcula las soluciones de una ecuación cuadrática\u001b[39;00m\n\u001b[0;32m      4\u001b[0m \u001b[38;5;124;03m    a * x**2 + b * x + c = 0\u001b[39;00m\n\u001b[1;32m   (...)\u001b[0m\n\u001b[0;32m     23\u001b[0m \u001b[38;5;124;03m(3.0, 2.0)\u001b[39;00m\n\u001b[0;32m     24\u001b[0m \u001b[38;5;124;03m\"\"\"\u001b[39;00m\n\u001b[0;32m     25\u001b[0m disc \u001b[38;5;241m=\u001b[39m b\u001b[38;5;241m*\u001b[39mb \u001b[38;5;241m-\u001b[39m \u001b[38;5;241m4\u001b[39m\u001b[38;5;241m*\u001b[39ma\u001b[38;5;241m*\u001b[39mc\n\u001b[1;32m---> 26\u001b[0m sol1 \u001b[38;5;241m=\u001b[39m \u001b[43m(\u001b[49m\u001b[38;5;241;43m-\u001b[39;49m\u001b[43mb\u001b[49m\u001b[43m \u001b[49m\u001b[38;5;241;43m+\u001b[39;49m\u001b[43m \u001b[49m\u001b[43mmath\u001b[49m\u001b[38;5;241;43m.\u001b[39;49m\u001b[43msqrt\u001b[49m\u001b[43m(\u001b[49m\u001b[43mdisc\u001b[49m\u001b[43m)\u001b[49m\u001b[43m)\u001b[49m\u001b[43m \u001b[49m\u001b[38;5;241;43m/\u001b[39;49m\u001b[43m \u001b[49m\u001b[43m(\u001b[49m\u001b[38;5;241;43m2\u001b[39;49m\u001b[38;5;241;43m*\u001b[39;49m\u001b[43ma\u001b[49m\u001b[43m)\u001b[49m\n\u001b[0;32m     27\u001b[0m sol2 \u001b[38;5;241m=\u001b[39m (\u001b[38;5;241m-\u001b[39mb \u001b[38;5;241m-\u001b[39m math\u001b[38;5;241m.\u001b[39msqrt(disc)) \u001b[38;5;241m/\u001b[39m (\u001b[38;5;241m2\u001b[39m\u001b[38;5;241m*\u001b[39ma)\n\u001b[0;32m     28\u001b[0m \u001b[38;5;28;01mreturn\u001b[39;00m sol1, sol2\n",
      "\u001b[1;31mZeroDivisionError\u001b[0m: float division by zero"
     ]
    }
   ],
   "source": [
    "a, b = ec_2_grado(0, 4, 1)"
   ]
  },
  {
   "cell_type": "markdown",
   "metadata": {},
   "source": [
    "A lo mejor puedes, tú mismo, definir una nueva versión que da lensajes más adecuados, como los siguientes:\n",
    "\n",
    "- El discriminante de la ecuación es negativo\n",
    "- La ecuación no es de primer grado"
   ]
  },
  {
   "cell_type": "code",
   "execution_count": 4,
   "metadata": {},
   "outputs": [
    {
     "name": "stdout",
     "output_type": "stream",
     "text": [
      "3.0 2.0\n"
     ]
    }
   ],
   "source": [
    "def ec_2_grado(a, b, c):\n",
    "    \"\"\"\n",
    "    Función que calcula las soluciones de una ecuación cuadrática\n",
    "        a * x**2 + b * x + c = 0\n",
    "\n",
    "    Precondition\n",
    "    ------------\n",
    "    a != 0 and b*b - 4*a*c >= 0\n",
    "\n",
    "    Parameters\n",
    "    ----------\n",
    "    a, b, c : float\n",
    "        coeficientes de la ecuación\n",
    "\n",
    "    Returns\n",
    "    -------\n",
    "    (float, float)\n",
    "        Solutions of equation\n",
    "\n",
    "    Example\n",
    "    -------\n",
    "    >>> ec_2_grado(1, -5, 6)\n",
    "    (3.0, 2.0)\n",
    "    \"\"\"\n",
    "    assert a!=0, \"La ecuacion no es de primer grado\"\n",
    "    assert b*b - 4*a*c >= 0, \"El discriminante de la ecuacion es negativo\"\n",
    "    disc = b*b - 4*a*c\n",
    "    sol1 = (-b + math.sqrt(disc)) / (2*a)\n",
    "    sol2 = (-b - math.sqrt(disc)) / (2*a)\n",
    "    return sol1, sol2\n",
    "\n",
    "a, b = ec_2_grado(1, -5, 6)\n",
    "print(a, b)"
   ]
  },
  {
   "cell_type": "markdown",
   "metadata": {},
   "source": [
    "## Parámetros por defecto"
   ]
  },
  {
   "cell_type": "code",
   "execution_count": 1,
   "metadata": {},
   "outputs": [
    {
     "name": "stdout",
     "output_type": "stream",
     "text": [
      "9.0 9.0 3.0 2.4082246852806923\n"
     ]
    }
   ],
   "source": [
    "def raiz(x, indice=2):\n",
    "    return x ** (1/indice)\n",
    "\n",
    "print(raiz(81), raiz(81, indice=2), raiz(81, indice=4), raiz(81, indice=5))"
   ]
  },
  {
   "cell_type": "markdown",
   "metadata": {},
   "source": [
    "## Errores comunes"
   ]
  },
  {
   "cell_type": "markdown",
   "metadata": {},
   "source": [
    "Se nos olvida el ``return``"
   ]
  },
  {
   "cell_type": "code",
   "execution_count": 15,
   "metadata": {},
   "outputs": [],
   "source": [
    "def numero_triangular(n):\n",
    "    \"\"\"\n",
    "    This function computes the n-th triangular number\n",
    "\n",
    "    Parameters\n",
    "    ----------\n",
    "    n : int\n",
    "\n",
    "    Precondition\n",
    "    ------------\n",
    "    n > 0\n",
    "\n",
    "    Returns\n",
    "    -------\n",
    "    int\n",
    "    \"\"\"\n",
    "    ntriag = (n * (n +1)) // 2"
   ]
  },
  {
   "cell_type": "code",
   "execution_count": 16,
   "metadata": {},
   "outputs": [
    {
     "name": "stdout",
     "output_type": "stream",
     "text": [
      "None\n"
     ]
    }
   ],
   "source": [
    "n = numero_triangular(5)\n",
    "print(n)"
   ]
  },
  {
   "cell_type": "markdown",
   "metadata": {},
   "source": [
    "La función devuelve el valor ``None`` (un valor *vacío*)."
   ]
  },
  {
   "cell_type": "markdown",
   "metadata": {},
   "source": [
    "La función siguiente opera correctamente gracias a los redondeos, necesarios para limar los errores de precisión en los cálculos de las raíces."
   ]
  },
  {
   "cell_type": "code",
   "execution_count": 17,
   "metadata": {},
   "outputs": [
    {
     "data": {
      "text/plain": [
       "(1, 1, 2, 3, 5, 8)"
      ]
     },
     "execution_count": 17,
     "metadata": {},
     "output_type": "execute_result"
    }
   ],
   "source": [
    "def fibonacci(n):\n",
    "    \"\"\"\n",
    "    This function returns the n-th Fibonacci number\n",
    "\n",
    "    Parameters \n",
    "    ----------\n",
    "    n : int\n",
    "        n-th Fibonacci number\n",
    "\n",
    "    Precondition\n",
    "    ------------\n",
    "    n > 0\n",
    "\n",
    "    Returns\n",
    "    -------\n",
    "    int\n",
    "\n",
    "    Example\n",
    "    -------\n",
    "    >>> fibonacci(5)\n",
    "    5\n",
    "    \"\"\"\n",
    "    phi = (1 + math.sqrt(5)) / 2\n",
    "    psi = (1 - math.sqrt(5)) / 2\n",
    "    # do not forget the int(...) and round functions, otherwise it will be a real number.\n",
    "    return int(round( (phi**n - psi**n) / math.sqrt(5) )) \n",
    "\n",
    "fibonacci(1), fibonacci(2), fibonacci(3), fibonacci(4), fibonacci(5), fibonacci(6)"
   ]
  },
  {
   "cell_type": "markdown",
   "metadata": {},
   "source": [
    "## Referencias\n",
    "Siguiendo con las referencias de w3schools, damos seguidamente el enlace sobre funciones:\n",
    "\n",
    "https://www.w3schools.com/python/python_functions.asp"
   ]
  }
 ],
 "metadata": {
  "kernelspec": {
   "display_name": "Python 3",
   "language": "python",
   "name": "python3"
  },
  "language_info": {
   "codemirror_mode": {
    "name": "ipython",
    "version": 3
   },
   "file_extension": ".py",
   "mimetype": "text/x-python",
   "name": "python",
   "nbconvert_exporter": "python",
   "pygments_lexer": "ipython3",
   "version": "3.11.11"
  }
 },
 "nbformat": 4,
 "nbformat_minor": 1
}
