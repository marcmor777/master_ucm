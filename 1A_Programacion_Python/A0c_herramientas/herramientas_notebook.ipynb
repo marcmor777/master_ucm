{
 "cells": [
  {
   "cell_type": "markdown",
   "metadata": {
    "collapsed": true
   },
   "source": [
    "# Python. Las herramientas de trabajo\n",
    "\n",
    "<hr>\n",
    "\n",
    "Si queremos empezar por el principio, debemos hablar de Python antes que de cualquier otra cosa. \n",
    "\n",
    "Python se ha convertido en el principal lenguaje de programación usado en áreas tan importantes en la actualidad como son la ciencia de los datos, el aprendizaje de máquina, el análisis de datos, el procesamiento de datos a gran escala, el análisis predictivo, el procesamiento de lenguaje natural, la matemática simbólica, la estadística, y un largo etcétera.\n",
    "\n",
    "En esta sesión introducimos las herramientas básicas, desde el punto de vista práctico, con las que vamos a trabajar en este curso: Python e IPython, Anaconda, Spyder y el Jupyter Notebook de Python."
   ]
  },
  {
   "cell_type": "markdown",
   "metadata": {
    "collapsed": true
   },
   "source": [
    "## ¿Qué es Python?\n",
    "\n",
    "Python es un lenguaje de Programación creado por Guido van Rossum en 1991. El nombre de este lenguaje \n",
    "no guarda ninguna relación con la serpiente pitón --aunque luego resulta divertido hacer analogías con este reptil-- sino con el grupo de humoristas británicos, los Monty Python.\n",
    "\n",
    "Te aconsejo que eches un vistazo a la página oficial de Python:\n",
    "\n",
    "<center>\n",
    "    <a href=\"https://www.python.org/\">https://www.python.org/</a> </li>\n",
    "</center>\n",
    "\n",
    "En ella encontrarás unos pequeños ejemplos con los que te formarás una idea rápida de algunas de las características de Python.\n",
    "\n",
    "Este lenguaje posee una licencia de código abierto, que es compatible con la Licencia pública general de GNU a partir de la versión 2.1.1. Nosotros usaremos la versión 3, que no es completamente compatible con las anteriores; esto es un detalle importante porque si se usa código Python de la versión 2, es posible que se produzcan algunos errores.\n",
    "\n",
    "\n",
    "## Anaconda\n",
    "\n",
    "Anaconda es una distribución científica de Python gratuita, que incluye varias herramientas que nos facilitarán el trabajo y es perfecta para empezar. Para instalarla, sigue las instrucciones incluidas en la siguiente página:\n",
    "\n",
    "<br>\n",
    "\n",
    "<center>\n",
    "<a href=\"https://www.anaconda.com/download\">\n",
    "    https://www.anaconda.com/download</a>\n",
    "</center>    \n",
    "\n",
    "<img src=\"./images/anaconda-2.png\">\n",
    "\n",
    "\n",
    "## Spyder\n",
    "\n",
    "Una de las herramientas que proporciona Anaconda es Spyder, un entorno de desarrollo integrado (en inglés, IDE = *Interactive Development Environment*) para el lenguaje Python. Spyder puede instalarse y usarse independientemente de Anaconda. Spyder ofrece facilidades para edición, pruebas interactivas, depuración, etc., e incluye una serie de paquetes típicamente usados para computación científica y ciencia de los datos.\n",
    "\n",
    "\n",
    "Al arrancar Spyder, se abre una ventana como la siguiente:\n",
    "\n",
    "<img src=\"./images/spyder.png\" width=\"500\">\n",
    "\n",
    "El nombre *SPYDER* proviene de *Scientific PYthon Development EnviRonment*.\n",
    "\n",
    "Las dos partes más importantes ahora en la ventana de Spyder son el cuadro de la izquierda, en el que se puede ir escribiendo código de Python, y la parte central de la derecha (*IPython*), una terminal donde se pueden ir haciendo pruebas interactivas.\n",
    "Veámoslo con más detalle en el siguiente apartado.\n",
    "\n",
    "\n",
    "## IPython\n",
    "\n",
    "IPython es una consola interactiva de Python, que amplía sus funcionalidades con otras, como son el resaltado de líneas y errores mediante colores, autocompletado de variables mediante el tabulador, etc.\n",
    "\n",
    "<img src=\"./images/Terminal de IPython-2.png\" width=\"500\">\n",
    "\n",
    "Al arrancar Spyder, mi primera recomendación es que te sitúes en la ventana de IPython y pruebes por ti mismo su funcionamiento con las instrucciones que ves en el ejemplo o con otras que tú mismo elijas.\n",
    "\n",
    "\n",
    "## El Jupyter Notebook de Python\n",
    "\n",
    "El Jupyter Notebook de Python es una interfaz de Python que añade algunas mejoras, permitiendo combinar código de Python con fragmentos de texto y con imágenes, y donde el texto está enriquecido con tablas, tipos de letra, fórmulas de $\\LaTeX$ como ésta: $\\frac{-b \\pm \\sqrt{b^2-4ac}}{2a}$, tablas, etc. Por lo tanto, es una herramienta ideal para crear documentos interactivos, y también por eso existen actualmente muchos cursos en que el material se organiza como una colección de archivos de Notebook. Es corriente, además, desarrollar proyectos profesionales con Jupyter.\n",
    "\n",
    "Por ejemplo, este documento es un archivo de Notebook, y tú puedes usarlo para leerlo (tanto su código fuente como la imagen legible generada), para probar el funcionamiento de las instrucciones que contiene y experimentar con ellas o con otras nuevas, puedes cambiar en él lo que quieras y añadir o modificar texto, código o imágenes.\n",
    "\n",
    "Y cada celda de markdown puede verse en su presentación final o en su descripción, haciendo un doble click sobre ella o pulsando la tecla *run* del menú superior.\n",
    "\n",
    "Los archivos manejados por el Notebook de Python se almacenan con la extensión *ipynb*. Este archivo es un ejemplo de ello, aunque también se puede almacenar en forma de *pdf*.\n",
    "\n",
    "Te aconsejo que te sitúes en una celda de tipo markdown, pulses doble click para modificar algo y veas el resultado, ejecutándola con run, y también, luego, que te sitúes en una celda de código ejecutable, modifiques algo y veas también el resultado, también ejecutándola (run)."
   ]
  },
  {
   "cell_type": "markdown",
   "metadata": {},
   "source": [
    "## Modo interactivo\n",
    "\n",
    "Tanto en IPython como en el Notebook de Jupyter, se puede trabajar de manera interactiva. La manera más sencilla de iniciarse es similar al uso de una calculadora:"
   ]
  },
  {
   "cell_type": "code",
   "execution_count": 1,
   "metadata": {},
   "outputs": [
    {
     "name": "stdout",
     "output_type": "stream",
     "text": [
      "103\n"
     ]
    }
   ],
   "source": [
    "x = 30 + 50\n",
    "print(x + 23)"
   ]
  },
  {
   "cell_type": "markdown",
   "metadata": {
    "collapsed": true
   },
   "source": [
    "En el modo interactivo, podemos ir escribiendo *expresiones*, como la anterior, y se calculan directamente.\n",
    "\n",
    "Como hemos visto, podemos ir ejecutando *instrucciones*, y se van ejecutando una a una, el orden.\n",
    "\n",
    "Por ejemplo, una *instrucción de asignación*, `x = 30 + 50`, que sirve para almacenar el resultado de un cálculo en una *variable*, o la *instrucción de escritura*, `print(x + 23)`, que escribe en la pantalla el resultado de un cálculo:"
   ]
  },
  {
   "cell_type": "code",
   "execution_count": 2,
   "metadata": {},
   "outputs": [
    {
     "name": "stdout",
     "output_type": "stream",
     "text": [
      "8\n",
      "8  ->  256\n"
     ]
    }
   ],
   "source": [
    "x = 3 + 5\n",
    "print(x)\n",
    "\n",
    "y = 2**x\n",
    "print(x, \" -> \", y)"
   ]
  },
  {
   "cell_type": "markdown",
   "metadata": {
    "collapsed": true
   },
   "source": [
    "Es decir, la suma `3 + 5` se almacena en la variable `x`, y luego se escribe el valor de esta variable. Luego, esa variable mantiene su valor y se puede utilizar de nuevo...\n",
    "\n",
    "La *variable* `x` es como un contenedor, una cajita en la que se guarda un valor, y que se usa diciendo su nombre o *identificador*, `x`. En este caso, `x` es una variable entera, es decir, el *tipo de datos* de dicha variable es un entero:"
   ]
  },
  {
   "cell_type": "code",
   "execution_count": 3,
   "metadata": {},
   "outputs": [
    {
     "name": "stdout",
     "output_type": "stream",
     "text": [
      "<class 'int'>\n"
     ]
    }
   ],
   "source": [
    "print(type(x))"
   ]
  },
  {
   "cell_type": "markdown",
   "metadata": {
    "collapsed": true
   },
   "source": [
    "Pero podemos manejar reales, cadenas de caracteres, listas..."
   ]
  },
  {
   "cell_type": "code",
   "execution_count": 4,
   "metadata": {},
   "outputs": [
    {
     "name": "stdout",
     "output_type": "stream",
     "text": [
      "8.0\n",
      "<class 'float'>\n",
      "Python, mi serpiente favorita\n",
      "<class 'str'>\n",
      "['Cristóbal', 2, 72.0, '91123985']\n",
      "<class 'list'>\n"
     ]
    }
   ],
   "source": [
    "x = (5.75 + 6.75 + 9.5 + 10.0) / 4\n",
    "print(x)\n",
    "print(type(x))\n",
    "\n",
    "x = \"Python, mi serpiente favorita\"\n",
    "print(x)\n",
    "print(type(x))\n",
    "\n",
    "x = [\"Cristóbal\", 2, 72.0, \"91123985\"]\n",
    "print(x)\n",
    "print(type(x))"
   ]
  },
  {
   "cell_type": "markdown",
   "metadata": {
    "collapsed": true
   },
   "source": [
    "Observamos que la variable `x` es un entero, luego una cadena de caracteres (llamada un *string*), luego una lista, etc."
   ]
  },
  {
   "cell_type": "markdown",
   "metadata": {
    "collapsed": true
   },
   "source": [
    "A medida que vamos escribiendo secuencias de código más largas, comprendemos la necesidad de usar identificadores adecuados (`nota_media` mejor que `x`, en este caso) para las variables, y también la necesidad de añadir *comentarios* que aclaren el cometido de las instrucciones:"
   ]
  },
  {
   "cell_type": "code",
   "execution_count": 5,
   "metadata": {},
   "outputs": [
    {
     "name": "stdout",
     "output_type": "stream",
     "text": [
      "8.0\n",
      "<class 'float'>\n",
      "Python es el nombre de un grupo humorístico, no el de la serpiente.\n",
      "<class 'str'>\n",
      "['Cristóbal', 2, 72.0, '91123456']\n",
      "<class 'list'>\n"
     ]
    }
   ],
   "source": [
    "# Cálculo de mi nota media:\n",
    "nota_media = (5.75 + 6.75 + 9.5 + 10.0) / 4\n",
    "print(nota_media)\n",
    "print(type(nota_media))\n",
    "\n",
    "# Origen del nombre del lenguaje Python:\n",
    "frase = \"Python es el nombre de un grupo humorístico, no el de la serpiente.\"\n",
    "print(frase)\n",
    "print(type(frase))\n",
    "\n",
    "# Mis datos: nombre, núm. de hermanos, peso, teléfono:\n",
    "datos_cris = [\"Cristóbal\", 2, 72.0, '91123456']\n",
    "print(datos_cris)\n",
    "print(type(datos_cris))"
   ]
  },
  {
   "cell_type": "markdown",
   "metadata": {
    "collapsed": true
   },
   "source": [
    "## Scripts de Python\n",
    "\n",
    "La ventana de la izquierda de Spyder permite escribir funciones y programas:"
   ]
  },
  {
   "cell_type": "code",
   "execution_count": 6,
   "metadata": {},
   "outputs": [],
   "source": [
    "# Función factorial, versión iterativa:\n",
    "\n",
    "def factorial(n):\n",
    "    acum = 1\n",
    "    for i in range(1, n+1):\n",
    "        acum = acum * i\n",
    "    return acum"
   ]
  },
  {
   "cell_type": "markdown",
   "metadata": {
    "collapsed": true
   },
   "source": [
    "Para usar una función, debemos *ejecutar* su definición e ir de nuevo a la ventana de la derecha, donde ya es posible ejecutar la función definida:"
   ]
  },
  {
   "cell_type": "code",
   "execution_count": 7,
   "metadata": {},
   "outputs": [
    {
     "name": "stdout",
     "output_type": "stream",
     "text": [
      "120\n"
     ]
    }
   ],
   "source": [
    "print(factorial(5))"
   ]
  },
  {
   "cell_type": "code",
   "execution_count": 8,
   "metadata": {},
   "outputs": [
    {
     "name": "stdout",
     "output_type": "stream",
     "text": [
      "1220136825991110068701238785423046926253574342803192842192413588385845373153881997605496447502203281863013616477148203584163378722078177200480785205159329285477907571939330603772960859086270429174547882424912726344305670173270769461062802310452644218878789465754777149863494367781037644274033827365397471386477878495438489595537537990423241061271326984327745715546309977202781014561081188373709531016356324432987029563896628911658974769572087926928871281780070265174507768410719624390394322536422605234945850129918571501248706961568141625359056693423813008856249246891564126775654481886506593847951775360894005745238940335798476363944905313062323749066445048824665075946735862074637925184200459369692981022263971952597190945217823331756934581508552332820762820023402626907898342451712006207714640979456116127629145951237229913340169552363850942885592018727433795173014586357570828355780158735432768888680120399882384702151467605445407663535984174430480128938313896881639487469658817504506926365338175055478128640000000000000000000000000000000000000000000000000000000000000000000000000000000000000000000000000000000000000000000000000000\n"
     ]
    }
   ],
   "source": [
    "print(factorial(500))"
   ]
  },
  {
   "cell_type": "markdown",
   "metadata": {
    "collapsed": true
   },
   "source": [
    "Es frecuente desear que se realicen varias pruebas a la vez:"
   ]
  },
  {
   "cell_type": "code",
   "execution_count": 9,
   "metadata": {},
   "outputs": [
    {
     "name": "stdout",
     "output_type": "stream",
     "text": [
      "1  ->  1\n",
      "2  ->  2\n",
      "3  ->  6\n",
      "4  ->  24\n",
      "5  ->  120\n",
      ".................\n",
      "1  ->  1\n",
      "10  ->  3628800\n",
      "20  ->  2432902008176640000\n",
      "30  ->  265252859812191058636308480000000\n"
     ]
    }
   ],
   "source": [
    "# 1!, 2!, ..., 5!:\n",
    "\n",
    "for k in range(1, 5+1):\n",
    "    print(k, \" -> \", factorial(k))\n",
    "\n",
    "print(\".................\")\n",
    "\n",
    "for k in [1, 10, 20, 30]:\n",
    "    print(k, \" -> \", factorial(k))\n"
   ]
  },
  {
   "cell_type": "markdown",
   "metadata": {
    "collapsed": true
   },
   "source": [
    "## Librerías\n",
    "\n",
    "Existen miles de librerías de Python para resolver problemas en las áreas más diversas, tales como cálculos matemáticos, numéricos o simbólicos, procesamiento de lenguaje natural, estadística, conexión con bases de datos, redes neuronales, procesamiento de imágenes, gráficos, web scraping, estructuras de datos, automatic learning, y un largo etcétera."
   ]
  },
  {
   "cell_type": "code",
   "execution_count": 10,
   "metadata": {},
   "outputs": [
    {
     "name": "stdout",
     "output_type": "stream",
     "text": [
      "0.5000000000000001\n"
     ]
    }
   ],
   "source": [
    "# Importación de la librería math:\n",
    "import math\n",
    "\n",
    "# y uso de una constante definida en dicha librería:\n",
    "print(math.cos(math.pi/3))"
   ]
  },
  {
   "cell_type": "markdown",
   "metadata": {
    "collapsed": true
   },
   "source": [
    "## Conda: instalación de librerías\n",
    "\n",
    "Una de las herramientas que se instalan con Anaconda es el *Anaconda prompt*, una consola desde la cual se pueden actualizar e instalar librerías para los fines más diversos. He aquí un ejemplo de uso, en el que he abreviado la pantalla de ejecución por claridad:\n",
    "\n",
    "<img src=\"./images/anaconda-prompt.png\">"
   ]
  },
  {
   "cell_type": "markdown",
   "metadata": {
    "collapsed": true
   },
   "source": [
    "## Por dónde continuar ahora\n",
    "\n",
    "\n",
    "Una vez introducidas las herramientas básicas, ha llegado el momento de instalarlas y de familiarizarse con ellas.\n",
    "\n",
    "También ha llegado la hora de prepararse para estudiar un curso de Python desde el principio, al ritmo que necesites, según sea tu experiencia en programación en algún otro lenguaje. Y si eres un principiante en el mundo de la programación, simplemente prepárate para disfrutar sin prisa de un lenguaje muy sencillo, muy bonito, y que es actualmente usado ampliamente en el mundo del análisis de datos, de la ciencia de los datos y de la ingeniería de datos."
   ]
  },
  {
   "cell_type": "markdown",
   "metadata": {
    "collapsed": true
   },
   "source": [
    "## Referencias\n",
    "\n",
    "El material elaborado sobre lo estudiado en esta pieza es enorme. Ahora y en general, procuro dar una selección de referencias muy reducida, que sea útil y ofrezca una cantidad de información controlada. La escueta selección que he recopilado esta vez se compone de las páginas oficiales de las herramientas introducidas:\n",
    "\n",
    "<ul>\n",
    "    <li> <a href=\"https://www.python.org/\">https://www.python.org/</a> </li>\n",
    "    <li> <a href=\"https://en.wikipedia.org/wiki/Anaconda_(Python_distribution)\">https://en.wikipedia.org/wiki/Anaconda_(Python_distribution)</a> </li>\n",
    "    <li> <a href=\"https://ipython.org/\">https://ipython.org/</a> </li>\n",
    "    <li> <a href=\"https://www.spyder-ide.org/\">https://www.spyder-ide.org/</a> </li>\n",
    "</ul>   "
   ]
  }
 ],
 "metadata": {
  "kernelspec": {
   "display_name": "Python 3 (ipykernel)",
   "language": "python",
   "name": "python3"
  },
  "language_info": {
   "codemirror_mode": {
    "name": "ipython",
    "version": 3
   },
   "file_extension": ".py",
   "mimetype": "text/x-python",
   "name": "python",
   "nbconvert_exporter": "python",
   "pygments_lexer": "ipython3",
   "version": "3.11.5"
  }
 },
 "nbformat": 4,
 "nbformat_minor": 2
}
