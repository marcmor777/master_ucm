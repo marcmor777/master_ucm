{
 "cells": [
  {
   "cell_type": "markdown",
   "metadata": {},
   "source": [
    "# Funciones y métodos de listas\n",
    "\n",
    "<hr>\n",
    "\n",
    "Las listas en Python vienen con una colección de **operaciones** muy completa. Veamos algunas de ellas:"
   ]
  },
  {
   "cell_type": "markdown",
   "metadata": {},
   "source": [
    "### Rangos o secciones o *slices*\n",
    "\n",
    "En Python hay distintos modos de extraer fragmentos de una lista. Imposible explicarlo mejor que con un ejemplo.\n",
    "Reglas fundamentales del slicing:\n",
    "\n",
    "``lista[inicio:fin:paso]: Esta es la sintaxis general.`` \n",
    "- inicio: indice del primer elemento (se incluye en el resultado)\n",
    "- fin: indice antes del cual paramos (no se incluye este indice en el resultado)\n",
    "- paso: si es >0 va de inicio a fin. Y si es <0 va de reversa"
   ]
  },
  {
   "cell_type": "code",
   "execution_count": 9,
   "metadata": {},
   "outputs": [
    {
     "name": "stdout",
     "output_type": "stream",
     "text": [
      "a)  [10, 20, 30, 40, 50, 60, 70, 80, 90, 100]\n",
      "b)  [40, 50, 60]\n",
      "c)  [10, 20, 30, 40, 50, 60]\n",
      "d)  [70, 80, 90, 100]\n",
      "e)  [100, 90, 80, 70, 60, 50, 40, 30, 20]\n",
      "f)  [100, 90, 80, 70, 60, 50, 40, 30, 20, 10]\n",
      "g)  [10, 20, 30, 40, 50, 60, 70, 80, 90, 100]\n",
      "h)  [10, 20, 30, 40, 50, 60, 70, 80, 90, 100]\n",
      "i)  [10, 30, 50, 70, 90]\n",
      "j)  [100, 80, 60, 40, 20]\n"
     ]
    }
   ],
   "source": [
    "lista = list(range(10, 101, 10))\n",
    "print(\"a) \", lista)\n",
    "print(\"b) \", lista[3:6])\n",
    "print(\"c) \", lista[:6])\n",
    "print(\"d) \", lista[6:])\n",
    "print(\"e) \", lista[-1:0:-1])\n",
    "print(\"f) \", lista[::-1])\n",
    "print(\"g) \", lista[0:10:1])\n",
    "print(\"h) \", lista[ :  :1])\n",
    "print(\"i) \", lista[0:10:2])\n",
    "print(\"j) \", lista[::-2])"
   ]
  },
  {
   "cell_type": "markdown",
   "metadata": {},
   "source": [
    "### Operaciones de uso frecuente\n",
    "\n",
    "Repasamos seguidamente algunas de las operaciones más frecuentes con listas.\n",
    "\n",
    "Observa que muchas de ellas trabajan *in place*, esto es, modificando el objeto de referencia."
   ]
  },
  {
   "cell_type": "markdown",
   "metadata": {},
   "source": [
    "### `append`\n",
    "\n",
    "```\n",
    "lista.append(objeto)\n",
    "```\n",
    "\n",
    "Añade un objeto al final de una lista."
   ]
  },
  {
   "cell_type": "code",
   "execution_count": 2,
   "metadata": {},
   "outputs": [
    {
     "name": "stdout",
     "output_type": "stream",
     "text": [
      "[10, 20, 30, 40, 50, 60, 70, 80, 90, 100, 666]\n"
     ]
    }
   ],
   "source": [
    "lista.append(666)\n",
    "print(lista)"
   ]
  },
  {
   "cell_type": "markdown",
   "metadata": {},
   "source": [
    "### `count`\n",
    "\n",
    "```\n",
    "lista.count(valor)\n",
    "```\n",
    "\n",
    "Da el número de apariciones de un valor en una lista."
   ]
  },
  {
   "cell_type": "code",
   "execution_count": 13,
   "metadata": {},
   "outputs": [
    {
     "data": {
      "text/plain": [
       "(3, 1, 2, 0)"
      ]
     },
     "execution_count": 13,
     "metadata": {},
     "output_type": "execute_result"
    }
   ],
   "source": [
    "lista = [1, 3, 1, 7, 9, 1, 7]\n",
    "lista.count(1), lista.count(3), lista.count(7), lista.count(100)"
   ]
  },
  {
   "cell_type": "markdown",
   "metadata": {},
   "source": [
    "### `extend`\n",
    "\n",
    "```\n",
    "lista.extend(iterable)\n",
    "```\n",
    "\n",
    "Extiende una lista, al final, añadiendo una colección de elementos (iterable)."
   ]
  },
  {
   "cell_type": "code",
   "execution_count": 6,
   "metadata": {},
   "outputs": [
    {
     "name": "stdout",
     "output_type": "stream",
     "text": [
      "[1, 2, 3, 4, 5]\n",
      "[1, 2, 3, 4, 5, 0, 1, 2]\n"
     ]
    }
   ],
   "source": [
    "lista = [1, 2, 3, 4, 5]\n",
    "print(lista)\n",
    "lista.extend(range(3))\n",
    "print(lista)"
   ]
  },
  {
   "cell_type": "markdown",
   "metadata": {},
   "source": [
    "### `index`\n",
    "Da el primer índice en que se encuentra el valor.\n",
    "```\n",
    "lista.index(elemento, inicio, fin) -> integer ``` (inicio/fin son indices)\n"
   ]
  },
  {
   "cell_type": "code",
   "execution_count": 15,
   "metadata": {},
   "outputs": [
    {
     "name": "stdout",
     "output_type": "stream",
     "text": [
      "[10, 20, 30, 40, 50, 10, 20, 30, 40, 50]\n",
      "3 8\n"
     ]
    }
   ],
   "source": [
    "lista = [10, 20, 30, 40, 50, 10, 20, 30, 40, 50]\n",
    "print(lista)\n",
    "print(lista.index(40), lista.index(40, 5))"
   ]
  },
  {
   "cell_type": "markdown",
   "metadata": {},
   "source": [
    "### `insert`\n",
    "\n",
    "```\n",
    "lista.insert(index, objeto)\n",
    "```\n",
    "\n",
    "Inserta un objeto en la posición indicada."
   ]
  },
  {
   "cell_type": "code",
   "execution_count": 10,
   "metadata": {},
   "outputs": [
    {
     "name": "stdout",
     "output_type": "stream",
     "text": [
      "[1, 2, 3, 4, 666, 5]\n",
      "[777, 1, 2, 3, 4, 666, 5]\n",
      "[777, 1, 2, 3, 4, 666, 888, 5]\n",
      "[777, 1, 2, 3, 4, 666, 888, 5, 888]\n"
     ]
    }
   ],
   "source": [
    "lista = [1, 2, 3, 4, 5]\n",
    "lista.insert(4, 666)\n",
    "print(lista)\n",
    "lista.insert(0, 777)\n",
    "print(lista)\n",
    "lista.insert(-1, 888)\n",
    "print(lista)\n",
    "lista.insert(len(lista), 888)\n",
    "print(lista)"
   ]
  },
  {
   "cell_type": "markdown",
   "metadata": {},
   "source": [
    "### `pop`\n",
    "\n",
    "```\n",
    "lista.pop([index]) -> item\n",
    "```\n",
    "\n",
    "Elimina (y devuelve) el elemento en la posición dada por index. Por defecto, el elemento será el último."
   ]
  },
  {
   "cell_type": "code",
   "execution_count": 11,
   "metadata": {},
   "outputs": [
    {
     "name": "stdout",
     "output_type": "stream",
     "text": [
      "[1, 2, 3, 4, 5]\n",
      "[1, 2, 3, 4]\n",
      "[1, 3, 4]\n"
     ]
    }
   ],
   "source": [
    "lista = [1, 2, 3, 4, 5]\n",
    "print(lista)\n",
    "lista.pop()\n",
    "print(lista)\n",
    "lista.pop(1)\n",
    "print(lista)"
   ]
  },
  {
   "cell_type": "markdown",
   "metadata": {},
   "source": [
    "Además de modificar la lista, esta operación devuelve el elemento eliminado:"
   ]
  },
  {
   "cell_type": "code",
   "execution_count": 12,
   "metadata": {},
   "outputs": [
    {
     "name": "stdout",
     "output_type": "stream",
     "text": [
      "[1, 2, 3, 4, 5]\n",
      "5\n",
      "[1, 2, 3, 4]\n"
     ]
    }
   ],
   "source": [
    "lista = [1, 2, 3, 4, 5]\n",
    "print(lista)\n",
    "\n",
    "x = lista.pop()\n",
    "\n",
    "print(x)\n",
    "print(lista)"
   ]
  },
  {
   "cell_type": "markdown",
   "metadata": {},
   "source": [
    "La operación `pop` dispara un IndexError si la lista está vacía o el índice está fuera de rango:"
   ]
  },
  {
   "cell_type": "code",
   "execution_count": 13,
   "metadata": {},
   "outputs": [
    {
     "ename": "IndexError",
     "evalue": "pop index out of range",
     "output_type": "error",
     "traceback": [
      "\u001b[1;31m---------------------------------------------------------------------------\u001b[0m",
      "\u001b[1;31mIndexError\u001b[0m                                Traceback (most recent call last)",
      "Input \u001b[1;32mIn [13]\u001b[0m, in \u001b[0;36m<cell line: 2>\u001b[1;34m()\u001b[0m\n\u001b[0;32m      1\u001b[0m lista \u001b[38;5;241m=\u001b[39m [\u001b[38;5;241m1\u001b[39m, \u001b[38;5;241m2\u001b[39m, \u001b[38;5;241m3\u001b[39m]\n\u001b[1;32m----> 2\u001b[0m \u001b[43mlista\u001b[49m\u001b[38;5;241;43m.\u001b[39;49m\u001b[43mpop\u001b[49m\u001b[43m(\u001b[49m\u001b[38;5;241;43m10\u001b[39;49m\u001b[43m)\u001b[49m\n",
      "\u001b[1;31mIndexError\u001b[0m: pop index out of range"
     ]
    }
   ],
   "source": [
    "lista = [1, 2, 3]\n",
    "lista.pop(10)"
   ]
  },
  {
   "cell_type": "markdown",
   "metadata": {},
   "source": [
    "### `remove`\n",
    "\n",
    "```\n",
    "lista.remove(valor)\n",
    "```\n",
    "\n",
    "Elimina el primer elemento igual al valor dado. Dispara un ValueError si el valor no está presente."
   ]
  },
  {
   "cell_type": "code",
   "execution_count": 14,
   "metadata": {},
   "outputs": [
    {
     "name": "stdout",
     "output_type": "stream",
     "text": [
      "[1, 2, 3, 4, 5, 3, 3, 3]\n",
      "[1, 2, 4, 5, 3, 3, 3]\n"
     ]
    }
   ],
   "source": [
    "lista = [1, 2, 3, 4, 5, 3, 3, 3]\n",
    "print(lista)\n",
    "lista.remove(3)\n",
    "print(lista)"
   ]
  },
  {
   "cell_type": "markdown",
   "metadata": {},
   "source": [
    "### `reverse`\n",
    "\n",
    "```\n",
    "lista.reverse()\n",
    "```\n",
    "\n",
    "Invierte una lista *in place*"
   ]
  },
  {
   "cell_type": "code",
   "execution_count": 15,
   "metadata": {},
   "outputs": [
    {
     "name": "stdout",
     "output_type": "stream",
     "text": [
      "[1, 2, 3, 4, 5]\n",
      "[5, 4, 3, 2, 1]\n"
     ]
    }
   ],
   "source": [
    "lista = [1, 2, 3, 4, 5]\n",
    "print(lista)\n",
    "lista.reverse()\n",
    "print(lista)"
   ]
  },
  {
   "cell_type": "markdown",
   "metadata": {},
   "source": [
    "### `sort`\n",
    "\n",
    "```\n",
    "lista.sort(key=None, reverse=False)\n",
    "```\n",
    "\n",
    "Ordena una lista *in place*"
   ]
  },
  {
   "cell_type": "code",
   "execution_count": 16,
   "metadata": {},
   "outputs": [
    {
     "name": "stdout",
     "output_type": "stream",
     "text": [
      "[13, 4586, 1, 989, 34]\n",
      "[1, 13, 34, 989, 4586]\n",
      "[1, 13, 34, 4586, 989]\n",
      "[989, 4586, 34, 13, 1]\n"
     ]
    }
   ],
   "source": [
    "lista = [13, 4586, 1, 989, 34]\n",
    "print(lista)\n",
    "\n",
    "lista.sort()\n",
    "print(lista)\n",
    "\n",
    "lista.sort(key=lambda n: n%10) # ordena atendiendo a la última cifra \n",
    "print(lista)\n",
    "\n",
    "lista.sort(key=lambda n: n%10, reverse=True) # ordena, según la última cifra, de mayor a menor\n",
    "print(lista)"
   ]
  },
  {
   "cell_type": "code",
   "execution_count": 17,
   "metadata": {},
   "outputs": [
    {
     "name": "stdout",
     "output_type": "stream",
     "text": [
      "[13, 4586, 1, 989, 34]\n",
      "[13, 4586, 1, 989, 34]\n",
      "[1, 13, 34, 989, 4586]\n",
      "[13, 4586, 1, 989, 34]\n",
      "[4586, 34, 13, 1, 989]\n"
     ]
    }
   ],
   "source": [
    "# Podemos ordenar en una lista nueva, esto es, no in place:\n",
    "\n",
    "lista = [13, 4586, 1, 989, 34]\n",
    "print(lista)\n",
    "\n",
    "lista2 = sorted(lista)\n",
    "print(lista)\n",
    "print(lista2)\n",
    "\n",
    "# La función sorted admite también los parámetros por defecto:\n",
    "\n",
    "lista2 = sorted(lista, key=lambda n: n%2) # pares, impares\n",
    "print(lista)\n",
    "print(lista2)"
   ]
  },
  {
   "cell_type": "markdown",
   "metadata": {},
   "source": [
    "El método sort es muy eficiente y muy adaptable a necesidades muy variadas, usando adecuadamente los parámetros por defecto:"
   ]
  },
  {
   "cell_type": "code",
   "execution_count": 18,
   "metadata": {},
   "outputs": [
    {
     "name": "stdout",
     "output_type": "stream",
     "text": [
      "[('Manuela', 'Gonzalo'), ('Manuela', 'Donato'), ('Juan', 'Pérez'), ('Alba', 'Jimeno'), ('Alba', 'Zaragoza')]\n",
      "[('Alba', 'Jimeno'), ('Alba', 'Zaragoza'), ('Juan', 'Pérez'), ('Manuela', 'Donato'), ('Manuela', 'Gonzalo')]\n"
     ]
    }
   ],
   "source": [
    "lista = [(\"Manuela\", \"Gonzalo\"), (\"Manuela\", \"Donato\"), (\"Juan\", \"Pérez\"), (\"Alba\", \"Jimeno\"), (\"Alba\", \"Zaragoza\")]\n",
    "\n",
    "def clave(par):\n",
    "    nombre, apellido = par\n",
    "    return nombre + apellido\n",
    "\n",
    "print(lista)\n",
    "\n",
    "lista.sort(key=clave)\n",
    "\n",
    "print(lista)"
   ]
  },
  {
   "cell_type": "markdown",
   "metadata": {},
   "source": [
    "### Concatenación de listas"
   ]
  },
  {
   "cell_type": "code",
   "execution_count": 19,
   "metadata": {},
   "outputs": [
    {
     "name": "stdout",
     "output_type": "stream",
     "text": [
      "[0, 1, 2] [0, 1, 2, 7, 8, 9]\n",
      "[0, 1, 2] [0, 666, 2, 7, 8, 9]\n"
     ]
    }
   ],
   "source": [
    "lista1 = list(range(3))\n",
    "lista2 = lista1 + [7, 8, 9] # La concatenación crea una lista nueva\n",
    "print(lista1, lista2)\n",
    "lista2[1] = 666\n",
    "print(lista1, lista2)"
   ]
  },
  {
   "cell_type": "markdown",
   "metadata": {},
   "source": [
    "### Ejemplo 1. Posiciones de elementos"
   ]
  },
  {
   "cell_type": "code",
   "execution_count": 20,
   "metadata": {},
   "outputs": [],
   "source": [
    "def posic(lst, elem):\n",
    "    \"\"\"\n",
    "    Da la primera posición de un elemento en una lista\n",
    "    Si el elemento no está en la lista, el resultado es -1\n",
    "    \n",
    "    Parameters\n",
    "    ------------------------\n",
    "    elem: Alpha, un tipo cualquiera\n",
    "    lst: lista de Alpha\n",
    "    \n",
    "    \n",
    "    Returns\n",
    "    ----------------------------\n",
    "    pos si, si elem está presente en lst[pos], y no antes\n",
    "    -1, en caso contrario\n",
    "\n",
    "    Example\n",
    "    ---------------------------------------\n",
    "    >>> posic([1, 2, 5, 45], 5)\n",
    "    2\n",
    "    \"\"\"\n",
    "    i = 0\n",
    "    while i<len(lst) and lst[i]!=elem:\n",
    "        i += 1\n",
    "    if i==len(lst):\n",
    "        return -1\n",
    "    else:\n",
    "        return i"
   ]
  },
  {
   "cell_type": "code",
   "execution_count": 21,
   "metadata": {},
   "outputs": [
    {
     "name": "stdout",
     "output_type": "stream",
     "text": [
      "[5, 6, 7, 8, 9, 10, 11, 12, 13, 14]\n",
      "2 -1\n"
     ]
    }
   ],
   "source": [
    "l = list(range(5,15))\n",
    "print(l)\n",
    "print(posic(l, 7), posic(l, 20))"
   ]
  },
  {
   "cell_type": "code",
   "execution_count": 22,
   "metadata": {},
   "outputs": [
    {
     "name": "stdout",
     "output_type": "stream",
     "text": [
      "[5, 6, 7, 8, 9, 10, 11, 12, 13, 14]\n",
      "3\n"
     ]
    }
   ],
   "source": [
    "print(l)\n",
    "print(l.index(8)) # En realidad, existe un método index predefinido :-)"
   ]
  },
  {
   "cell_type": "code",
   "execution_count": 23,
   "metadata": {},
   "outputs": [
    {
     "ename": "ValueError",
     "evalue": "15 is not in list",
     "output_type": "error",
     "traceback": [
      "\u001b[1;31m---------------------------------------------------------------------------\u001b[0m",
      "\u001b[1;31mValueError\u001b[0m                                Traceback (most recent call last)",
      "Input \u001b[1;32mIn [23]\u001b[0m, in \u001b[0;36m<cell line: 2>\u001b[1;34m()\u001b[0m\n\u001b[0;32m      1\u001b[0m l\n\u001b[1;32m----> 2\u001b[0m \u001b[43ml\u001b[49m\u001b[38;5;241;43m.\u001b[39;49m\u001b[43mindex\u001b[49m\u001b[43m(\u001b[49m\u001b[38;5;241;43m15\u001b[39;49m\u001b[43m)\u001b[49m\n",
      "\u001b[1;31mValueError\u001b[0m: 15 is not in list"
     ]
    }
   ],
   "source": [
    "l\n",
    "l.index(15) # pero si el elemento no está, el método index da un error"
   ]
  },
  {
   "cell_type": "markdown",
   "metadata": {},
   "source": [
    " ### Ejemplo 2.a Eliminación de elementos en una lista, usando secciones"
   ]
  },
  {
   "cell_type": "code",
   "execution_count": 24,
   "metadata": {},
   "outputs": [
    {
     "name": "stdout",
     "output_type": "stream",
     "text": [
      "[1, 2, 3, 4, 5, 6, 7, 8, 9, 10]\n",
      "[1, 2, 3, 6, 7, 8, 9, 10]\n"
     ]
    }
   ],
   "source": [
    "# En primer lugar, hagamos esta operación sin encapsularla en una función:\n",
    "\n",
    "lista = [1, 2, 3, 4, 5, 6, 7, 8, 9, 10]\n",
    "print(lista)\n",
    "lista = lista[:3] + lista[5:]\n",
    "print(lista)"
   ]
  },
  {
   "cell_type": "code",
   "execution_count": 25,
   "metadata": {},
   "outputs": [
    {
     "name": "stdout",
     "output_type": "stream",
     "text": [
      "[1, 2, 3, 4, 5, 6, 7, 8, 9, 10]\n",
      "[1, 2, 3, 4, 5, 6, 7, 8, 9, 10]\n"
     ]
    }
   ],
   "source": [
    "# Hagamos lo mismo pero en una función. Observa que esta operación opera ahora de forma incorrecta:\n",
    "\n",
    "def elim(lst, ini, end):\n",
    "    lst = lst[:ini] + lst[end:]\n",
    "    \n",
    "lista = [1, 2, 3, 4, 5, 6, 7, 8, 9, 10]\n",
    "print(lista)\n",
    "\n",
    "elim(lista, 3, 5)\n",
    "print(lista)"
   ]
  },
  {
   "cell_type": "code",
   "execution_count": 26,
   "metadata": {},
   "outputs": [
    {
     "name": "stdout",
     "output_type": "stream",
     "text": [
      "[1, 2, 3, 4, 5, 6, 7, 8, 9, 10]\n",
      "[1, 2, 3, 6, 7, 8, 9, 10]\n"
     ]
    }
   ],
   "source": [
    "# Observa ahora el pequeño detalle que resuelveo el misterio anterior:\n",
    "\n",
    "def elim(lst, ini, end):\n",
    "    lst[:] = lst[:ini] + lst[end:]\n",
    "    \n",
    "lista = [1, 2, 3, 4, 5, 6, 7, 8, 9, 10]\n",
    "print(lista)\n",
    "\n",
    "elim(lista, 3, 5)\n",
    "print(lista)\n",
    "\n",
    "# La explicación se encuentra en el capítulo de tipos de datos mutables e inmutables"
   ]
  },
  {
   "cell_type": "code",
   "execution_count": 27,
   "metadata": {},
   "outputs": [
    {
     "name": "stdout",
     "output_type": "stream",
     "text": [
      "[1, 2, 3, 4, 5, 6, 7, 8, 9, 10]\n",
      "[1, 2, 3, 6, 7, 8, 9, 10]\n",
      "[1, 2, 3, 4, 5, 6, 7, 8, 9, 10]\n"
     ]
    }
   ],
   "source": [
    "# Otra solución es hacerlo como sigue:\n",
    "\n",
    "def elim(lst, ini, end):\n",
    "    lst = lst[:ini] + lst[end:]\n",
    "    return lst\n",
    "   \n",
    "lista = [1, 2, 3, 4, 5, 6, 7, 8, 9, 10]\n",
    "\n",
    "print(lista)\n",
    "print(elim(lista, 3, 5))\n",
    "print(lista)"
   ]
  },
  {
   "cell_type": "markdown",
   "metadata": {},
   "source": [
    " ### Ejemplo 2.b Eliminación de elementos en una lista, usando la operación `pop()`"
   ]
  },
  {
   "cell_type": "code",
   "execution_count": 28,
   "metadata": {},
   "outputs": [
    {
     "name": "stdout",
     "output_type": "stream",
     "text": [
      "[5, 6, 7, 8, 9, 10, 11, 12, 13]\n",
      "[5, 6, 7, 8, 9, 10, 11, 12]\n"
     ]
    }
   ],
   "source": [
    "# Recuerda: tenemos una operación pra eliminar un elemento de una posición...\n",
    "\n",
    "lista = [5, 6, 7, 8, 9, 10, 11, 12, 13]\n",
    "print(lista)\n",
    "lista.pop()\n",
    "print(lista)"
   ]
  },
  {
   "cell_type": "markdown",
   "metadata": {},
   "source": [
    "Diseñemos una función que elimina todos los elementos de una lista entre dos posiciones dadas:"
   ]
  },
  {
   "cell_type": "code",
   "execution_count": 29,
   "metadata": {},
   "outputs": [],
   "source": [
    "def eliminar(lst, ini, end):\n",
    "    \"\"\"\n",
    "    Eliminación *in place* de todos los elementos lst[j], para ini <= j < end\n",
    "    \n",
    "    Parameters\n",
    "    ------------------------\n",
    "    lst: [x]\n",
    "    ini: int\n",
    "    end: int\n",
    "    \n",
    "    \n",
    "    0 <= ini < end <= len(lst)\n",
    "\n",
    "    Returns\n",
    "    ----------------------------\n",
    "    None\n",
    "    \n",
    "    Action\n",
    "    ----------------------------\n",
    "    modifica lst, eliminando todos los elementos entre ini y end\n",
    "\n",
    "    Example\n",
    "    ---------------------------------------\n",
    "    >>> l = [1, 2, 3, 4, 5, 6, 7, 8, 9, 10]\n",
    "    >>> eliminar(l, 3, 5)\n",
    "    >>> print(l)\n",
    "    [1, 2, 3, 6, 7, 8, 9, 10]\n",
    "    \"\"\"\n",
    "\n",
    "    # Primero adelantamos todos los elementos tras la franja que se va a eliminar,\n",
    "    # esto es, movemos los elementos lst[i], para end <= i < len(lst),\n",
    "    # a las posiciones que empiezan en ini:\n",
    "    \n",
    "    pos_end = end\n",
    "    pos_ini = ini\n",
    "    while pos_end<len(lst):\n",
    "        lst[pos_ini] = lst[pos_end]\n",
    "        pos_ini += 1\n",
    "        pos_end += 1\n",
    "    \n",
    "    # Ahora, eliminamos los end-ini elementos desde el final de la lista:\n",
    "    for i in range(end-ini):\n",
    "        lst.pop()"
   ]
  },
  {
   "cell_type": "code",
   "execution_count": 30,
   "metadata": {},
   "outputs": [
    {
     "name": "stdout",
     "output_type": "stream",
     "text": [
      "[1, 2, 3, 4, 5, 6, 7, 8, 9, 10]\n",
      "[1, 2, 3, 6, 7, 8, 9, 10]\n"
     ]
    }
   ],
   "source": [
    "lista = [1, 2, 3, 4, 5, 6, 7, 8, 9, 10]\n",
    "print(lista)\n",
    "\n",
    "eliminar(lista, 3, 5)\n",
    "print(lista)"
   ]
  },
  {
   "cell_type": "code",
   "execution_count": 31,
   "metadata": {},
   "outputs": [
    {
     "name": "stdout",
     "output_type": "stream",
     "text": [
      "[1, 2, 3, 4, 5, 6, 7, 8, 9, 10]\n",
      "[1, 2, 3, 4, 5, 6, 7, 8, 9, 10]\n"
     ]
    }
   ],
   "source": [
    "def elim(lst, ini, end):\n",
    "    lst = lst[:ini] + lst[end:]\n",
    "    \n",
    "lista = [1, 2, 3, 4, 5, 6, 7, 8, 9, 10]\n",
    "print(lista)\n",
    "\n",
    "elim(lista, 3, 5)\n",
    "print(lista)"
   ]
  },
  {
   "cell_type": "code",
   "execution_count": 32,
   "metadata": {},
   "outputs": [
    {
     "name": "stdout",
     "output_type": "stream",
     "text": [
      "[1, 2, 3, 4, 5, 6, 7, 8, 9, 10]\n",
      "local:  [1, 2, 3, 6, 7, 8, 9, 10]\n",
      "[1, 2, 3, 4, 5, 6, 7, 8, 9, 10]\n"
     ]
    }
   ],
   "source": [
    "# No funciona como se esperaba...\n",
    "# porque la modificación del parámetro lst sólo se realiza localmente. Veámoslo:\n",
    "\n",
    "def elim(lst, ini, end):\n",
    "    lst = lst[:ini] + lst[end:]\n",
    "    print(\"local: \", lst)\n",
    "    \n",
    "lista = [1, 2, 3, 4, 5, 6, 7, 8, 9, 10]\n",
    "print(lista)\n",
    "\n",
    "elim(lista, 3, 5)\n",
    "print(lista)"
   ]
  },
  {
   "cell_type": "code",
   "execution_count": 33,
   "metadata": {},
   "outputs": [
    {
     "name": "stdout",
     "output_type": "stream",
     "text": [
      "[1, 2, 3, 4, 5, 6, 7, 8, 9, 10]\n",
      "[1, 2, 3, 6, 7, 8, 9, 10]\n"
     ]
    }
   ],
   "source": [
    "# Pero podríamos haberlo hecho:\n",
    "\n",
    "def elim(lst, ini, end):\n",
    "    lst[:] = lst[:ini] + lst[end:]\n",
    "\n",
    "# Observa la diferencia entre lst = ... y lst[:] = ...\n",
    "\n",
    "lista = [1, 2, 3, 4, 5, 6, 7, 8, 9, 10]\n",
    "print(lista)\n",
    "\n",
    "elim(lista, 3, 5)\n",
    "print(lista)"
   ]
  },
  {
   "cell_type": "markdown",
   "metadata": {},
   "source": [
    "Como ya podíamos imaginar, una función tan útil como ésta ya está predefinida:"
   ]
  },
  {
   "cell_type": "code",
   "execution_count": 34,
   "metadata": {},
   "outputs": [
    {
     "name": "stdout",
     "output_type": "stream",
     "text": [
      "[1, 2, 3, 4, 5, 6, 7, 8, 9, 10]\n",
      "[1, 2, 4, 5, 6, 7, 8, 9, 10]\n",
      "[5, 6, 7, 8, 9, 10, 11, 12, 13, 14]\n"
     ]
    }
   ],
   "source": [
    "lista = [1, 2, 3, 4, 5, 6, 7, 8, 9, 10]\n",
    "print(lista)\n",
    "\n",
    "del lista[2]\n",
    "print(lista)\n",
    "\n",
    "del lista[2:5] # Borra los elems. entre las posics. 2 y 5 (excluida), como delete(lista, 2, 5)\n",
    "print(l)"
   ]
  },
  {
   "cell_type": "code",
   "execution_count": 35,
   "metadata": {},
   "outputs": [
    {
     "data": {
      "text/plain": [
       "[1, 2]"
      ]
     },
     "execution_count": 35,
     "metadata": {},
     "output_type": "execute_result"
    }
   ],
   "source": [
    "del lista[2:]\n",
    "lista"
   ]
  },
  {
   "cell_type": "code",
   "execution_count": 36,
   "metadata": {},
   "outputs": [
    {
     "data": {
      "text/plain": [
       "[1, 2]"
      ]
     },
     "execution_count": 36,
     "metadata": {},
     "output_type": "execute_result"
    }
   ],
   "source": [
    "del lista[5:2]  # queda sin efecto, al tratarse de un rango vacío\n",
    "lista"
   ]
  },
  {
   "cell_type": "markdown",
   "metadata": {},
   "source": [
    "### Ejemplo 3. Inversión de una lista"
   ]
  },
  {
   "cell_type": "code",
   "execution_count": 37,
   "metadata": {},
   "outputs": [
    {
     "data": {
      "text/plain": [
       "[4, 3, 2, 1]"
      ]
     },
     "execution_count": 37,
     "metadata": {},
     "output_type": "execute_result"
    }
   ],
   "source": [
    "def lista_inversa(lst):\n",
    "    \"\"\"\n",
    "    Calcula la lista inversa de la dada,\n",
    "    esto es, la lista con los mismos elementos pero en orden inverso\n",
    "    \n",
    "    Parameters\n",
    "    ------------------------\n",
    "    lst: [x]    \n",
    "    \n",
    "    Returns\n",
    "    ----------------------------\n",
    "    [x]\n",
    "    \n",
    "    Example\n",
    "    ---------------------------------------\n",
    "    >>> lista = [1, 2, 3, 4]\n",
    "    >>> lista_inversa(lista)\n",
    "    >>> [4, 3, 2, 1]\n",
    "    \n",
    "    \"\"\"\n",
    "    inversa = []\n",
    "    n = len(lst)\n",
    "    for i in range(n):\n",
    "        j = n - 1 - i\n",
    "        inversa.append(lst[j])\n",
    "    return inversa\n",
    "\n",
    "lista = [1, 2, 3, 4]\n",
    "lista_inversa(lista)"
   ]
  },
  {
   "cell_type": "code",
   "execution_count": 38,
   "metadata": {},
   "outputs": [
    {
     "data": {
      "text/plain": [
       "[4, 3, 2, 1]"
      ]
     },
     "execution_count": 38,
     "metadata": {},
     "output_type": "execute_result"
    }
   ],
   "source": [
    "#Otra versión:\n",
    "\n",
    "def lista_inversa(lst):\n",
    "    \"\"\"\n",
    "    Calcula la lista inversa de la dada,\n",
    "    esto es, la lista con los mismos elementos pero en orden inverso\n",
    "    \n",
    "    Parameters\n",
    "    ------------------------\n",
    "    lst: [x]    \n",
    "    \n",
    "    Returns\n",
    "    ----------------------------\n",
    "    [x]\n",
    "    \n",
    "    Example\n",
    "    ---------------------------------------\n",
    "    >>> lista = [1, 2, 3, 4]\n",
    "    >>> lista_inversa(lista)\n",
    "    >>> [4, 3, 2, 1]\n",
    "    \n",
    "    \"\"\"\n",
    "    inversa = []\n",
    "    n = len(lst)\n",
    "    for j in range(n-1, 0-1, -1):\n",
    "        inversa.append(lst[j])\n",
    "    return inversa\n",
    "\n",
    "lista = [1, 2, 3, 4]\n",
    "lista_inversa(lista)"
   ]
  },
  {
   "cell_type": "code",
   "execution_count": 39,
   "metadata": {},
   "outputs": [],
   "source": [
    "def invierte(lst):\n",
    "    \"\"\"\n",
    "    Permuta *in place* los elementos de la lista dada,\n",
    "    dejándola en orden inverso al proporcionado\n",
    "    \n",
    "    Parameters\n",
    "    ------------------------\n",
    "    lst: [x]    \n",
    "    \n",
    "    Returns\n",
    "    ----------------------------\n",
    "    None\n",
    "    \n",
    "    Example\n",
    "    ---------------------------------------\n",
    "    >>> lista = [1, 2, 5, 4]\n",
    "    >>> invierte(lista)\n",
    "    >>> lista\n",
    "    \n",
    "    \"\"\"\n",
    "    # Permutamos la primera mitad de los elementos de la lista\n",
    "    # con los de la otra mitad\n",
    "    for i in range(0, len(lst)//2):\n",
    "        j = len(lst) - 1 - i\n",
    "        lst[i], lst[j] = lst[j], lst[i]\n"
   ]
  },
  {
   "cell_type": "code",
   "execution_count": 40,
   "metadata": {},
   "outputs": [
    {
     "name": "stdout",
     "output_type": "stream",
     "text": [
      "[0, 1, 2, 3, 4, 5, 6, 7, 8, 9]\n",
      "[9, 8, 7, 6, 5, 4, 3, 2, 1, 0]\n",
      "None\n"
     ]
    }
   ],
   "source": [
    "lista = list(range(10))\n",
    "print(lista)\n",
    "invierte(lista)\n",
    "print(lista)\n",
    "\n",
    "# Cuidado: esta función NO devuelve valor alguno: únicamente permuta los elementos *in place*\n",
    "print(invierte(lista))"
   ]
  },
  {
   "cell_type": "markdown",
   "metadata": {},
   "source": [
    "Por supuesto, esta función también está definida:"
   ]
  },
  {
   "cell_type": "code",
   "execution_count": 41,
   "metadata": {},
   "outputs": [
    {
     "name": "stdout",
     "output_type": "stream",
     "text": [
      "[0, 1, 2, 3, 4, 5, 6, 7, 8, 9]\n",
      "[9, 8, 7, 6, 5, 4, 3, 2, 1, 0]\n"
     ]
    }
   ],
   "source": [
    "l = list(range(10))\n",
    "print(l)\n",
    "l.reverse()\n",
    "print(l)"
   ]
  },
  {
   "cell_type": "markdown",
   "metadata": {},
   "source": [
    "### `enumerate`\n",
    "\n",
    "Utilísima es la siguiente función. Surge con muncha frecuencia."
   ]
  },
  {
   "cell_type": "code",
   "execution_count": null,
   "metadata": {},
   "outputs": [
    {
     "name": "stdout",
     "output_type": "stream",
     "text": [
      "0------- 0\n",
      "1------- 1\n",
      "2------- 2\n",
      "3------- 3\n"
     ]
    }
   ],
   "source": [
    "list(enumerate(\"aeiou\"))\n"
   ]
  },
  {
   "cell_type": "markdown",
   "metadata": {},
   "source": [
    "### Catálogo de funciones predefinidas sobre listas"
   ]
  },
  {
   "cell_type": "code",
   "execution_count": 43,
   "metadata": {},
   "outputs": [
    {
     "name": "stdout",
     "output_type": "stream",
     "text": [
      "Help on class list in module builtins:\n",
      "\n",
      "class list(object)\n",
      " |  list(iterable=(), /)\n",
      " |  \n",
      " |  Built-in mutable sequence.\n",
      " |  \n",
      " |  If no argument is given, the constructor creates a new empty list.\n",
      " |  The argument must be an iterable if specified.\n",
      " |  \n",
      " |  Methods defined here:\n",
      " |  \n",
      " |  __add__(self, value, /)\n",
      " |      Return self+value.\n",
      " |  \n",
      " |  __contains__(self, key, /)\n",
      " |      Return key in self.\n",
      " |  \n",
      " |  __delitem__(self, key, /)\n",
      " |      Delete self[key].\n",
      " |  \n",
      " |  __eq__(self, value, /)\n",
      " |      Return self==value.\n",
      " |  \n",
      " |  __ge__(self, value, /)\n",
      " |      Return self>=value.\n",
      " |  \n",
      " |  __getattribute__(self, name, /)\n",
      " |      Return getattr(self, name).\n",
      " |  \n",
      " |  __getitem__(...)\n",
      " |      x.__getitem__(y) <==> x[y]\n",
      " |  \n",
      " |  __gt__(self, value, /)\n",
      " |      Return self>value.\n",
      " |  \n",
      " |  __iadd__(self, value, /)\n",
      " |      Implement self+=value.\n",
      " |  \n",
      " |  __imul__(self, value, /)\n",
      " |      Implement self*=value.\n",
      " |  \n",
      " |  __init__(self, /, *args, **kwargs)\n",
      " |      Initialize self.  See help(type(self)) for accurate signature.\n",
      " |  \n",
      " |  __iter__(self, /)\n",
      " |      Implement iter(self).\n",
      " |  \n",
      " |  __le__(self, value, /)\n",
      " |      Return self<=value.\n",
      " |  \n",
      " |  __len__(self, /)\n",
      " |      Return len(self).\n",
      " |  \n",
      " |  __lt__(self, value, /)\n",
      " |      Return self<value.\n",
      " |  \n",
      " |  __mul__(self, value, /)\n",
      " |      Return self*value.\n",
      " |  \n",
      " |  __ne__(self, value, /)\n",
      " |      Return self!=value.\n",
      " |  \n",
      " |  __repr__(self, /)\n",
      " |      Return repr(self).\n",
      " |  \n",
      " |  __reversed__(self, /)\n",
      " |      Return a reverse iterator over the list.\n",
      " |  \n",
      " |  __rmul__(self, value, /)\n",
      " |      Return value*self.\n",
      " |  \n",
      " |  __setitem__(self, key, value, /)\n",
      " |      Set self[key] to value.\n",
      " |  \n",
      " |  __sizeof__(self, /)\n",
      " |      Return the size of the list in memory, in bytes.\n",
      " |  \n",
      " |  append(self, object, /)\n",
      " |      Append object to the end of the list.\n",
      " |  \n",
      " |  clear(self, /)\n",
      " |      Remove all items from list.\n",
      " |  \n",
      " |  copy(self, /)\n",
      " |      Return a shallow copy of the list.\n",
      " |  \n",
      " |  count(self, value, /)\n",
      " |      Return number of occurrences of value.\n",
      " |  \n",
      " |  extend(self, iterable, /)\n",
      " |      Extend list by appending elements from the iterable.\n",
      " |  \n",
      " |  index(self, value, start=0, stop=9223372036854775807, /)\n",
      " |      Return first index of value.\n",
      " |      \n",
      " |      Raises ValueError if the value is not present.\n",
      " |  \n",
      " |  insert(self, index, object, /)\n",
      " |      Insert object before index.\n",
      " |  \n",
      " |  pop(self, index=-1, /)\n",
      " |      Remove and return item at index (default last).\n",
      " |      \n",
      " |      Raises IndexError if list is empty or index is out of range.\n",
      " |  \n",
      " |  remove(self, value, /)\n",
      " |      Remove first occurrence of value.\n",
      " |      \n",
      " |      Raises ValueError if the value is not present.\n",
      " |  \n",
      " |  reverse(self, /)\n",
      " |      Reverse *IN PLACE*.\n",
      " |  \n",
      " |  sort(self, /, *, key=None, reverse=False)\n",
      " |      Sort the list in ascending order and return None.\n",
      " |      \n",
      " |      The sort is in-place (i.e. the list itself is modified) and stable (i.e. the\n",
      " |      order of two equal elements is maintained).\n",
      " |      \n",
      " |      If a key function is given, apply it once to each list item and sort them,\n",
      " |      ascending or descending, according to their function values.\n",
      " |      \n",
      " |      The reverse flag can be set to sort in descending order.\n",
      " |  \n",
      " |  ----------------------------------------------------------------------\n",
      " |  Class methods defined here:\n",
      " |  \n",
      " |  __class_getitem__(...) from builtins.type\n",
      " |      See PEP 585\n",
      " |  \n",
      " |  ----------------------------------------------------------------------\n",
      " |  Static methods defined here:\n",
      " |  \n",
      " |  __new__(*args, **kwargs) from builtins.type\n",
      " |      Create and return a new object.  See help(type) for accurate signature.\n",
      " |  \n",
      " |  ----------------------------------------------------------------------\n",
      " |  Data and other attributes defined here:\n",
      " |  \n",
      " |  __hash__ = None\n",
      "\n"
     ]
    }
   ],
   "source": [
    "help(list)"
   ]
  }
 ],
 "metadata": {
  "kernelspec": {
   "display_name": "master_ucm",
   "language": "python",
   "name": "python3"
  },
  "language_info": {
   "codemirror_mode": {
    "name": "ipython",
    "version": 3
   },
   "file_extension": ".py",
   "mimetype": "text/x-python",
   "name": "python",
   "nbconvert_exporter": "python",
   "pygments_lexer": "ipython3",
   "version": "undefined.undefined.undefined"
  }
 },
 "nbformat": 4,
 "nbformat_minor": 1
}
