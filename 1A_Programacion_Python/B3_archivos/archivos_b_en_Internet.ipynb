{
 "cells": [
  {
   "cell_type": "markdown",
   "metadata": {},
   "source": [
    "# Archivos en Internet\n",
    "\n",
    "<hr>\n",
    "\n",
    "Esto no es web-scrapping, pero también podemos descargar archivos que están en Internet desde un programa y procesarlos como los archivos de disco.\n",
    "\n",
    "Hay varias librerías: `urllib` , `urllib2` , `urllib3`, etc."
   ]
  },
  {
   "cell_type": "code",
   "execution_count": 1,
   "metadata": {
    "scrolled": true
   },
   "outputs": [
    {
     "name": "stdout",
     "output_type": "stream",
     "text": [
      "utf-8\n",
      "En un lugar de la Mancha, de cuyo nombre no quiero acordarme, no ha mucho\r\n",
      "tiempo que vivía un hidalgo de los de lanza en astillero, adarga antigua,\r\n",
      "rocín flaco y galgo corredor. Una olla de algo más vaca que carnero,\r\n",
      "salpicón las más noches, duelos y quebrantos los sábados, lantejas los\r\n",
      "viernes, algún palomino de añadidura los domingos, consumían las tres\r\n",
      "partes de su hacienda. El resto della concluían sayo de velarte, calzas de\r\n",
      "velludo para las fiestas, con sus pantuflos de lo mesmo, y los días de\r\n"
     ]
    }
   ],
   "source": [
    "# La librería para acceder a archivos en Internet:\n",
    "\n",
    "import requests\n",
    "\n",
    "# Elijo el Quijote, cómo no, disponible en la librería Gutenberg:\n",
    "\n",
    "url_quijote = \"https://www.gutenberg.org/cache/epub/2000/pg2000.txt\"\n",
    "f = requests.get(url_quijote)\n",
    "\n",
    "# Veamos la codificación en que está este texto:\n",
    "print(f.encoding)\n",
    "\n",
    "# Y veamos ahora unas pocas líneas:\n",
    "\n",
    "texto = f.text.split('\\n')\n",
    "for line in texto[613:620]:\n",
    "    print(line)"
   ]
  },
  {
   "cell_type": "markdown",
   "metadata": {},
   "source": [
    "**Observaciones**:\n",
    "\n",
    "Ya puestos, vamos a seleccionar las palabras y a limpiarlas, por el principio y por el final, de los caracteres de puntuación:"
   ]
  },
  {
   "cell_type": "code",
   "execution_count": 2,
   "metadata": {},
   "outputs": [
    {
     "name": "stdout",
     "output_type": "stream",
     "text": [
      "['Dijo', 'Don', 'Quijote:', '¿Qué', 'tal', 'Sancho?', 'Bien', 'señor,', 'pero', 'rendido;', 'y', 'dolorido', 'por', 'los', 'lances', 'del', 'día...']\n",
      "['Dijo', 'Don', 'Quijote', 'Qué', 'tal', 'Sancho', 'Bien', 'señor', 'pero', 'rendido', 'y', 'dolorido', 'por', 'los', 'lances', 'del', 'día']\n"
     ]
    }
   ],
   "source": [
    "palabras = \"Dijo Don Quijote: ¿Qué tal Sancho? Bien señor, pero rendido; y dolorido por los lances del día...\"\n",
    "\n",
    "print([palabra for palabra in palabras.split()])\n",
    "print([palabra.strip(\" ,;:.¡!¿?\") for palabra in palabras.split()])"
   ]
  },
  {
   "cell_type": "code",
   "execution_count": 3,
   "metadata": {},
   "outputs": [
    {
     "name": "stdout",
     "output_type": "stream",
     "text": [
      "['En', 'un', 'lugar', 'de', 'la', 'Mancha,', 'de', 'cuyo', 'nombre', 'no', 'quiero', 'acordarme,', 'no', 'ha', 'mucho']\n",
      "['En', 'un', 'lugar', 'de', 'la', 'Mancha', 'de', 'cuyo', 'nombre', 'no', 'quiero', 'acordarme', 'no', 'ha', 'mucho']\n",
      "\n",
      "['tiempo', 'que', 'vivía', 'un', 'hidalgo', 'de', 'los', 'de', 'lanza', 'en', 'astillero,', 'adarga', 'antigua,']\n",
      "['tiempo', 'que', 'vivía', 'un', 'hidalgo', 'de', 'los', 'de', 'lanza', 'en', 'astillero', 'adarga', 'antigua']\n",
      "\n",
      "['rocín', 'flaco', 'y', 'galgo', 'corredor.', 'Una', 'olla', 'de', 'algo', 'más', 'vaca', 'que', 'carnero,']\n",
      "['rocín', 'flaco', 'y', 'galgo', 'corredor', 'Una', 'olla', 'de', 'algo', 'más', 'vaca', 'que', 'carnero']\n",
      "\n",
      "['salpicón', 'las', 'más', 'noches,', 'duelos', 'y', 'quebrantos', 'los', 'sábados,', 'lantejas', 'los']\n",
      "['salpicón', 'las', 'más', 'noches', 'duelos', 'y', 'quebrantos', 'los', 'sábados', 'lantejas', 'los']\n",
      "\n",
      "['viernes,', 'algún', 'palomino', 'de', 'añadidura', 'los', 'domingos,', 'consumían', 'las', 'tres']\n",
      "['viernes', 'algún', 'palomino', 'de', 'añadidura', 'los', 'domingos', 'consumían', 'las', 'tres']\n",
      "\n",
      "['partes', 'de', 'su', 'hacienda.', 'El', 'resto', 'della', 'concluían', 'sayo', 'de', 'velarte,', 'calzas', 'de']\n",
      "['partes', 'de', 'su', 'hacienda', 'El', 'resto', 'della', 'concluían', 'sayo', 'de', 'velarte', 'calzas', 'de']\n",
      "\n",
      "['velludo', 'para', 'las', 'fiestas,', 'con', 'sus', 'pantuflos', 'de', 'lo', 'mesmo,', 'y', 'los', 'días', 'de']\n",
      "['velludo', 'para', 'las', 'fiestas', 'con', 'sus', 'pantuflos', 'de', 'lo', 'mesmo', 'y', 'los', 'días', 'de']\n",
      "\n",
      "['entresemana', 'se', 'honraba', 'con', 'su', 'vellorí', 'de', 'lo', 'más', 'fino.', 'Tenía', 'en', 'su', 'casa', 'una']\n",
      "['entresemana', 'se', 'honraba', 'con', 'su', 'vellorí', 'de', 'lo', 'más', 'fino', 'Tenía', 'en', 'su', 'casa', 'una']\n",
      "\n",
      "['ama', 'que', 'pasaba', 'de', 'los', 'cuarenta,', 'y', 'una', 'sobrina', 'que', 'no', 'llegaba', 'a', 'los', 'veinte,']\n",
      "['ama', 'que', 'pasaba', 'de', 'los', 'cuarenta', 'y', 'una', 'sobrina', 'que', 'no', 'llegaba', 'a', 'los', 'veinte']\n",
      "\n",
      "['y', 'un', 'mozo', 'de', 'campo', 'y', 'plaza,', 'que', 'así', 'ensillaba', 'el', 'rocín', 'como', 'tomaba', 'la']\n",
      "['y', 'un', 'mozo', 'de', 'campo', 'y', 'plaza', 'que', 'así', 'ensillaba', 'el', 'rocín', 'como', 'tomaba', 'la']\n",
      "\n",
      "['podadera.', 'Frisaba', 'la', 'edad', 'de', 'nuestro', 'hidalgo', 'con', 'los', 'cincuenta', 'años;', 'era', 'de']\n",
      "['podadera', 'Frisaba', 'la', 'edad', 'de', 'nuestro', 'hidalgo', 'con', 'los', 'cincuenta', 'años', 'era', 'de']\n",
      "\n",
      "['complexión', 'recia,', 'seco', 'de', 'carnes,', 'enjuto', 'de', 'rostro,', 'gran', 'madrugador', 'y', 'amigo']\n",
      "['complexión', 'recia', 'seco', 'de', 'carnes', 'enjuto', 'de', 'rostro', 'gran', 'madrugador', 'y', 'amigo']\n",
      "\n"
     ]
    }
   ],
   "source": [
    "# Hagámoslo ahora con un fragmento de nuestro Quijote:\n",
    "\n",
    "for linea in texto[613:625]:\n",
    "    palabras = linea.strip().split()\n",
    "    print(palabras)\n",
    "    pal_limpias = [palabra.strip(\" ,;:.¡!¿?\") for palabra in palabras]\n",
    "    print(pal_limpias)\n",
    "    print()"
   ]
  },
  {
   "cell_type": "markdown",
   "metadata": {},
   "source": [
    "## Referencias\n",
    "\n",
    "Ya decíamos que esto no es *web scrapping*. Si esto te ha gustado, apriétate el cinturón y sigue el camino con Beautiful Soup, o amplía con el manejo de expresiones regulares, o si estás interesado en el procesamiento de texto escrito en español o inglés, adeante con nltk..."
   ]
  }
 ],
 "metadata": {
  "kernelspec": {
   "display_name": "Python 3 (ipykernel)",
   "language": "python",
   "name": "python3"
  },
  "language_info": {
   "codemirror_mode": {
    "name": "ipython",
    "version": 3
   },
   "file_extension": ".py",
   "mimetype": "text/x-python",
   "name": "python",
   "nbconvert_exporter": "python",
   "pygments_lexer": "ipython3",
   "version": "3.11.5"
  }
 },
 "nbformat": 4,
 "nbformat_minor": 1
}
