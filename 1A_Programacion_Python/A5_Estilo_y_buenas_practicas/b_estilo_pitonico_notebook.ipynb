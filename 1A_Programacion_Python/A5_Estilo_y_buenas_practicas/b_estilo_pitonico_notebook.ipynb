{
 "cells": [
  {
   "cell_type": "markdown",
   "metadata": {},
   "source": [
    "# Pythonic Style\n",
    "\n",
    "<hr>\n",
    "\n",
    "<br>\n",
    "\n",
    "Conociendo un lenguaje de programación, siempre es posible escribir rápidamente programas en otro lenguaje. Esto consiste básicamente en seguir pensando con las construcciones de nuestro lenguaje primero y transcribirlas en el segundo, casi literalmente. Esta forma de trabajar nos impone una limitación de entrada, porque estamos renunciando a las características y posibilidades expresivas que nos ofrece el lenguaje nuevo.\n",
    "\n",
    "En el caso de Python, hay un buen número de facilidades que permiten escribir un código limpio, claro y eficiente.\n",
    "\n",
    "En este pequeño documento, damos una pequeña selección de dichas facilidades, junto con alguna recomendación. Algunas de ellas son adecuadas para otros lenguajes, otras, no.\n",
    "\n",
    "Ojalá te resulte útil."
   ]
  },
  {
   "cell_type": "markdown",
   "metadata": {},
   "source": [
    "### Condicionales\n",
    "\n",
    "La recomendación aquí es recordar el uso de la expresión condicional:\n",
    "\n",
    "```\n",
    "    expr1 if condition else expr2\n",
    "```"
   ]
  },
  {
   "cell_type": "code",
   "execution_count": 1,
   "metadata": {},
   "outputs": [],
   "source": [
    "# Manera clásica:\n",
    "\n",
    "def f1(n):\n",
    "    if n >= 0:\n",
    "        absolute = n\n",
    "    else:\n",
    "        absolute = -n    \n",
    "    return absolute**3\n",
    "\n",
    "# Mejor:\n",
    "\n",
    "def f2(n):\n",
    "    absolute = n if n >= 0 else -n\n",
    "    return absolute**3\n",
    "\n",
    "# Mejor:\n",
    "\n",
    "def f3(n):\n",
    "    return (n if n >= 0 else -n)**3\n"
   ]
  },
  {
   "cell_type": "code",
   "execution_count": 2,
   "metadata": {},
   "outputs": [
    {
     "name": "stdout",
     "output_type": "stream",
     "text": [
      "2  ->  8 8 8\n",
      "-2  ->  8 8 8\n",
      "10  ->  1000 1000 1000\n",
      "-10  ->  1000 1000 1000\n"
     ]
    }
   ],
   "source": [
    "# Prueba de funcionamiento:\n",
    "\n",
    "for i in [2, -2, 10, -10]:\n",
    "    print(i, \" -> \", f1(i), f2(i), f3(i))"
   ]
  },
  {
   "cell_type": "markdown",
   "metadata": {},
   "source": [
    "### Recorridos de listas\n",
    "\n",
    "Aquí la recomendación es prescindir del índice cuando sea posible."
   ]
  },
  {
   "cell_type": "code",
   "execution_count": 3,
   "metadata": {},
   "outputs": [
    {
     "name": "stdout",
     "output_type": "stream",
     "text": [
      "15\n",
      "15\n",
      "15\n"
     ]
    }
   ],
   "source": [
    "# Viejo estilo:\n",
    "\n",
    "def suma_datos(lista):\n",
    "    acum = 0\n",
    "    n = len(lista)\n",
    "    for i in range(n):\n",
    "        acum = acum + lista[i]\n",
    "    return acum\n",
    "\n",
    "print(suma_datos([1, 2, 3, 4, 5]))\n",
    "\n",
    "# Estilo pitónico:\n",
    "\n",
    "def suma_datos(lista):\n",
    "    acum = 0\n",
    "    for x in lista:\n",
    "        acum = acum + x\n",
    "    return acum\n",
    "\n",
    "print(suma_datos([1, 2, 3, 4, 5]))\n",
    "\n",
    "# Más claro aún:\n",
    "\n",
    "def suma_datos(lista):\n",
    "    return sum(lista)\n",
    "\n",
    "print(suma_datos([1, 2, 3, 4, 5]))"
   ]
  },
  {
   "cell_type": "markdown",
   "metadata": {},
   "source": [
    "### Más recorridos de listas, conjuntos y diccionarios: mejor con notación intensional\n",
    "\n",
    "La notación intensional permite expresar con gran claridad situaciones frecuentes. He aquí unas pocas de dichas situaciones con listas, conjuntos y diccionarios.  \n",
    "\n",
    "* Con listas:"
   ]
  },
  {
   "cell_type": "code",
   "execution_count": 2,
   "metadata": {},
   "outputs": [
    {
     "name": "stdout",
     "output_type": "stream",
     "text": [
      "[0, 1, 4, 9, 16, 25, 36, 49, 64, 81]\n",
      "[0, 1, 4, 9, 16, 25, 36, 49, 64, 81]\n"
     ]
    }
   ],
   "source": [
    "# Viejo estilo:\n",
    "\n",
    "def lista_de_cuadrados_1(n):\n",
    "    lista = []\n",
    "    for i in range(n):\n",
    "        lista.append(i**2)\n",
    "    return lista\n",
    "\n",
    "# Estilo pitónico:\n",
    "\n",
    "def lista_de_cuadrados_2(n):\n",
    "    return [i**2 for i in range(n)]\n",
    "\n",
    "# Prueba de funcionamiento:\n",
    "\n",
    "print(lista_de_cuadrados_1(10))\n",
    "print(lista_de_cuadrados_2(10))"
   ]
  },
  {
   "cell_type": "markdown",
   "metadata": {},
   "source": [
    "* Con conjuntos. Completa tú un diseño más pitónico y añade una prueba de funcionamiento:"
   ]
  },
  {
   "cell_type": "code",
   "execution_count": 5,
   "metadata": {},
   "outputs": [
    {
     "name": "stdout",
     "output_type": "stream",
     "text": [
      "{0, 1, 64, 4, 36, 9, 16, 49, 81, 25}\n",
      "{0, 1, 64, 4, 36, 9, 16, 49, 81, 25}\n"
     ]
    }
   ],
   "source": [
    "# Viejo estilo:\n",
    "\n",
    "def conj_de_cuadrados_1(n):\n",
    "    conj = set()\n",
    "    for i in range(n):\n",
    "        conj.add(i**2)\n",
    "    return conj\n",
    "\n",
    "# Estilo pitónico:\n",
    "def conj_de_cuadrados_2(n):\n",
    "    return set(i**2 for i in range(n))\n",
    "\n",
    "# ................ ¿Podrás diseñar tú esta solución?\n",
    "\n",
    "# Prueba de funcionamiento:\n",
    "\n",
    "print(conj_de_cuadrados_1(10))\n",
    "print(conj_de_cuadrados_2(10))"
   ]
  },
  {
   "cell_type": "markdown",
   "metadata": {},
   "source": [
    "* Con diccionarios. Completa tú un diseño más pitónico y añade una prueba de funcionamiento:"
   ]
  },
  {
   "cell_type": "code",
   "execution_count": 6,
   "metadata": {},
   "outputs": [
    {
     "ename": "SyntaxError",
     "evalue": "cannot assign to subscript here. Maybe you meant '==' instead of '='? (4061417317.py, line 12)",
     "output_type": "error",
     "traceback": [
      "\u001b[1;36m  Cell \u001b[1;32mIn[6], line 12\u001b[1;36m\u001b[0m\n\u001b[1;33m    return (dict[i]=i**2 for i in range(n))\u001b[0m\n\u001b[1;37m            ^\u001b[0m\n\u001b[1;31mSyntaxError\u001b[0m\u001b[1;31m:\u001b[0m cannot assign to subscript here. Maybe you meant '==' instead of '='?\n"
     ]
    }
   ],
   "source": [
    "# Viejo estilo:\n",
    "\n",
    "def dicc_de_cuadrados_1(n):\n",
    "    diccionario = dict()\n",
    "    for i in range(n):\n",
    "        diccionario[i] = i**2\n",
    "    return diccionario\n",
    "\n",
    "# Estilo pitónico:\n",
    "\n",
    "# Prueba de funcionamiento:\n",
    "\n",
    "print(dicc_de_cuadrados_1(10))\n"
   ]
  },
  {
   "cell_type": "markdown",
   "metadata": {},
   "source": [
    "### Tuplas y listas\n",
    "\n",
    "* Asignación paralela"
   ]
  },
  {
   "cell_type": "code",
   "execution_count": 7,
   "metadata": {},
   "outputs": [
    {
     "name": "stdout",
     "output_type": "stream",
     "text": [
      "Iniciales  :  1 666\n",
      "Intercambio:  666 1\n",
      "Intercambio:  1 666\n"
     ]
    }
   ],
   "source": [
    "# Intercambio de valores entre dos variables:\n",
    "\n",
    "# Viejo estilo:\n",
    "\n",
    "a = 1\n",
    "b = 666\n",
    "print(\"Iniciales  : \", a, b)\n",
    "\n",
    "aux = a\n",
    "a = b\n",
    "b = aux\n",
    "\n",
    "print(\"Intercambio: \", a, b)\n",
    "\n",
    "# Mejor:\n",
    "\n",
    "a, b = b, a\n",
    "\n",
    "print(\"Intercambio: \", a, b)"
   ]
  },
  {
   "cell_type": "markdown",
   "metadata": {},
   "source": [
    "* Recorridos de listas de tuplas"
   ]
  },
  {
   "cell_type": "code",
   "execution_count": 8,
   "metadata": {},
   "outputs": [
    {
     "name": "stdout",
     "output_type": "stream",
     "text": [
      "13.0\n",
      "13.0\n"
     ]
    }
   ],
   "source": [
    "# Viejo estilo:\n",
    "\n",
    "from math import sqrt as raiz\n",
    "\n",
    "def distancia_maxima_1(puntos):\n",
    "    d_max = 0.0\n",
    "    for punto in puntos:\n",
    "        x = punto[0]\n",
    "        y = punto[1]\n",
    "        dist = raiz(x**2 + y**2)\n",
    "        if dist > d_max:\n",
    "            d_max = dist\n",
    "    return d_max\n",
    "\n",
    "# Estilo pitónico:\n",
    "\n",
    "def distancia_maxima_2(puntos):\n",
    "    d_max = 0.0\n",
    "    for (x, y) in puntos:\n",
    "        dist = raiz(x**2 + y**2)\n",
    "        if dist > d_max:\n",
    "            d_max = dist\n",
    "    return d_max\n",
    "\n",
    "lista = [(3, 4), (8, 6), (12, 5)]\n",
    "print(distancia_maxima_1(lista))\n",
    "print(distancia_maxima_2(lista))"
   ]
  },
  {
   "cell_type": "code",
   "execution_count": 9,
   "metadata": {},
   "outputs": [
    {
     "name": "stdout",
     "output_type": "stream",
     "text": [
      "13.0\n"
     ]
    }
   ],
   "source": [
    "# Mejor aún:\n",
    "\n",
    "def distancia_maxima_3(puntos):\n",
    "    distancias = [raiz(x**2 + y**2) for (x, y) in puntos]\n",
    "    return max(distancias)\n",
    "\n",
    "print(distancia_maxima_3(lista))"
   ]
  },
  {
   "cell_type": "markdown",
   "metadata": {},
   "source": [
    "### Formación de listas\n",
    "\n",
    "Generar la lista de los primeros `n` cuadrados."
   ]
  },
  {
   "cell_type": "code",
   "execution_count": 10,
   "metadata": {},
   "outputs": [
    {
     "name": "stdout",
     "output_type": "stream",
     "text": [
      "[0, 1, 4, 9, 16, 25, 36, 49, 64, 81]\n",
      "[0, 1, 4, 9, 16, 25, 36, 49, 64, 81]\n",
      "[0, 1, 4, 9, 16, 25, 36, 49, 64, 81]\n"
     ]
    }
   ],
   "source": [
    "# Viejo estilo:\n",
    "\n",
    "def generar_cuadrados(n):\n",
    "    lista = []\n",
    "    for i in range(n):\n",
    "        lista.append(i**2)\n",
    "    return lista\n",
    "\n",
    "print(generar_cuadrados(10))\n",
    "\n",
    "# Con f.o.s. (abusando un poco de ellas):\n",
    "\n",
    "def generar_cuadrados(n):\n",
    "    return list(map(lambda i: i**2, range(n)))\n",
    "\n",
    "print(generar_cuadrados(10))\n",
    "\n",
    "# Estilo pitónico, mejor:\n",
    "\n",
    "def generar_cuadrados(n):\n",
    "    return [i**2 for i in range(n)]\n",
    "\n",
    "print(generar_cuadrados(10))\n"
   ]
  },
  {
   "cell_type": "code",
   "execution_count": 11,
   "metadata": {},
   "outputs": [
    {
     "name": "stdout",
     "output_type": "stream",
     "text": [
      "20\n"
     ]
    }
   ],
   "source": [
    "# Ejercicio: mejorar el siguiente código.\n",
    "\n",
    "def min_max(a, b):\n",
    "    if a <= b:\n",
    "        par = (a, b)\n",
    "    else:\n",
    "        par = (b, a)\n",
    "    return par\n",
    "        \n",
    "def sum_maxs(lista_de_pares):\n",
    "    suma = 0\n",
    "    for i in range(len(lista_de_pares)):\n",
    "        par = lista_de_pares[i]\n",
    "        a = par[0]\n",
    "        b = par[1]\n",
    "        peque_grande = min_max(a, b)\n",
    "        grande = peque_grande[1]\n",
    "        suma = suma + grande\n",
    "    return suma\n",
    "\n",
    "print(sum_maxs([(1, 2), (4, 3), (5, 6), (8, 7)]))"
   ]
  },
  {
   "cell_type": "markdown",
   "metadata": {},
   "source": [
    "### ¿Varios `return` en una función?\n",
    "\n",
    "* Sí: no pasa nada. No es una mala práctica.\n",
    "  La regla del *único punto de salida* es una costumbre de la vieja escuela, válida en\n",
    "  lenguajes de bajo nivel como C, donde la gestión de los recursos es manual.\n",
    "\n",
    "  Es un mantra procedente de una mala interpretación histórica sobre un consejo\n",
    "  necesario en los orígenes de programación estructurada, pero no está vigente en lenguajes\n",
    "  como Java, Ruby o Python.\n",
    "  \n",
    "* La tendencia actual, y más en lenguajes como Python,\n",
    "  es admitir varios returns cuando mejore la legibilidad.  \n",
    "\n",
    "* Sobre este asunto, he aquí una referencia o dos, entre muchas otras posibles.\n",
    "    \n",
    "    https://codely.tv/blog/screencasts/varios-returns-una-funcion/\n",
    "    https://www.anthonysteele.co.uk/TheSingleReturnLaw.html\n",
    "    "
   ]
  },
  {
   "cell_type": "code",
   "execution_count": 12,
   "metadata": {},
   "outputs": [
    {
     "name": "stdout",
     "output_type": "stream",
     "text": [
      "2 1 5\n"
     ]
    }
   ],
   "source": [
    "# Ejemplos:\n",
    "\n",
    "def menor(a, b):\n",
    "    if a <= b:\n",
    "        return a\n",
    "    else:\n",
    "        return b\n",
    "\n",
    "print(menor(2, 3), menor(7, 1), menor(5, 5))"
   ]
  },
  {
   "cell_type": "code",
   "execution_count": 13,
   "metadata": {},
   "outputs": [
    {
     "name": "stdout",
     "output_type": "stream",
     "text": [
      "[2, 3, 5, 7, 11, 13, 17, 19, 23, 29, 31, 37, 41, 43, 47, 53, 59, 61, 67, 71, 73, 79, 83, 89, 97]\n"
     ]
    }
   ],
   "source": [
    "# Ejemplos:\n",
    "\n",
    "import math\n",
    "\n",
    "def primo(n):\n",
    "    # precondition: n >= 2\n",
    "    raiz = int(math.sqrt(n))\n",
    "    for d in range(2, raiz+1):\n",
    "        if n%d == 0:\n",
    "            return False\n",
    "    return True\n",
    "\n",
    "print([n for n in range(2, 100) if primo(n)])"
   ]
  },
  {
   "cell_type": "markdown",
   "metadata": {},
   "source": [
    "### Referencias\n",
    "\n",
    "\n",
    "https://www.syntonize.com/codigo-limpio-en-python/\n",
    "\n",
    "https://www.askpython.com/python/examples/pythonic-way-of-coding\n"
   ]
  }
 ],
 "metadata": {
  "kernelspec": {
   "display_name": "master_ucm",
   "language": "python",
   "name": "python3"
  },
  "language_info": {
   "codemirror_mode": {
    "name": "ipython",
    "version": 3
   },
   "file_extension": ".py",
   "mimetype": "text/x-python",
   "name": "python",
   "nbconvert_exporter": "python",
   "pygments_lexer": "ipython3",
   "version": "3.11.11"
  }
 },
 "nbformat": 4,
 "nbformat_minor": 1
}
