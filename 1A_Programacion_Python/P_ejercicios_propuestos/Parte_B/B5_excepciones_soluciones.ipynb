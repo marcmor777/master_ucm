{
 "cells": [
  {
   "cell_type": "markdown",
   "metadata": {},
   "source": [
    "# Excepciones. Ejercicios\n",
    "\n",
    "<hr>"
   ]
  },
  {
   "cell_type": "markdown",
   "metadata": {},
   "source": [
    "### Agenda básica\n",
    "\n",
    "Tenemos un archivo en el disco con una agenda, algo así:\n",
    "\n",
    "<img src='./images/agenda.png' alt='' style='height:100px'>\n",
    "\n",
    "Si lo abrimos con un nombre erróneo, falla la cosa:"
   ]
  },
  {
   "cell_type": "code",
   "execution_count": 1,
   "metadata": {},
   "outputs": [
    {
     "ename": "FileNotFoundError",
     "evalue": "[Errno 2] No such file or directory: 'aggenda.txt'",
     "output_type": "error",
     "traceback": [
      "\u001b[1;31m---------------------------------------------------------------------------\u001b[0m",
      "\u001b[1;31mFileNotFoundError\u001b[0m                         Traceback (most recent call last)",
      "Cell \u001b[1;32mIn[1], line 46\u001b[0m\n\u001b[0;32m     43\u001b[0m     el_archivo\u001b[38;5;241m.\u001b[39mclose()\n\u001b[0;32m     44\u001b[0m     \u001b[38;5;28;01mreturn\u001b[39;00m agenda\n\u001b[1;32m---> 46\u001b[0m agenda \u001b[38;5;241m=\u001b[39m cargar_agenda(\u001b[38;5;124m\"\u001b[39m\u001b[38;5;124maggenda.txt\u001b[39m\u001b[38;5;124m\"\u001b[39m)\n\u001b[0;32m     47\u001b[0m \u001b[38;5;28mprint\u001b[39m(agenda)\n",
      "Cell \u001b[1;32mIn[1], line 36\u001b[0m, in \u001b[0;36mcargar_agenda\u001b[1;34m(nombre_archivo)\u001b[0m\n\u001b[0;32m      2\u001b[0m \u001b[38;5;250m\u001b[39m\u001b[38;5;124;03m\"\"\"\u001b[39;00m\n\u001b[0;32m      3\u001b[0m \u001b[38;5;124;03mCarga el contenido de un archivo, llamado nombre_archivo,\u001b[39;00m\n\u001b[0;32m      4\u001b[0m \u001b[38;5;124;03mcuyo contenido tiene un formato prefijado,\u001b[39;00m\n\u001b[1;32m   (...)\u001b[0m\n\u001b[0;32m     33\u001b[0m \u001b[38;5;124;03m    }\u001b[39;00m\n\u001b[0;32m     34\u001b[0m \u001b[38;5;124;03m\"\"\"\u001b[39;00m\n\u001b[0;32m     35\u001b[0m agenda \u001b[38;5;241m=\u001b[39m \u001b[38;5;28mdict\u001b[39m({})\n\u001b[1;32m---> 36\u001b[0m el_archivo \u001b[38;5;241m=\u001b[39m \u001b[38;5;28mopen\u001b[39m(nombre_archivo, \u001b[38;5;124m\"\u001b[39m\u001b[38;5;124mr\u001b[39m\u001b[38;5;124m\"\u001b[39m)\n\u001b[0;32m     37\u001b[0m \u001b[38;5;28;01mfor\u001b[39;00m l \u001b[38;5;129;01min\u001b[39;00m el_archivo:\n\u001b[0;32m     38\u001b[0m     datos \u001b[38;5;241m=\u001b[39m l\u001b[38;5;241m.\u001b[39msplit(\u001b[38;5;124m\"\u001b[39m\u001b[38;5;124m # \u001b[39m\u001b[38;5;124m\"\u001b[39m)\n",
      "File \u001b[1;32mC:\\ProgramData\\anaconda3\\Lib\\site-packages\\IPython\\core\\interactiveshell.py:286\u001b[0m, in \u001b[0;36m_modified_open\u001b[1;34m(file, *args, **kwargs)\u001b[0m\n\u001b[0;32m    279\u001b[0m \u001b[38;5;28;01mif\u001b[39;00m file \u001b[38;5;129;01min\u001b[39;00m {\u001b[38;5;241m0\u001b[39m, \u001b[38;5;241m1\u001b[39m, \u001b[38;5;241m2\u001b[39m}:\n\u001b[0;32m    280\u001b[0m     \u001b[38;5;28;01mraise\u001b[39;00m \u001b[38;5;167;01mValueError\u001b[39;00m(\n\u001b[0;32m    281\u001b[0m         \u001b[38;5;124mf\u001b[39m\u001b[38;5;124m\"\u001b[39m\u001b[38;5;124mIPython won\u001b[39m\u001b[38;5;124m'\u001b[39m\u001b[38;5;124mt let you open fd=\u001b[39m\u001b[38;5;132;01m{\u001b[39;00mfile\u001b[38;5;132;01m}\u001b[39;00m\u001b[38;5;124m by default \u001b[39m\u001b[38;5;124m\"\u001b[39m\n\u001b[0;32m    282\u001b[0m         \u001b[38;5;124m\"\u001b[39m\u001b[38;5;124mas it is likely to crash IPython. If you know what you are doing, \u001b[39m\u001b[38;5;124m\"\u001b[39m\n\u001b[0;32m    283\u001b[0m         \u001b[38;5;124m\"\u001b[39m\u001b[38;5;124myou can use builtins\u001b[39m\u001b[38;5;124m'\u001b[39m\u001b[38;5;124m open.\u001b[39m\u001b[38;5;124m\"\u001b[39m\n\u001b[0;32m    284\u001b[0m     )\n\u001b[1;32m--> 286\u001b[0m \u001b[38;5;28;01mreturn\u001b[39;00m io_open(file, \u001b[38;5;241m*\u001b[39margs, \u001b[38;5;241m*\u001b[39m\u001b[38;5;241m*\u001b[39mkwargs)\n",
      "\u001b[1;31mFileNotFoundError\u001b[0m: [Errno 2] No such file or directory: 'aggenda.txt'"
     ]
    }
   ],
   "source": [
    "def cargar_agenda(nombre_archivo):\n",
    "    \"\"\"\n",
    "    Carga el contenido de un archivo, llamado nombre_archivo,\n",
    "    cuyo contenido tiene un formato prefijado,\n",
    "    generando un diccionario con su contenido.\n",
    "    \n",
    "    Parameters:\n",
    "    -----------\n",
    "        nombre_archivo: str\n",
    "            El identificador del archivo\n",
    "            junto con la ruta en que se encuentra.\n",
    "    \n",
    "    Precondition:\n",
    "    -------------\n",
    "        dict\n",
    "            El archivo existe en la ruta especificada\n",
    "            y tiene el formato adecuado.\n",
    "        \n",
    "    Return:\n",
    "    -------\n",
    "        Diccionario con el contenido del archivo,\n",
    "        también con la estructura especificada.   \n",
    "    \n",
    "    Example:\n",
    "    --------\n",
    "        >>> agenda = cargar_agenda(\"no_existe_este_archivo.txt\")\n",
    "        FileNotFoundError                         Traceback (most recent call last)\n",
    "        ...\n",
    "        >>> agenda = cargar_agenda(\"agenda.txt\")\n",
    "        {'639232983': {'email': 'blaky@ucm.es', 'direc': 'calle BB 45 8-3-3 Madrid'},\n",
    "         '659163091': {'email': 'fer@upm.es', 'direc': 'ctra. Húmera 45 8-3-3 Pozuelo'},\n",
    "         ...\n",
    "        }\n",
    "    \"\"\"\n",
    "    agenda = dict({})\n",
    "    el_archivo = open(nombre_archivo, \"r\")\n",
    "    for l in el_archivo:\n",
    "        datos = l.split(\" # \")\n",
    "        agenda[datos[0]] = {\n",
    "            \"email\" : datos[1],\n",
    "            \"direc\" : datos[2].rstrip()\n",
    "        }\n",
    "    el_archivo.close()\n",
    "    return agenda\n",
    "\n",
    "agenda = cargar_agenda(\"aggenda.txt\")\n",
    "print(agenda)\n",
    "\n",
    "# Esto va a fallar: el archivo no está en el disco"
   ]
  },
  {
   "cell_type": "markdown",
   "metadata": {},
   "source": [
    "Arréglalo, manejando esa situación con una excepción.\n",
    "\n",
    "De paso, hemos añadido anotaciones de tipos en la cabecera\n",
    "(no en los datos del cuerpo de la función),\n",
    "y ya no es necesario poner esos tipos en el docstring."
   ]
  },
  {
   "cell_type": "code",
   "execution_count": 2,
   "metadata": {},
   "outputs": [
    {
     "data": {
      "text/plain": [
       "{'639232983': {'email': 'blaky@ucm.es', 'direc': 'calle BB 45 8-3-3 Madrid'},\n",
       " '659163091': {'email': 'fer@upm.es',\n",
       "  'direc': 'ctra. Húmera 45 8-3-3 Pozuelo'},\n",
       " '654091275': {'email': 'elena@gmail.com', 'direc': 'calle BB 12 8-3-3 Praga'},\n",
       " '234560123': {'email': 'artu@ucm.es', 'direc': 'calle Aravaca 1 12-3 Madrid'}}"
      ]
     },
     "execution_count": 2,
     "metadata": {},
     "output_type": "execute_result"
    }
   ],
   "source": [
    "def cargar_agenda(nombre_archivo: str) -> dict:\n",
    "    \"\"\"\n",
    "    Carga el contenido de un archivo, llamado nombre_archivo,\n",
    "    cuyo contenido tiene un formato prefijado,\n",
    "    generando un diccionario con su contenido.\n",
    "    \n",
    "    Parameters:\n",
    "    -----------\n",
    "        nombre_archivo:\n",
    "            El identificador del archivo\n",
    "            junto con la ruta en que se encuentra.\n",
    "    \n",
    "    Precondition:\n",
    "    -------------\n",
    "        El archivo existe en la ruta especificada\n",
    "        y tiene el formato adecuado.\n",
    "        \n",
    "    Return:\n",
    "    -------\n",
    "        Diccionario con el contenido del archivo,\n",
    "        también con la estructura especificada.   \n",
    "    \n",
    "    Example:\n",
    "    --------\n",
    "        >>> agenda = cargar_agenda(\"no_existe_este_archivo.txt\")\n",
    "        FileNotFoundError                         Traceback (most recent call last)\n",
    "        ...\n",
    "        >>> agenda = cargar_agenda(\"agenda.txt\")\n",
    "        {'639232983': {'email': 'blaky@ucm.es', 'direc': 'calle BB 45 8-3-3 Madrid'},\n",
    "         '659163091': {'email': 'fer@upm.es', 'direc': 'ctra. Húmera 45 8-3-3 Pozuelo'},\n",
    "         ...\n",
    "        }\n",
    "    \"\"\"\n",
    "    agenda = dict({})\n",
    "    try:\n",
    "        f = open(nombre_archivo, 'r')\n",
    "    except:\n",
    "        print('El archivo dado no está a mano')\n",
    "        return\n",
    "    el_archivo = open(nombre_archivo, \"r\")\n",
    "    for l in el_archivo:\n",
    "        datos = l.split(\" # \")\n",
    "        agenda[datos[0]] = {\n",
    "            \"email\" : datos[1],\n",
    "            \"direc\" : datos[2].rstrip()\n",
    "        }\n",
    "    el_archivo.close()\n",
    "    return agenda\n",
    "\n",
    "cargar_agenda(\"agenda.txt\")"
   ]
  },
  {
   "cell_type": "markdown",
   "metadata": {},
   "source": [
    "Otro comentario sobre las anotaciones: las hay de distintos tipos y con distinto nivel de detalle:\n",
    "\n",
    "```python\n",
    "def cargar_agenda(nombre_archivo: str) -> dict[str, dict[str, str]]:\n",
    "```"
   ]
  },
  {
   "cell_type": "markdown",
   "metadata": {},
   "source": [
    "### Aserciones\n",
    "\n",
    "Además de las excepciones, tenemos la función `assert`, para asegurarnos de que los requisitos de una función se cumplen.\n",
    "\n",
    "Diseña un par de funciones con la instrucción `assert` y con excepciones para calcular el máximo común divisor de dos números, pensando en un usuario que pueda algún dato no entero, o nulo, o negativo… y compara su funcionamiento cuando la función es llamada desde otra."
   ]
  },
  {
   "cell_type": "code",
   "execution_count": 3,
   "metadata": {},
   "outputs": [
    {
     "ename": "AssertionError",
     "evalue": "Los parámetros han de ser enteros",
     "output_type": "error",
     "traceback": [
      "\u001b[1;31m---------------------------------------------------------------------------\u001b[0m",
      "\u001b[1;31mAssertionError\u001b[0m                            Traceback (most recent call last)",
      "Cell \u001b[1;32mIn[3], line 13\u001b[0m\n\u001b[0;32m     10\u001b[0m             b \u001b[38;5;241m=\u001b[39m b\u001b[38;5;241m-\u001b[39ma\n\u001b[0;32m     11\u001b[0m     \u001b[38;5;28;01mreturn\u001b[39;00m a\n\u001b[1;32m---> 13\u001b[0m \u001b[38;5;28mprint\u001b[39m(mcd(\u001b[38;5;241m2.3\u001b[39m, \u001b[38;5;241m4\u001b[39m))\n",
      "Cell \u001b[1;32mIn[3], line 3\u001b[0m, in \u001b[0;36mmcd\u001b[1;34m(a, b)\u001b[0m\n\u001b[0;32m      1\u001b[0m \u001b[38;5;28;01mdef\u001b[39;00m \u001b[38;5;21mmcd\u001b[39m(a: \u001b[38;5;28mint\u001b[39m, b: \u001b[38;5;28mint\u001b[39m):\n\u001b[0;32m      2\u001b[0m     \u001b[38;5;66;03m# Pre.: a, b > 0\u001b[39;00m\n\u001b[1;32m----> 3\u001b[0m     \u001b[38;5;28;01massert\u001b[39;00m \u001b[38;5;28misinstance\u001b[39m(a, \u001b[38;5;28mint\u001b[39m) \u001b[38;5;129;01mand\u001b[39;00m \u001b[38;5;28misinstance\u001b[39m(b, \u001b[38;5;28mint\u001b[39m), \u001b[38;5;124m\"\u001b[39m\u001b[38;5;124mLos parámetros han de ser enteros\u001b[39m\u001b[38;5;124m\"\u001b[39m\n\u001b[0;32m      4\u001b[0m     \u001b[38;5;28;01massert\u001b[39;00m a \u001b[38;5;241m!=\u001b[39m \u001b[38;5;241m0\u001b[39m \u001b[38;5;129;01mand\u001b[39;00m b \u001b[38;5;241m!=\u001b[39m \u001b[38;5;241m0\u001b[39m, \u001b[38;5;124m\"\u001b[39m\u001b[38;5;124mLos parámetros han de ser no nulos\u001b[39m\u001b[38;5;124m\"\u001b[39m\n\u001b[0;32m      5\u001b[0m     a, b \u001b[38;5;241m=\u001b[39m \u001b[38;5;28mabs\u001b[39m(a), \u001b[38;5;28mabs\u001b[39m(b)\n",
      "\u001b[1;31mAssertionError\u001b[0m: Los parámetros han de ser enteros"
     ]
    }
   ],
   "source": [
    "def mcd(a: int, b: int):\n",
    "    # Pre.: a, b > 0\n",
    "    assert isinstance(a, int) and isinstance(b, int), \"Los parámetros han de ser enteros\"\n",
    "    assert a != 0 and b != 0, \"Los parámetros han de ser no nulos\"\n",
    "    a, b = abs(a), abs(b)\n",
    "    while a != b:\n",
    "        if a > b:\n",
    "            a = a-b\n",
    "        else:\n",
    "            b = b-a\n",
    "    return a\n",
    "\n",
    "print(mcd(2.3, 4))"
   ]
  },
  {
   "cell_type": "markdown",
   "metadata": {},
   "source": [
    "Observa que hemos omitido la documentación,\n",
    "restringiendolo a los tipos de datos y a los requisitos,\n",
    "quizá por considerar en este caso que es la información más relevante."
   ]
  },
  {
   "cell_type": "code",
   "execution_count": 4,
   "metadata": {},
   "outputs": [
    {
     "name": "stdout",
     "output_type": "stream",
     "text": [
      "2.3 4\n",
      "Algo va mal en los parámetros: Los parámetros han de ser enteros\n",
      "\n",
      "2 pepito\n",
      "Algo va mal en los parámetros: Los parámetros han de ser enteros\n",
      "\n",
      "-20 0\n",
      "Algo va mal en los parámetros: Los parámetros han de no nulos\n",
      "\n",
      "-20 30\n",
      "10\n"
     ]
    }
   ],
   "source": [
    "def mcd(a, b):\n",
    "    assert isinstance(a, int) and isinstance(b, int), \"Los parámetros han de ser enteros\"\n",
    "    assert a != 0 and b != 0, \"Los parámetros han de no nulos\"\n",
    "    a, b = abs(a), abs(b)\n",
    "    while a != b:\n",
    "        if a > b:\n",
    "            a = a-b\n",
    "        else:\n",
    "            b = b-a\n",
    "    return a\n",
    "\n",
    "def prueba_mcd(m, n):\n",
    "    print(m, n)\n",
    "    try:\n",
    "        cd = mcd(m, n)\n",
    "        print(cd)\n",
    "    except AssertionError as e:\n",
    "        print(\"Algo va mal en los parámetros:\", e)\n",
    "        print()\n",
    "\n",
    "prueba_mcd(2.3, 4)\n",
    "prueba_mcd(2, \"pepito\")\n",
    "prueba_mcd(-20, 0)\n",
    "prueba_mcd(-20, 30)"
   ]
  },
  {
   "cell_type": "markdown",
   "metadata": {},
   "source": [
    "### Valores *missing*\n",
    "\n",
    "Los valores *missing* se tratan con frecuencia mediante el uso de excepciones. Supongamos que las calificaciones de alguien son las siguientes:\n",
    "\n",
    "```python\n",
    "notas = “2,,5,7,12,None,-3” \n",
    "```\n",
    "\n",
    "Vemos que la segunda nota es inexistente; otra es None; otra, negativa o podría ser mayor que 10.\n",
    "\n",
    "Tras separar las notas, deseamos convertirlas con las función float. Pero cuando falle esta conversión (por tratarse de un dato inexistente o por tener el valor None u otro string no convertible en un real), deseamos imputar un cero. Cuando sea negativa, también un cero; y cuando sea mayor que 10, lo dejaremos en 10."
   ]
  },
  {
   "cell_type": "code",
   "execution_count": 5,
   "metadata": {},
   "outputs": [],
   "source": [
    "def to_float(s):\n",
    "    try:\n",
    "        s = float(s)\n",
    "    except:\n",
    "        s = 0.0\n",
    "    if s < 0:\n",
    "        return  0.0\n",
    "    elif s > 10:\n",
    "        return 10.0\n",
    "    else:\n",
    "        return s\n",
    "    \n",
    "def to_notas(cadena):\n",
    "    return [to_float(n) for n in cadena.split(\",\")]"
   ]
  },
  {
   "cell_type": "code",
   "execution_count": 6,
   "metadata": {},
   "outputs": [
    {
     "data": {
      "text/plain": [
       "[2.0, 0.0, 5.0, 7.0, 10.0, 0.0, 0.0]"
      ]
     },
     "execution_count": 6,
     "metadata": {},
     "output_type": "execute_result"
    }
   ],
   "source": [
    "to_notas(\"2,,5,7,12,None,-3\")"
   ]
  }
 ],
 "metadata": {
  "kernelspec": {
   "display_name": "Python 3 (ipykernel)",
   "language": "python",
   "name": "python3"
  },
  "language_info": {
   "codemirror_mode": {
    "name": "ipython",
    "version": 3
   },
   "file_extension": ".py",
   "mimetype": "text/x-python",
   "name": "python",
   "nbconvert_exporter": "python",
   "pygments_lexer": "ipython3",
   "version": "3.11.5"
  }
 },
 "nbformat": 4,
 "nbformat_minor": 1
}
