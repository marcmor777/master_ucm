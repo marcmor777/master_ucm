{
 "cells": [
  {
   "cell_type": "markdown",
   "metadata": {},
   "source": [
    "# Mutabilidad. Dos ejercicios resueltos\n",
    "\n",
    "<hr>"
   ]
  },
  {
   "cell_type": "markdown",
   "metadata": {},
   "source": [
    "### Ejercicio 1\n",
    "\n",
    "Queremos hacer algo para modificar un entero, o un par de enteros, como los términos de una fracción, por ejemplo. Pero lo siguiente no funciona:\n",
    "\n",
    "```Python\n",
    "def incr(l):\n",
    "    l[0] = l[0]+1\n",
    "\n",
    ">>> n = 4\n",
    ">>> incr([n])\n",
    ">>> print(n)\n",
    "4\n",
    "\n",
    ">>> lista = [n]\n",
    "\n",
    ">>> incr(lista)\n",
    ">>> print(n)\n",
    "4\n",
    "```"
   ]
  },
  {
   "cell_type": "code",
   "execution_count": 1,
   "metadata": {},
   "outputs": [
    {
     "name": "stdout",
     "output_type": "stream",
     "text": [
      "4\n",
      "5\n"
     ]
    }
   ],
   "source": [
    "# Un entero no puede modificarse, pero sí una lista que contiene un entero.\n",
    "# Es algo así como un entero \"envuelto en una caja\".\n",
    "\n",
    "def incr(l):\n",
    "    l[0] = l[0]+1\n",
    "\n",
    "lista_ent = [4]\n",
    "print(lista_ent[0])\n",
    "incr(lista_ent)\n",
    "print(lista_ent[0])"
   ]
  },
  {
   "cell_type": "markdown",
   "metadata": {},
   "source": [
    "### Ejercicio 2\n",
    "\n",
    "Una fracción se puede simplificar calculando el máximo común divisor de sus términos… Diseña una función que da la fracción simplificada y otro que simplifica “in place” una fracción dada. Este asunto puede ilustrar el concepto de objetos mutables e inmutables."
   ]
  },
  {
   "cell_type": "code",
   "execution_count": 2,
   "metadata": {},
   "outputs": [
    {
     "name": "stdout",
     "output_type": "stream",
     "text": [
      "[12, 18]\n",
      "[2, 3]\n",
      "............................\n",
      "[6, 18]\n",
      "[1, 3]\n",
      "............................\n",
      "[6, 6]\n",
      "[1, 1]\n",
      "............................\n",
      "[6, 1]\n",
      "[6, 1]\n"
     ]
    }
   ],
   "source": [
    "from math import gcd\n",
    "\n",
    "def simplificar(fraccion):\n",
    "    # Pre.: num, den > 0, siendo [num, den] = fraccion\n",
    "    [num, den] = fraccion\n",
    "    d = gcd(num, den)\n",
    "    fraccion[0], fraccion[1] = num//d, den//d\n",
    "    \n",
    "f1 = [12, 18]\n",
    "print(f1)\n",
    "simplificar(f1)\n",
    "print(f1)\n",
    "\n",
    "print(\"............................\")\n",
    "\n",
    "f2 = [6, 18]\n",
    "print(f2)\n",
    "simplificar(f2)\n",
    "print(f2)\n",
    "\n",
    "print(\"............................\")\n",
    "\n",
    "f3 = [6, 6]\n",
    "print(f3)\n",
    "simplificar(f3)\n",
    "print(f3)\n",
    "\n",
    "print(\"............................\")\n",
    "\n",
    "f4 = [6, 1]\n",
    "print(f4)\n",
    "simplificar(f4)\n",
    "print(f4)"
   ]
  }
 ],
 "metadata": {
  "kernelspec": {
   "display_name": "Python 3 (ipykernel)",
   "language": "python",
   "name": "python3"
  },
  "language_info": {
   "codemirror_mode": {
    "name": "ipython",
    "version": 3
   },
   "file_extension": ".py",
   "mimetype": "text/x-python",
   "name": "python",
   "nbconvert_exporter": "python",
   "pygments_lexer": "ipython3",
   "version": "3.9.12"
  }
 },
 "nbformat": 4,
 "nbformat_minor": 1
}
