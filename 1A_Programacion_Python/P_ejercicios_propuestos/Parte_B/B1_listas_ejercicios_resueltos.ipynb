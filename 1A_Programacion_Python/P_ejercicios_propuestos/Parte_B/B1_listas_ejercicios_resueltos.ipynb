{
 "cells": [
  {
   "cell_type": "markdown",
   "metadata": {},
   "source": [
    "# Listas. Ejercicios\n",
    "\n",
    "<hr>"
   ]
  },
  {
   "cell_type": "markdown",
   "metadata": {},
   "source": [
    "### Máximo comun divisor\n",
    "\n",
    "Así: generando las listas de divisores y seleccionando el mayor común.\n",
    "\n",
    "Damos una solución con listas y bucles y otra con conjuntos y la notación intensional o por comprensión. No te resultará difícil dar tú una con conjuntos y bucles o una con listas y la notación intensional."
   ]
  },
  {
   "cell_type": "code",
   "execution_count": 12,
   "metadata": {},
   "outputs": [
    {
     "name": "stdout",
     "output_type": "stream",
     "text": [
      "9\n"
     ]
    }
   ],
   "source": [
    "def MCD(n1: int, n2: int):\n",
    "    divisores_1=[i for i in range(1, n1+1) if n1%i==0]\n",
    "    divisores_2=[i for i in range(1, n2+1) if n2%i==0]\n",
    "    mcd=1\n",
    "    for n in divisores_1:\n",
    "        if n in divisores_2:\n",
    "            mcd=n\n",
    "    \n",
    "    return mcd\n",
    "    \n",
    "print(MCD(45, 36))"
   ]
  },
  {
   "cell_type": "code",
   "execution_count": 10,
   "metadata": {},
   "outputs": [
    {
     "name": "stdout",
     "output_type": "stream",
     "text": [
      "12 24\n",
      "12 24\n"
     ]
    }
   ],
   "source": [
    "def lista_de_divisores(n: int) -> [int]:\n",
    "    # Pre.: n > 0\n",
    "    div_list = []\n",
    "    for d in range(1, n+1):\n",
    "        if n % d == 0:\n",
    "            div_list.append(d)\n",
    "    return div_list\n",
    "\n",
    "def mcd(a: int, b: int) -> int:\n",
    "    # Pre.: a, b > 0\n",
    "    div_a, div_b = lista_de_divisores(a), lista_de_divisores(b)\n",
    "    max_comun = 1\n",
    "    for d in div_a:\n",
    "        if d in div_b:\n",
    "            max_comun = d\n",
    "    return max_comun\n",
    "                     \n",
    "print(mcd(24, 36), mcd(24, 24))\n",
    "\n",
    "# La siguiente solución usa la notación intensional y conjuntos.\n",
    "# Si no la conoces aún, mírala. Es bastante intuitiva y te gustará.\n",
    "# Si prefieres esperar hasta conocer estas herramientas, bien también.\n",
    "\n",
    "def max_c_d(a: int, b: int) -> int:\n",
    "    # Pre.: a, b > 0\n",
    "    div_a = {d for d in range(1, a+1) if a % d == 0} \n",
    "    div_b = {d for d in range(1, b+1) if b % d == 0} \n",
    "    return max(div_a & div_b)\n",
    "\n",
    "print(max_c_d(24, 36), max_c_d(24, 24))"
   ]
  },
  {
   "cell_type": "markdown",
   "metadata": {},
   "source": [
    "### Limpieza en las palabras\n",
    "\n",
    "Diseña una función que toma una palabra y la limpia, de todos los caracteres que no son alfabéticos, por la izquierda o por la derecha:\n",
    "\n",
    "\t    \"quijote,\" --> \"quijote\"\n",
    "\t    \" 4 quijote,\" --> \"quijote\"\n",
    "\n",
    "Puedes hacerlo tú mismo, pero también puedes inspeccionar las funciones “strip”, “lstrip”, “rstrip” en Python."
   ]
  },
  {
   "cell_type": "code",
   "execution_count": 27,
   "metadata": {},
   "outputs": [
    {
     "name": "stdout",
     "output_type": "stream",
     "text": [
      "quijote 2 veces quijote 456 veces\n"
     ]
    }
   ],
   "source": [
    "# Hagamos esto por nosotros mismos:\n",
    "\n",
    "def limpia(palabra: str) -> str:\n",
    "    while palabra != [] and not palabra[0].isalpha():\n",
    "        palabra = palabra[1:]\n",
    "    while palabra != [] and not palabra[-1].isalpha():\n",
    "        palabra = palabra[:-1]\n",
    "    return palabra\n",
    "\n",
    "print(limpia(\"quijote 2 veces,\"), limpia(\" 4 quijote 456 veces,\"))"
   ]
  },
  {
   "cell_type": "markdown",
   "metadata": {},
   "source": [
    "### Criba de Eratóstenes\n",
    "\n",
    "Diseña un programa que simule la conocida criba de Eratóstenes."
   ]
  },
  {
   "cell_type": "code",
   "execution_count": 3,
   "metadata": {},
   "outputs": [
    {
     "name": "stdout",
     "output_type": "stream",
     "text": [
      "lista inicial =  [2, 3, 4, 5, 6, 7, 8, 9, 10, 11, 12, 13, 14, 15, 16, 17, 18, 19, 20, 21, 22, 23, 24, 25, 26, 27, 28, 29, 30, 31, 32, 33, 34, 35, 36, 37, 38, 39, 40, 41, 42, 43, 44, 45, 46, 47, 48, 49, 50, 51, 52, 53, 54, 55, 56, 57, 58, 59, 60, 61, 62, 63, 64, 65, 66, 67, 68, 69, 70, 71, 72, 73, 74, 75, 76, 77, 78, 79, 80, 81, 82, 83, 84, 85, 86, 87, 88, 89, 90, 91, 92, 93, 94, 95, 96, 97, 98, 99, 100]\n",
      "\n",
      "tras cribar 2, la lista queda así:  [2, 3, 5, 7, 9, 11, 13, 15, 17, 19, 21, 23, 25, 27, 29, 31, 33, 35, 37, 39, 41, 43, 45, 47, 49, 51, 53, 55, 57, 59, 61, 63, 65, 67, 69, 71, 73, 75, 77, 79, 81, 83, 85, 87, 89, 91, 93, 95, 97, 99]\n",
      "\n",
      "tras cribar 3, la lista queda así:  [2, 3, 5, 7, 11, 13, 17, 19, 23, 25, 29, 31, 35, 37, 41, 43, 47, 49, 53, 55, 59, 61, 65, 67, 71, 73, 77, 79, 83, 85, 89, 91, 95, 97]\n",
      "\n",
      "4  no es primo\n",
      "\n",
      "tras cribar 5, la lista queda así:  [2, 3, 5, 7, 11, 13, 17, 19, 23, 29, 31, 37, 41, 43, 47, 49, 53, 59, 61, 67, 71, 73, 77, 79, 83, 89, 91, 97]\n",
      "\n",
      "6  no es primo\n",
      "\n",
      "tras cribar 7, la lista queda así:  [2, 3, 5, 7, 11, 13, 17, 19, 23, 29, 31, 37, 41, 43, 47, 53, 59, 61, 67, 71, 73, 79, 83, 89, 97]\n",
      "\n",
      "8  no es primo\n",
      "\n",
      "9  no es primo\n",
      "\n",
      "10  no es primo\n",
      "\n"
     ]
    }
   ],
   "source": [
    "from math import sqrt as raiz\n",
    "\n",
    "def criba_de_eratostenes(n: int) -> None:\n",
    "    lista = list(range(2, n+1))\n",
    "    print(\"lista inicial = \", lista)\n",
    "    print()\n",
    "    for d in range(2, int(raiz(n)) + 1):\n",
    "        if d in lista:\n",
    "            lista = [k for k in lista if not (k > d and k % d == 0)]\n",
    "            print(\"tras cribar \" + str(d) + \", la lista queda así: \", lista)\n",
    "            print()\n",
    "        else:\n",
    "            print(d, \" no es primo\")\n",
    "            print()\n",
    "\n",
    "criba_de_eratostenes(100)"
   ]
  },
  {
   "cell_type": "markdown",
   "metadata": {},
   "source": [
    "### Derivar un polinomio\n",
    "\n",
    "Tenemos un polinomio dado en una lista de los coeficientes, de menor a mayor orden, y con un cero para los coeficientes nulos, lógicamente. Diseña una función que calcule la lista correspondiente al polinomio derivada. Diseña también una función que calcule la derivada enésima, siendo el orden un parámetro que, si se omite, es uno.\n",
    "\n",
    "La función derivada admite una solución usando la función “enumerate” y otra sin ella. También se puede definir con listas intensionales y sin ellas. Diseña ahora una segunda versión de la derivada."
   ]
  },
  {
   "cell_type": "markdown",
   "metadata": {},
   "source": [
    "def der_1(poly):\n",
    "    return [c*n for n, c in list(enumerate(poly))[1:]]\n",
    "        \n",
    "poli = [5, 4, 3, 2]\n",
    "\n",
    "print(list(enumerate(poli)))\n",
    "print(list(enumerate(poli))[1:]) \n",
    "print(der_1([5, 4, 3, 2]))\n",
    "\n",
    "def derivada(poly, n=1):\n",
    "    p = poly\n",
    "    for i in range(n):\n",
    "        p = der_1(p)\n",
    "    return p\n",
    "\n",
    "print(derivada([3, 6, 5, 9, 1, 2, 90, 12, 3], 2))"
   ]
  },
  {
   "cell_type": "markdown",
   "metadata": {},
   "source": [
    "### Ordenación de una lista. Usemos `sort()`\n",
    "\n",
    "Python proporciona distintas maneras de ordenar una lista.\n",
    "Nos interesa especialmente poder hacerlo usando una función\n",
    "arbitraria que compare los elementos.\n",
    "\n",
    "Tenemos una colección de puntos del plano, esto es,\n",
    "una lista de pares de reales. La llamamos, sencillamente “puntos”.\n",
    "También tenemos un punto especial “P”.\n",
    "Deseamos diseñar una función que ordene la lista de puntos\n",
    "de más cercano a más lejano a “P”, esto es,\n",
    "de menor a mayor distancia a “P”, usando la función “sort” predefinida."
   ]
  },
  {
   "cell_type": "code",
   "execution_count": 4,
   "metadata": {},
   "outputs": [
    {
     "name": "stdout",
     "output_type": "stream",
     "text": [
      "Puntos =  [(-3.2699339005736334, -5.831851724658719), (7.412690063753981, 7.367316153913343), (-6.882176101444992, 4.904331403075059), (-1.4298246451951986, -1.7773915573405485), (-1.7053342702467091, 5.098606590076981), (-1.5555684174431121, 9.504145074308013), (6.091495186862929, -4.407851420743613), (-2.547251313044172, 2.7316216825052955), (1.7182784085502778, 9.242148986406772), (-3.439887767424703, -8.014910866526971)]\n",
      "[(-3.2699339005736334, -5.831851724658719), (7.412690063753981, 7.367316153913343), (-6.882176101444992, 4.904331403075059), (-1.4298246451951986, -1.7773915573405485), (-1.7053342702467091, 5.098606590076981), (-1.5555684174431121, 9.504145074308013), (6.091495186862929, -4.407851420743613), (-2.547251313044172, 2.7316216825052955), (1.7182784085502778, 9.242148986406772), (-3.439887767424703, -8.014910866526971)]\n",
      "\n",
      "\n",
      "[(-1.4298246451951986, -1.7773915573405485), (-2.547251313044172, 2.7316216825052955), (-1.7053342702467091, 5.098606590076981), (-3.2699339005736334, -5.831851724658719), (6.091495186862929, -4.407851420743613), (-6.882176101444992, 4.904331403075059), (-3.439887767424703, -8.014910866526971), (1.7182784085502778, 9.242148986406772), (-1.5555684174431121, 9.504145074308013), (7.412690063753981, 7.367316153913343)]\n",
      "\n",
      "\n",
      "[(-1.4298246451951986, -1.7773915573405485), (-2.547251313044172, 2.7316216825052955), (-1.7053342702467091, 5.098606590076981), (-3.2699339005736334, -5.831851724658719), (6.091495186862929, -4.407851420743613), (-6.882176101444992, 4.904331403075059), (1.7182784085502778, 9.242148986406772), (-1.5555684174431121, 9.504145074308013), (-3.439887767424703, -8.014910866526971), (7.412690063753981, 7.367316153913343)]\n",
      "\n",
      "\n",
      "[((-1.4298246451951986, -1.7773915573405485), 8.171597809522698), ((-2.547251313044172, 2.7316216825052955), 8.757154780253373), ((-1.7053342702467091, 5.098606590076981), 26.24724941435394), ((-3.2699339005736334, -5.831851724658719), 47.46152178531559), ((6.091495186862929, -4.407851420743613), 31.526886211815565), ((-6.882176101444992, 4.904331403075059), 27.99433537921306), ((1.7182784085502778, 9.242148986406772), 85.25179742909766), ((-1.5555684174431121, 9.504145074308013), 90.31042789108452), ((-3.439887767424703, -8.014910866526971), 81.88594681267799), ((7.412690063753981, 7.367316153913343), 56.90401982134563)]\n"
     ]
    }
   ],
   "source": [
    "import random\n",
    "from math import sqrt\n",
    "\n",
    "num_puntos = 10\n",
    "puntos = [(20 * random.random() -10, 20 * random.random() - 10) for i in range(num_puntos)]\n",
    "\n",
    "print(\"Puntos = \", puntos)\n",
    "\n",
    "Punto = (int, int)\n",
    "\n",
    "def dist_origen(p: Punto) -> float:\n",
    "    x, y = p\n",
    "    return sqrt(x**2 + y**2)\n",
    "\n",
    "def ordenar_dist(lista: [Punto], P: Punto) -> [Punto]:\n",
    "    Px, Py = P\n",
    "    def dist_p(q):\n",
    "        qx, qy = q\n",
    "        return sqrt((Px-qx)**2 + (Py-qy)**2)\n",
    "    lista.sort(key=dist_p)\n",
    "    \n",
    "print(puntos)\n",
    "print(\"\\n\")\n",
    "\n",
    "puntos.sort(key=dist_origen)\n",
    "\n",
    "print(puntos)\n",
    "print(\"\\n\")\n",
    "\n",
    "P = (0.5, 0.5)\n",
    "\n",
    "ordenar_dist(puntos, P)\n",
    "\n",
    "print(puntos)\n",
    "print(\"\\n\")\n",
    "\n",
    "print([(q, sqrt((P[0]-q[0])**2 + (P[1]-q[1])**2) + (P[1]-q[1])**2)\n",
    "       for q in puntos])"
   ]
  },
  {
   "cell_type": "markdown",
   "metadata": {},
   "source": [
    "### Sustitución de un string\n",
    "\n",
    "Dado un string, deseamos cambiar sus vocales por un carácter punto, “.”\n",
    "\n",
    "Ejemplo:\n",
    "\n",
    "        'Tengo que decir que esto es sencillo.'\n",
    "        ->\n",
    "        'T.ng. q.. d.c.r q.. .st. .s s.nc.ll..'\n",
    "\n",
    "Piezas útiles. Te doy algunas pistas. A ver si sabes buscar tú solo en Internet la información que necesites.\n",
    "\n",
    "<ol>\n",
    "    <li> Predicado que dice si un carácter es una vocal (minúscula o mayúscula).</li>\n",
    "    <li> Función que convierte un carácter en “.” si es vocal, o lo deja igual.</li>\n",
    "    <li> Lista que hace lo dicho con todos los caracteres de una lista. (Para una cadena de caracteres, list(cadena).</li>\n",
    "    <li> Se puede unir todos los caracteres de una lista para formar un string, con un bucle o con la función “join”,\n",
    "        que une una lista de cadenas de caracteres con el separador dado inicialmente:\n",
    "        \n",
    "        >>> \"-\".join(['ae', 'i', 'o', 'u'])\n",
    "        'ae-i-o-u'\n",
    "</li>\n",
    "        \n",
    "<li> Luego está la notación de listas por comprensión:\n",
    "\n",
    "        lista_de_letras =  [\".\" if …………… else c for c in …]\n",
    "        resultado =  …………… lista_de_letras ……………\n",
    "\n",
    "</li>"
   ]
  },
  {
   "cell_type": "markdown",
   "metadata": {},
   "source": [
    "### Paso a paso\n",
    "\n",
    "Vamos paso a paso.\n",
    "\n",
    "<ol>\n",
    "    <li> Predicado que dice si un carácter es una vocal (minúscula o mayúscula).</li>\n",
    "    <li> Función que convierte un carácter en “.” si es vocal, o lo deja igual.</li>\n",
    "    <li> Lista que hace lo dicho con todos los caracteres de una lista. (Para una cadena de caracteres, list(cadena).</li>\n",
    "    <li> Se puede unir todos los caracteres de una lista para formar un string, con un bucle o con la función “join”, que une una lista de cadenas de caracteres con el separador dado inicialmente:\n",
    "        \n",
    "        >>> \"-\".join(['ae', 'i', 'o', 'u'])\n",
    "        'ae-i-o-u'\n",
    "</li>\n",
    "\n",
    "Averiguo si una letra es una vocal. Las dos primeras versiones son las que posiblemente se os han ocurrido a vosotros. Añado las siguientes, con notación conjuntista (in) y, puesto que resulta ya tan sencillo, pongo las letras con tilde en la lista\n",
    "\n",
    "Voy con el primer apartado: \"Predicado que dice si un carácter es una vocal (minúscula o mayúscula).\" Para resolver esto, se puede poner en Internet, en Google por ejemplo, lo siguiente: \"python predicado averigua si una letra es minúscula\"."
   ]
  },
  {
   "cell_type": "code",
   "execution_count": 5,
   "metadata": {},
   "outputs": [
    {
     "name": "stdout",
     "output_type": "stream",
     "text": [
      "True True False False\n",
      "True True False False\n",
      "True True False False\n",
      "True True False False\n"
     ]
    }
   ],
   "source": [
    "# Predicado que dice si un carácter es una vocal (minúscula o mayúscula)\n",
    "\n",
    "def es_vocal(letra):\n",
    "    lm = letra.lower()\n",
    "    if lm == 'a' or lm == 'e' or lm == 'i' or lm == 'o' or lm == 'u':\n",
    "        return True\n",
    "    else:\n",
    "        return False\n",
    "\n",
    "print(es_vocal(\"a\"), es_vocal(\"A\"), es_vocal(\"b\"), es_vocal(\"B\"))\n",
    "\n",
    "def es_vocal(letra):\n",
    "    lm = letra.lower()\n",
    "    return lm == 'a' or lm == 'e' or lm == 'i' or lm == 'i' or lm == 'u'\n",
    "\n",
    "print(es_vocal(\"a\"), es_vocal(\"A\"), es_vocal(\"b\"), es_vocal(\"B\"))\n",
    "\n",
    "def es_vocal(letra):\n",
    "    return letra.lower() in \"aeiou\"\n",
    "\n",
    "print(es_vocal(\"a\"), es_vocal(\"A\"), es_vocal(\"b\"), es_vocal(\"B\"))\n",
    "\n",
    "def es_vocal(letra):\n",
    "    return letra.lower() in \"aeiou\" + \"áéíóú\"\n",
    "\n",
    "print(es_vocal(\"a\"), es_vocal(\"A\"), es_vocal(\"b\"), es_vocal(\"B\"))"
   ]
  },
  {
   "cell_type": "code",
   "execution_count": 6,
   "metadata": {},
   "outputs": [
    {
     "name": "stdout",
     "output_type": "stream",
     "text": [
      ". b . B *\n"
     ]
    }
   ],
   "source": [
    "# Función que convierte un carácter en “.” si es vocal, o lo deja igual.\n",
    "\n",
    "def a_punto(letra):\n",
    "    if es_vocal(letra):\n",
    "        return \".\"\n",
    "    else:\n",
    "        return letra\n",
    "\n",
    "print(a_punto(\"a\"), a_punto(\"b\"), a_punto(\"A\"), a_punto(\"B\"), a_punto(\"*\"))"
   ]
  },
  {
   "cell_type": "code",
   "execution_count": 7,
   "metadata": {},
   "outputs": [
    {
     "name": "stdout",
     "output_type": "stream",
     "text": [
      "['M', '.', 'r', '.', ' ', 'l', '.', 's', ' ', 'm', '.', 'r', '.', 's', ' ', 'd', '.', ' ', 'l', '.', ' ', 'P', '.', 't', 'r', '.', '.', ' ', 'm', '.', '.', '.', '.', '.']\n",
      "['M', '.', 'r', '.', ' ', 'l', '.', 's', ' ', 'm', '.', 'r', '.', 's', ' ', 'd', '.', ' ', 'l', '.', ' ', 'P', '.', 't', 'r', '.', '.', ' ', 'm', '.', '.', '.', '.', '.']\n"
     ]
    }
   ],
   "source": [
    "# Lista que hace lo dicho con todos los caracteres de una lista. (Para una cadena de caracteres, list(cadena).\n",
    "\n",
    "def convertir_en_punto(lista):\n",
    "    lista_out = []\n",
    "    for x in lista:\n",
    "        lista_out.append(a_punto(x))\n",
    "    return lista_out\n",
    "\n",
    "print(convertir_en_punto(\"Miré los muros de la Patria mía...\"))\n",
    "\n",
    "def convertir_en_punto(lista):\n",
    "    return [a_punto(x) for x in lista]\n",
    "\n",
    "print(convertir_en_punto(\"Miré los muros de la Patria mía...\"))"
   ]
  },
  {
   "cell_type": "code",
   "execution_count": 8,
   "metadata": {},
   "outputs": [
    {
     "name": "stdout",
     "output_type": "stream",
     "text": [
      "M.r. l.s m.r.s d. l. P.tr.. m.....\n"
     ]
    }
   ],
   "source": [
    "# Uniendo el resultado en un string:\n",
    "\n",
    "def transformar_string(cadena):\n",
    "    resultado = \"\"\n",
    "    for x in cadena:\n",
    "        resultado = resultado + a_punto(x)\n",
    "    return resultado\n",
    "\n",
    "print(transformar_string(\"Miré los muros de la Patria mía...\"))"
   ]
  },
  {
   "cell_type": "code",
   "execution_count": 9,
   "metadata": {},
   "outputs": [
    {
     "name": "stdout",
     "output_type": "stream",
     "text": [
      "T.ng. q.. d.c.r q.. .st. .s s.nc.ll..\n"
     ]
    }
   ],
   "source": [
    "# De otro modo, tú sabrás interpretarlo bien:\n",
    "\n",
    "frase = 'Tengo que decir que esto es sencillo.'\n",
    "lista_de_letras =  [\".\" if c.lower() in \"aeiou\" else c for c in frase]\n",
    "solucion = \"\".join(lista_de_letras)\n",
    "print(solucion)"
   ]
  }
 ],
 "metadata": {
  "kernelspec": {
   "display_name": "master_ucm",
   "language": "python",
   "name": "python3"
  },
  "language_info": {
   "codemirror_mode": {
    "name": "ipython",
    "version": 3
   },
   "file_extension": ".py",
   "mimetype": "text/x-python",
   "name": "python",
   "nbconvert_exporter": "python",
   "pygments_lexer": "ipython3",
   "version": "3.11.11"
  }
 },
 "nbformat": 4,
 "nbformat_minor": 4
}
