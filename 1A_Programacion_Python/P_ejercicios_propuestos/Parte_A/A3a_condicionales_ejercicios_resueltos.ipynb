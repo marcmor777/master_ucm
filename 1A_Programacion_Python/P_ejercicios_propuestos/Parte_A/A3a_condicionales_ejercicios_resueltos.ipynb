{
 "cells": [
  {
   "cell_type": "markdown",
   "metadata": {},
   "source": [
    "# Condicionales. Ejercicios y soluciones\n",
    "\n",
    "<hr>"
   ]
  },
  {
   "cell_type": "markdown",
   "metadata": {},
   "source": [
    "### Ejercicio 1. La dura tarea de poner las notas\n",
    "\n",
    "Diseña una función que dé la calificación (“suspenso”, …, Matrícula de Honor”) correspondiente a una nota, exigiendo que la entrada sea un número real entre 0 y 10."
   ]
  },
  {
   "cell_type": "code",
   "execution_count": 1,
   "metadata": {},
   "outputs": [
    {
     "name": "stdout",
     "output_type": "stream",
     "text": [
      "0.5 Suspenso\n",
      "4.999 Suspenso\n",
      "5.0 Aprobado\n",
      "5.5 Aprobado\n",
      "6.8 Aprobado\n",
      "7.2 Notable\n",
      "9.25 Sobresaliente\n",
      "10.0 Matrícula de Honor\n"
     ]
    }
   ],
   "source": [
    "def calificacion(nota):\n",
    "    \"\"\"\n",
    "    Parameters:\n",
    "    -----------\n",
    "        nota: float\n",
    "    Pre:\n",
    "    ----\n",
    "        0 <= nota <= 10\n",
    "    Returns:\n",
    "    --------\n",
    "        str\n",
    "        Palabra(s) correspondiente(s) a la calificación\n",
    "    \"\"\"\n",
    "    if nota < 5.0:\n",
    "        return \"Suspenso\"\n",
    "    elif nota < 7.0:\n",
    "        return \"Aprobado\"\n",
    "    elif nota < 9.0:\n",
    "        return \"Notable\"\n",
    "    elif nota < 10.0:\n",
    "        return \"Sobresaliente\"\n",
    "    else:\n",
    "        return \"Matrícula de Honor\"\n",
    "\n",
    "for nota in [0.5, 4.999, 5.0, 5.5, 6.8, 7.2, 9.25, 10.0]:\n",
    "    print(nota, calificacion(nota))"
   ]
  },
  {
   "cell_type": "markdown",
   "metadata": {},
   "source": [
    "### Ecuación de segundo grado\n",
    "\n",
    "Diseña un programa que calcule las soluciones de una ecuación de la forma $ax^2+bx+c=0$. Debes tener en cuenta que los coeficientes pueden ser reales arbitrarios, nulos o no, etc., dando lugar a una ecuación sin solución, con una o con dos soluciones reales o imaginarias.\n",
    "\n",
    "Añadimos por nuestra cuenta"
   ]
  },
  {
   "cell_type": "code",
   "execution_count": 2,
   "metadata": {},
   "outputs": [],
   "source": [
    "import math, cmath\n",
    "\n",
    "def resuelve_ec_2_grado(a, b, c):\n",
    "    \"\"\"\n",
    "    ...\n",
    "    Parameters:\n",
    "    -----------\n",
    "        a, b, c: float, float, float\n",
    "    Returns:\n",
    "    --------\n",
    "        (String, [Float])\n",
    "        Number and type of solutions, [solutions]\n",
    "    ...\n",
    "    \"\"\"\n",
    "    if a == 0:\n",
    "        if b == 0:\n",
    "            if c == 0:\n",
    "                return (\"Inf sols\",[])\n",
    "            else:\n",
    "                return (\"Sin sol\",[])\n",
    "        else:\n",
    "            return (\"Sol única\", [-c/b])\n",
    "    else:\n",
    "        discriminante = b**2 - 4*a*c\n",
    "        if discriminante >= 0:\n",
    "            sol1 = (-b + math.sqrt(discriminante)) / (2*a)\n",
    "            sol2 = (-b - math.sqrt(discriminante)) / (2*a)\n",
    "            return (\"2 solucs reales\", [sol1, sol2])\n",
    "        else:\n",
    "            sol1 = (-b + cmath.sqrt(discriminante)) / (2*a)\n",
    "            sol2 = (-b - cmath.sqrt(discriminante)) / (2*a)\n",
    "            return (\"2 solucs imags\", [sol1, sol2])"
   ]
  },
  {
   "cell_type": "code",
   "execution_count": 3,
   "metadata": {},
   "outputs": [
    {
     "name": "stdout",
     "output_type": "stream",
     "text": [
      "a  ('Inf sols', [])\n",
      "b  ('Sin sol', [])\n",
      "c  ('Sol única', [-2.5])\n",
      "d  ('2 solucs reales', [3.0, 2.0])\n",
      "e  ('2 solucs imags', [(-1+2j), (-1-2j)])\n"
     ]
    }
   ],
   "source": [
    "# Casos de prueba:\n",
    "\n",
    "print(\"a \", resuelve_ec_2_grado(0, 0, 0))\n",
    "print(\"b \", resuelve_ec_2_grado(0, 0, 3))\n",
    "print(\"c \", resuelve_ec_2_grado(0, 2, 5))\n",
    "print(\"d \", resuelve_ec_2_grado(1, -5, 6))\n",
    "print(\"e \", resuelve_ec_2_grado(1, 2, 5))"
   ]
  },
  {
   "cell_type": "markdown",
   "metadata": {},
   "source": [
    "### Códigos de rotación\n",
    "\n",
    "Imaginemos las letras del alfabeto ordenadas y dispuestas en círculo.\n",
    "Esto es, a la derecha de la A se encuentra la B, luego la C y así sucesivamente, hasta la Z, y a la derecha de la Z se encuentra nuevamente la A.\n",
    "Definimos una función que codifica un carácter $c$ según un desplazamiento $k$, moviendo ese carácter $c$, $k$ posiciones a la derecha.\n",
    "\n",
    "Defínela y úsala para codificar una frase."
   ]
  },
  {
   "cell_type": "code",
   "execution_count": 4,
   "metadata": {},
   "outputs": [],
   "source": [
    "def cod_char(a, k):\n",
    "    if not a.isalpha():\n",
    "        return a\n",
    "    kk = ord(a) + k%26\n",
    "    aa = chr(kk)\n",
    "    if a.isupper() and aa.isupper() or a.islower() and aa.islower():\n",
    "        return aa\n",
    "    else:\n",
    "        return chr(kk-26)\n",
    "    \n",
    "def cod_linea(linea, k):\n",
    "    return \"\".join([cod_char(a, k) for a in linea ])"
   ]
  },
  {
   "cell_type": "code",
   "execution_count": 5,
   "metadata": {},
   "outputs": [
    {
     "name": "stdout",
     "output_type": "stream",
     "text": [
      "Al ataque.\n",
      "Hs hahxbl.\n",
      "Al ataque.\n",
      "\n",
      "Al ataque.\n",
      "Yj yryosc.\n",
      "Al ataque.\n"
     ]
    }
   ],
   "source": [
    "# Casos de prueba:\n",
    "\n",
    "frase = \"Al ataque.\"\n",
    "codificada = cod_linea(frase, 7)\n",
    "descodificada = cod_linea(codificada, -7)\n",
    "\n",
    "print(frase)\n",
    "print(codificada)\n",
    "print(descodificada)\n",
    "\n",
    "print()\n",
    "\n",
    "# Pruebas con un desplazamiento grande:\n",
    "\n",
    "codificada = cod_linea(frase, 2000)\n",
    "descodificada = cod_linea(codificada, -2000)\n",
    "\n",
    "print(frase)\n",
    "print(codificada)\n",
    "print(descodificada)"
   ]
  },
  {
   "cell_type": "code",
   "execution_count": 6,
   "metadata": {},
   "outputs": [],
   "source": [
    "# Otra versión:\n",
    "\n",
    "import string\n",
    "\n",
    "def cod_char(a, k):\n",
    "    if not a.isalpha():\n",
    "        return a\n",
    "    if a.isupper():\n",
    "        alfabeto = string.ascii_uppercase\n",
    "    else:\n",
    "        alfabeto = string.ascii_lowercase\n",
    "    kk = (ord(a) - ord(alfabeto[0]) + k)%26\n",
    "    return alfabeto[kk]\n",
    "    \n",
    "def cod_linea(linea, k):\n",
    "    return \"\".join([cod_char(a, k) for a in linea ])"
   ]
  },
  {
   "cell_type": "code",
   "execution_count": 7,
   "metadata": {},
   "outputs": [
    {
     "name": "stdout",
     "output_type": "stream",
     "text": [
      "Al ataque, venceremos al enemigo.\n",
      "Hs hahxbl, clujlyltvz hs lultpnv.\n",
      "Al ataque, venceremos al enemigo.\n",
      "\n",
      "Al ataque, venceremos al enemigo.\n",
      "Yj yryosc, tclacpckmq yj clckgem.\n",
      "Al ataque, venceremos al enemigo.\n"
     ]
    }
   ],
   "source": [
    "# Casos de prueba:\n",
    "\n",
    "frase = \"Al ataque, venceremos al enemigo.\"\n",
    "codificada = cod_linea(frase, 7)\n",
    "descodificada = cod_linea(codificada, -7)\n",
    "\n",
    "print(frase)\n",
    "print(codificada)\n",
    "print(descodificada)\n",
    "\n",
    "print()\n",
    "\n",
    "# Pruebas con un desplazamiento grande:\n",
    "\n",
    "codificada = cod_linea(frase, 2000)\n",
    "descodificada = cod_linea(codificada, -2000)\n",
    "\n",
    "print(frase)\n",
    "print(codificada)\n",
    "print(descodificada)"
   ]
  },
  {
   "cell_type": "code",
   "execution_count": 8,
   "metadata": {},
   "outputs": [],
   "source": [
    "# Otra versión:\n",
    "\n",
    "# import string\n",
    "\n",
    "def cod_char(a, k):\n",
    "    if not a.isalpha():\n",
    "        return a\n",
    "    alfabeto = string.ascii_uppercase + \"ÁÉÍÓÚÑ\" \\\n",
    "             + string.ascii_lowercase + \"áéíóúñ\"\n",
    "    n = len(alfabeto)\n",
    "    kk = (alfabeto.index(a) + k)%n\n",
    "    return alfabeto[kk]\n",
    "    \n",
    "def cod_linea(linea, k):\n",
    "    return \"\".join([cod_char(a, k) for a in linea ])"
   ]
  },
  {
   "cell_type": "code",
   "execution_count": 9,
   "metadata": {},
   "outputs": [
    {
     "name": "stdout",
     "output_type": "stream",
     "text": [
      "Al ataque, el enemigo es nuestro.\n",
      "Hs háhxél, ls lultpnv lz uélzáyv.\n",
      "Al ataque, el enemigo es nuestro.\n",
      "\n",
      "Al ataque, el enemigo es nuestro.\n",
      "Qé qDqAEu, ué uóuíywú uC óEuCDBú.\n",
      "Al ataque, el enemigo es nuestro.\n"
     ]
    }
   ],
   "source": [
    "# Casos de prueba:\n",
    "\n",
    "frase = \"Al ataque, el enemigo es nuestro.\"\n",
    "codificada = cod_linea(frase, 7)\n",
    "descodificada = cod_linea(codificada, -7)\n",
    "\n",
    "print(frase)\n",
    "print(codificada)\n",
    "print(descodificada)\n",
    "\n",
    "print()\n",
    "\n",
    "# Pruebas con un desplazamiento grande:\n",
    "\n",
    "codificada = cod_linea(frase, 2000)\n",
    "descodificada = cod_linea(codificada, -2000)\n",
    "\n",
    "print(frase)\n",
    "print(codificada)\n",
    "print(descodificada)"
   ]
  }
 ],
 "metadata": {
  "kernelspec": {
   "display_name": "Python 3 (ipykernel)",
   "language": "python",
   "name": "python3"
  },
  "language_info": {
   "codemirror_mode": {
    "name": "ipython",
    "version": 3
   },
   "file_extension": ".py",
   "mimetype": "text/x-python",
   "name": "python",
   "nbconvert_exporter": "python",
   "pygments_lexer": "ipython3",
   "version": "3.12.2"
  }
 },
 "nbformat": 4,
 "nbformat_minor": 4
}
