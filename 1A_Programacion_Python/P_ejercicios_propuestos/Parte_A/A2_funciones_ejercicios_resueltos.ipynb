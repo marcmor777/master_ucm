{
 "cells": [
  {
   "cell_type": "markdown",
   "metadata": {},
   "source": [
    "# Funciones. Ejercicios y soluciones\n",
    "\n",
    "<hr>"
   ]
  },
  {
   "cell_type": "markdown",
   "metadata": {},
   "source": [
    "### Ejercicio 1. Reescribir como funciones\n",
    "\n",
    "Reescribe los ejercicios del capítulo de “Tipos básicos” usando funciones. En cada caso, distingue entre funciones (devuelven un resultado) y procedimientos (realizan instrucciones). Documenta adecuadamente cada función."
   ]
  },
  {
   "cell_type": "code",
   "execution_count": 1,
   "metadata": {},
   "outputs": [
    {
     "name": "stdout",
     "output_type": "stream",
     "text": [
      "21 4 3\n"
     ]
    }
   ],
   "source": [
    "def cambio_de_moneda(dinero):\n",
    "    mon_25 = dinero // 25\n",
    "    resto_25 = dinero % 25\n",
    "    mon_5 = resto_25 // 5\n",
    "    mon_1 = resto_25 % 5\n",
    "    return mon_25, mon_5, mon_1\n",
    "\n",
    "dinero = 548\n",
    "mon_25, mon_5, mon_1 = cambio_de_moneda(dinero)\n",
    "print(mon_25, mon_5, mon_1)"
   ]
  },
  {
   "cell_type": "markdown",
   "metadata": {},
   "source": [
    "Seguidamente, damos una solución con documentación:"
   ]
  },
  {
   "cell_type": "code",
   "execution_count": 2,
   "metadata": {},
   "outputs": [
    {
     "name": "stdout",
     "output_type": "stream",
     "text": [
      "21 4 3\n"
     ]
    }
   ],
   "source": [
    "def cambio_de_moneda(dinero):\n",
    "    \"\"\"\n",
    "    Desglosa una cantidad de dinero en monedas de 25, 5 y 1 unidades\n",
    "    \n",
    "    Parameters:\n",
    "    -----------\n",
    "        dinero: int\n",
    "            cantidad de dinero que se desea desglosar\n",
    "    \n",
    "    Precondition:\n",
    "    -------------\n",
    "        dinero >= 0\n",
    "\n",
    "    Returns:\n",
    "    --------\n",
    "        (int, int, int)\n",
    "        Cantidades de monedas de 25, 5 y 1 unidades respectivamente\n",
    "    \"\"\"\n",
    "    mon_25 = dinero // 25\n",
    "    resto_25 = dinero % 25\n",
    "    mon_5 = resto_25 // 5\n",
    "    mon_1 = resto_25 % 5\n",
    "    return mon_25, mon_5, mon_1\n",
    "\n",
    "dinero = 548\n",
    "mon_25, mon_5, mon_1 = cambio_de_moneda(dinero)\n",
    "print(mon_25, mon_5, mon_1)"
   ]
  },
  {
   "cell_type": "markdown",
   "metadata": {},
   "source": [
    "Seguidamente, damos una solución con documentación, con anotaciones de tipos:"
   ]
  },
  {
   "cell_type": "code",
   "execution_count": 3,
   "metadata": {},
   "outputs": [
    {
     "name": "stdout",
     "output_type": "stream",
     "text": [
      "21 4 3\n"
     ]
    }
   ],
   "source": [
    "def cambio_de_moneda(dinero: int) -> (int, int, int):\n",
    "    \"\"\"\n",
    "    Desglosa una cantidad de dinero en monedas de 25, 5 y 1 unidades\n",
    "    \n",
    "    Parameters:\n",
    "    -----------\n",
    "        dinero: int\n",
    "            cantidad de dinero que se desea desglosar\n",
    "    \n",
    "    Precondition:\n",
    "    -------------\n",
    "        dinero >= 0\n",
    "\n",
    "    Returns:\n",
    "    --------\n",
    "        (int, int, int)\n",
    "        Cantidades de monedas de 25, 5 y 1 unidades respectivamente\n",
    "    \"\"\"\n",
    "    mon_25 = dinero // 25\n",
    "    resto_25 = dinero % 25\n",
    "    mon_5 = resto_25 // 5\n",
    "    mon_1 = resto_25 % 5\n",
    "    return mon_25, mon_5, mon_1\n",
    "\n",
    "dinero = 548\n",
    "mon_25, mon_5, mon_1 = cambio_de_moneda(dinero)\n",
    "print(mon_25, mon_5, mon_1)"
   ]
  },
  {
   "cell_type": "markdown",
   "metadata": {},
   "source": [
    "b. Completa un programa que pida una cierta cantidad de dinero y dé una salida\n",
    "adecuada:\n",
    "\n",
    "        Dame la cantidad de dinero que deseas cambiar: 537\n",
    "        \n",
    "            Desglose de 537 U:\n",
    "            21 monedas de 25 U\n",
    "            2 monedas de 5 U\n",
    "            1 monedas de 1 U"
   ]
  },
  {
   "cell_type": "code",
   "execution_count": 4,
   "metadata": {},
   "outputs": [
    {
     "name": "stdout",
     "output_type": "stream",
     "text": [
      "Dame la cantidad de dinero que deseas cambiar: 459\n",
      "Desglose de 459 U:\n",
      "18 monedas de 25 U\n",
      "1 monedas de 5 U\n",
      "4 monedas de 1 U\n"
     ]
    }
   ],
   "source": [
    "# Cambio de moneda:\n",
    "\n",
    "def cambio_de_moneda(dinero):\n",
    "    mon_25 = dinero // 25\n",
    "    resto_25 = dinero % 25\n",
    "    mon_5 = resto_25 // 5\n",
    "    mon_1 = resto_25 % 5\n",
    "    return mon_25, mon_5, mon_1\n",
    "\n",
    "def mostrar_cambio_de_moneda(dinero, mon_25, mon_5, mon_1):\n",
    "    print(\"Desglose de\", dinero, \"U:\")\n",
    "    print(mon_25, \"monedas de 25 U\")\n",
    "    print(mon_5, \"monedas de 5 U\")\n",
    "    print(mon_1, \"monedas de 1 U\")\n",
    "\n",
    "def main():\n",
    "    entrada = input(\"Dame la cantidad de dinero que deseas cambiar: \")\n",
    "    dinero = int(entrada)\n",
    "    mon_25, mon_5, mon_1 = cambio_de_moneda(dinero)\n",
    "    mostrar_cambio_de_moneda(dinero, mon_25, mon_5, mon_1)\n",
    "    \n",
    "main()"
   ]
  },
  {
   "cell_type": "markdown",
   "metadata": {},
   "source": [
    "Entre funciones anteriores, `main`no devuelve nada: es en realidad un *procedimiento*, una abstracción de *instrucción*\n",
    "y el tipo de datos que devuelve se anotará como `None`.\n",
    "\n",
    "```python\n",
    "def mostrar_cambio_de_moneda(... ... ...) -> None:\n",
    "```"
   ]
  },
  {
   "cell_type": "code",
   "execution_count": 5,
   "metadata": {},
   "outputs": [
    {
     "name": "stdout",
     "output_type": "stream",
     "text": [
      "Blacky Blacky\n"
     ]
    }
   ],
   "source": [
    "# Poner en mayúsculas un nombre:\n",
    "\n",
    "def primera_mayuscula(nombre):\n",
    "    return nombre[0].upper() + nombre[1:].lower() \n",
    "\n",
    "print(primera_mayuscula(\"blacky\"), primera_mayuscula(\"BLACKY\"))"
   ]
  },
  {
   "cell_type": "code",
   "execution_count": 6,
   "metadata": {},
   "outputs": [
    {
     "name": "stdout",
     "output_type": "stream",
     "text": [
      "Blacky Blacky\n"
     ]
    }
   ],
   "source": [
    "# Más sencillo aún:\n",
    "\n",
    "def primera_mayuscula(nombre):\n",
    "    return nombre.capitalize()\n",
    "\n",
    "print(primera_mayuscula(\"blacky\"), primera_mayuscula(\"BLACKY\"))\n",
    "\n",
    "# Busca en Internet si existe una función o un método (\"capitalize\") que resuelve este problema, y prúebalo."
   ]
  },
  {
   "cell_type": "markdown",
   "metadata": {},
   "source": [
    "### Ecuación de segundo grado con raíces reales\n",
    "\n",
    "Si tenemos los coeficientes $(a, b, c)$ de una ecuación de segundo grado y sabemos que tiene dos raíces reales, expresa instrucciones para calcular dichas fórmulas."
   ]
  },
  {
   "cell_type": "code",
   "execution_count": 7,
   "metadata": {},
   "outputs": [
    {
     "name": "stdout",
     "output_type": "stream",
     "text": [
      "(3.0, 2.0)\n"
     ]
    }
   ],
   "source": [
    "import math\n",
    "\n",
    "def solve_real_roots(a, b, c):\n",
    "    assert a != 0 and b**2 - 4*a*c >= 0\n",
    "    discriminante = b**2 - 4*a*c\n",
    "    sol1 = (-b + math.sqrt(discriminante)) / (2*a)\n",
    "    sol2 = (-b - math.sqrt(discriminante)) / (2*a)\n",
    "    return sol1, sol2\n",
    "\n",
    "print(solve_real_roots(2, -10, 12))"
   ]
  },
  {
   "cell_type": "markdown",
   "metadata": {},
   "source": [
    "Observa la comprobación `assert` de los requisitos de los datos\n",
    "para que esta función pueda ejecutarse sin errores."
   ]
  },
  {
   "cell_type": "markdown",
   "metadata": {},
   "source": [
    "### Ecuación de segundo grado con raíces complejas\n",
    "\n",
    "Si tenemos los coeficientes $(a, b, c)$ de una ecuación de segundo grado de la forma $ax^2 + bx + c = 0$ y sabemos que tiene **dos** raíces complejas, define una función para calcular dichas raíces."
   ]
  },
  {
   "cell_type": "code",
   "execution_count": 8,
   "metadata": {},
   "outputs": [],
   "source": [
    "import cmath\n",
    "\n",
    "def solve_complex_roots(a, b, c):\n",
    "    \"\"\"\n",
    "    Da las dos soluciones (reales o complejas) de una ecuación de segundo grado\n",
    "    \n",
    "    Parameters:\n",
    "    -----------\n",
    "       a: float\n",
    "           coeficiente de la x^2\n",
    "       b: float\n",
    "           coeficiente de la x\n",
    "       c: float\n",
    "           término independiente\n",
    "    Precondition:\n",
    "    -----------\n",
    "        La ecuación es de segundo grado; esto es,\n",
    "        a != 0\n",
    "    Returns:\n",
    "    -----------\n",
    "        complex, complex\n",
    "        Las dos raíces complejas\n",
    "    \"\"\"\n",
    "    discriminante = b**2 - 4*a*c\n",
    "    sol1 = (-b + cmath.sqrt(discriminante)) / (2*a)\n",
    "    sol2 = (-b - cmath.sqrt(discriminante)) / (2*a)\n",
    "    return sol1, sol2"
   ]
  },
  {
   "cell_type": "code",
   "execution_count": 9,
   "metadata": {},
   "outputs": [
    {
     "name": "stdout",
     "output_type": "stream",
     "text": [
      "((3+0j), (2+0j))\n",
      "((-1+1j), (-1-1j))\n",
      "(2j, -2j)\n",
      "((-1+2j), (-1-2j))\n",
      "((3+0j), (2+0j))\n",
      "((-1+0j), (-1+0j))\n"
     ]
    }
   ],
   "source": [
    "# Pruebas de funcionamiento:\n",
    "\n",
    "print(solve_complex_roots(2, -10, 12))\n",
    "print(solve_complex_roots(1, 2, 2))\n",
    "print(solve_complex_roots(1, 0, 4))\n",
    "print(solve_complex_roots(1, 2, 5))\n",
    "\n",
    "# Por si las raíces fueran reales:\n",
    "\n",
    "print(solve_complex_roots(1, -5, 6))\n",
    "print(solve_complex_roots(1, 2, 1))"
   ]
  },
  {
   "cell_type": "markdown",
   "metadata": {},
   "source": [
    "**Nota.** Observa que cualquier número real es también complejo, trivialmente: Si $x\\in\\cal{R}$, se tiene que $x = x+0i\\in\\cal{C}$, de manera que una función que calcula raíces complejas calcula raíces reales, trivialmente."
   ]
  },
  {
   "cell_type": "markdown",
   "metadata": {},
   "source": [
    "### Mínimo y máximo\n",
    "\n",
    "Diseña una función que calcule el mínimo y el máximo de dos reales dados. Observa que, para este ejercicio, a lo mejor necesitas usar una expresión condicional, o una instrucción condicional. Seguro que sabes apañártelas aunque aún no se haya explicado esto, y seguro que sabes hacerlo con ambas posibilidades :-)."
   ]
  },
  {
   "cell_type": "code",
   "execution_count": 10,
   "metadata": {},
   "outputs": [
    {
     "name": "stdout",
     "output_type": "stream",
     "text": [
      "(7, 8)\n",
      "(7, 8)\n",
      "(70, 80)\n",
      "(70, 80)\n"
     ]
    }
   ],
   "source": [
    "# Con una expresión condicional\n",
    "\n",
    "def min_max(a, b):\n",
    "    return (a, b) if a <= b else (b, a)\n",
    "\n",
    "print(min_max(7, 8))\n",
    "print(min_max(8, 7))\n",
    "\n",
    "# Con una instrucción condicional (que no  hemos visto aún):\n",
    "\n",
    "def min_max(a, b):\n",
    "    if a <= b:\n",
    "        return (a, b) \n",
    "    else:\n",
    "        return (b, a)\n",
    "\n",
    "print(min_max(70, 80))\n",
    "print(min_max(80, 70)) "
   ]
  },
  {
   "cell_type": "markdown",
   "metadata": {},
   "source": [
    "### Sucesiones\n",
    "\n",
    "Estudia las siguientes sucesiones y escribe una expresión que calcule el término general:"
   ]
  },
  {
   "cell_type": "code",
   "execution_count": 11,
   "metadata": {},
   "outputs": [
    {
     "name": "stdout",
     "output_type": "stream",
     "text": [
      "a)  [1, 3, 5, 7, 9]\n",
      "b)  [3, 8, 15, 24, 35]\n",
      "c)  [1, -1, 1, -1, 1]\n",
      "d)  [1, 1, 2, 3, 5]\n",
      "e)  [1, 2, 3, 4, 1]\n",
      "f)  [1, 2, 4, 8, 16]\n"
     ]
    }
   ],
   "source": [
    "# a) 1, 3, 5, 7, 9, …\n",
    "\n",
    "def a(n):\n",
    "    return 2*n-1\n",
    "\n",
    "print(\"a) \", [a(i) for i in range(1, 6)])\n",
    "\n",
    "# b) 3, 8, 15, 24, …\n",
    "\n",
    "def b(n):\n",
    "    return (n+1)**2 - 1\n",
    "\n",
    "print(\"b) \", [b(i) for i in range(1, 6)])\n",
    "\n",
    "# c) 1, -1, 1, -1, …\n",
    "\n",
    "def c(n):\n",
    "    return 1 if n%2 != 0 else -1\n",
    "\n",
    "print(\"c) \", [c(i) for i in range(1, 6)])\n",
    "\n",
    "# d) 1, 1, 2, 3, 5, 8, …\n",
    "\n",
    "def d(n):\n",
    "    if n <=2:\n",
    "        return 1\n",
    "    else:\n",
    "        return d(n-1) + d(n-2)\n",
    "\n",
    "print(\"d) \", [d(i) for i in range(1, 6)])\n",
    "\n",
    "# e) 1, 2, 3, 4, 1, 2, 3, 4, 1, 2, 3, 4…\n",
    "\n",
    "def e(n):\n",
    "    return (n-1) % 4 + 1\n",
    "\n",
    "print(\"e) \", [e(i) for i in range(1, 6)])\n",
    "\n",
    "# f) 1, 2, 4, 8, 16, 32, 64, …\n",
    "\n",
    "def f(n):\n",
    "    return 2**(n-1)\n",
    "\n",
    "print(\"f) \", [f(i) for i in range(1, 6)])"
   ]
  },
  {
   "cell_type": "markdown",
   "metadata": {},
   "source": [
    "### Moneda cargada\n",
    "\n",
    "Una moneda (cargada) cae de cara con una probabilidad de 0.7. Diseña una función aleatoria que lance dicha moneda, y responda “cara” o “cruz” con arreglo a las probabilidades dadas."
   ]
  },
  {
   "cell_type": "code",
   "execution_count": 12,
   "metadata": {},
   "outputs": [],
   "source": [
    "import random\n",
    "\n",
    "def lanza_moneda(prob):\n",
    "    p = random.random()\n",
    "    if p < prob:\n",
    "        return \"Cara\"\n",
    "    else:\n",
    "        return \"Cruz\""
   ]
  },
  {
   "cell_type": "code",
   "execution_count": 13,
   "metadata": {},
   "outputs": [
    {
     "name": "stdout",
     "output_type": "stream",
     "text": [
      "Cara\n",
      "Cara\n",
      "Cruz\n",
      "Cara\n",
      "Cruz\n",
      "Cara\n",
      "Cruz\n",
      "Cara\n",
      "Cara\n",
      "Cara\n"
     ]
    }
   ],
   "source": [
    "# Prueba de funcionamiento:\n",
    "\n",
    "print(lanza_moneda(0.7))\n",
    "print(lanza_moneda(0.7))\n",
    "print(lanza_moneda(0.7))\n",
    "print(lanza_moneda(0.7))\n",
    "print(lanza_moneda(0.7))\n",
    "print(lanza_moneda(0.7))\n",
    "print(lanza_moneda(0.7))\n",
    "print(lanza_moneda(0.7))\n",
    "print(lanza_moneda(0.7))\n",
    "print(lanza_moneda(0.7))"
   ]
  },
  {
   "cell_type": "code",
   "execution_count": 14,
   "metadata": {},
   "outputs": [],
   "source": [
    "# Otra solución, poniendo la probabilidad como un parámetro:\n",
    "\n",
    "def lanza_moneda(p):\n",
    "    return random.choices([\"Cara\", \"Cruz\"], [p, 1-p])[0]"
   ]
  },
  {
   "cell_type": "code",
   "execution_count": 15,
   "metadata": {},
   "outputs": [
    {
     "name": "stdout",
     "output_type": "stream",
     "text": [
      "Cara\n",
      "Cara\n",
      "Cruz\n",
      "Cara\n",
      "Cruz\n",
      "Cruz\n",
      "Cara\n",
      "Cruz\n",
      "Cara\n",
      "Cara\n"
     ]
    }
   ],
   "source": [
    "# Otra prueba de funcionamiento:\n",
    "    \n",
    "for _ in range(10):\n",
    "    print(lanza_moneda(0.7))"
   ]
  },
  {
   "cell_type": "code",
   "execution_count": 16,
   "metadata": {},
   "outputs": [
    {
     "name": "stdout",
     "output_type": "stream",
     "text": [
      "Cara\n",
      "Cara\n",
      "Cara\n",
      "Cruz\n",
      "Cara\n",
      "Cara\n",
      "Cara\n",
      "Cruz\n",
      "Cara\n",
      "Cara\n"
     ]
    }
   ],
   "source": [
    "# Otra solución:\n",
    "\n",
    "def lanza_moneda():\n",
    "    return random.choices([\"Cara\", \"Cruz\"], [0.7, 0.3])\n",
    "\n",
    "for i in range(10):\n",
    "    print(lanza_moneda()[0])"
   ]
  },
  {
   "cell_type": "markdown",
   "metadata": {},
   "source": [
    "### Recta de regresión\n",
    "\n",
    "Sabemos que una recta de regresión pasa por los puntos *P* y *Q*, distintos. ¿Sabrías predecir, a partir de estos datos y el valor de una abscisa *x*,\n",
    "su ordenada? Expresa estos cálculos en Python.\n",
    "\n",
    "En este ejercicio surge una oportunidad interesante para calcular, a partir de los puntos *P* y *Q* (con abscisas distintas), la función de regresión. Es decir, si el tipo de datos de cada punto es el siguiente,\n",
    "\n",
    "```python\n",
    "Punto: float, float\n",
    "```\n",
    "y el de una función real de variable real es el siguiente,\n",
    "\n",
    "```python\n",
    "Fun: float → float\n",
    "```\n",
    "\n",
    "planteamos diseñar la función siguiente:\n",
    "\n",
    "```python\n",
    "obtener_fun: (Punto, Punto) → Fun\n",
    "```"
   ]
  },
  {
   "cell_type": "code",
   "execution_count": 17,
   "metadata": {},
   "outputs": [],
   "source": [
    "Punto = (float, float)\n",
    "Fun = {\"x\": float, \"return\": float}\n",
    "\n",
    "def obtener_fun(P: Punto, Q: Punto) -> Fun:\n",
    "    # pre.: abscisas de P y Q distintas\n",
    "    def f(x: float) -> float:\n",
    "        px, py = P\n",
    "        qx, qy = Q\n",
    "        m = (qy - py) / (qx - px)\n",
    "        y = py + m*(x-px)\n",
    "        return y\n",
    "    return f"
   ]
  },
  {
   "cell_type": "code",
   "execution_count": 18,
   "metadata": {},
   "outputs": [
    {
     "name": "stdout",
     "output_type": "stream",
     "text": [
      "[(0.0, 1.0), (1.0, 1.5), (2.0, 2.0), (3.0, 2.5), (4.0, 3.0), (5.0, 3.5), (6.0, 4.0), (7.0, 4.5), (8.0, 5.0)]\n"
     ]
    }
   ],
   "source": [
    "P: Punto = 2.0, 2.0\n",
    "Q: Punto = 6.0, 4.0\n",
    "f = obtener_fun(P, Q)\n",
    "\n",
    "print([(float(x), f(x)) for x in range(9)])"
   ]
  },
  {
   "cell_type": "markdown",
   "metadata": {},
   "source": [
    "Las definiciones de los tipos y sus anotaciones pueden quizás aceptarse mejor examinando la siguiente instrucción:"
   ]
  },
  {
   "cell_type": "code",
   "execution_count": 19,
   "metadata": {},
   "outputs": [
    {
     "name": "stdout",
     "output_type": "stream",
     "text": [
      "<class 'tuple'>\n",
      "{'x': <class 'float'>, 'return': <class 'float'>}\n"
     ]
    }
   ],
   "source": [
    "print(type(P))\n",
    "print(f.__annotations__)"
   ]
  },
  {
   "cell_type": "markdown",
   "metadata": {},
   "source": [
    "Dedicaremos otra pequeña sesión a hablar de las anotaciones de tipos."
   ]
  },
  {
   "cell_type": "markdown",
   "metadata": {},
   "source": [
    "### Algunas funciones muy sencillas\n",
    "\n",
    "Considera las siguientes funciones definidas en Python:"
   ]
  },
  {
   "cell_type": "code",
   "execution_count": 20,
   "metadata": {},
   "outputs": [],
   "source": [
    "def f(a, b):\n",
    "    return a+b\n",
    "\n",
    "def g(a, b):\n",
    "    s = 0\n",
    "    s = a\n",
    "    s = b\n",
    "    return s/2\n",
    "\n",
    "# etc. Aquí pueden proponerse muchas otras funciones."
   ]
  },
  {
   "cell_type": "markdown",
   "metadata": {},
   "source": [
    "Di si las siguientes llamadas son correctas y, en caso afirmativo, indica el valor y el tipo del resultado devuelto.\n",
    "\n",
    "En realidad, no es necesario dar la solución a este ejercicio, que puede resolverse mentalmente y, sólo en caso de duda, comprobarse, como puede verse en la siguiente celda."
   ]
  },
  {
   "cell_type": "code",
   "execution_count": 21,
   "metadata": {},
   "outputs": [
    {
     "name": "stdout",
     "output_type": "stream",
     "text": [
      "3 4.2 HolaJuan\n",
      "<class 'int'> <class 'float'> <class 'str'>\n"
     ]
    }
   ],
   "source": [
    "print(f(1, 2), f(1.2, 3), f(\"Hola\", \"Juan\"))\n",
    "print(type(f(1, 2)), type(f(1.2, 3)), type(f(\"Hola\", \"Juan\")))"
   ]
  },
  {
   "cell_type": "markdown",
   "metadata": {},
   "source": [
    "### Documentación\n",
    "\n",
    "Las funciones diseñadas en las soluciones precedentes se presentan sin documentación, y esta práctica es habitual, para abreviar, provisionalmente. Pero una solución no se considera terminada mientras no incluya la documentación completa. Por ello, damos seguidamente soluciones documentadas."
   ]
  },
  {
   "cell_type": "code",
   "execution_count": 22,
   "metadata": {},
   "outputs": [
    {
     "name": "stdout",
     "output_type": "stream",
     "text": [
      "(9, 2, 3)\n"
     ]
    }
   ],
   "source": [
    "def cambio_de_moneda(dinero):\n",
    "    \"\"\"\n",
    "    Función que desglosa una cantidad de dinero en el cambio\n",
    "    óptimo, en monedas de 15, 5 y 1 Unidades respectivamente\n",
    "    \n",
    "    Parameters\n",
    "    ----------\n",
    "    dinero : int\n",
    "        Cantidad de dinero que se desea cambiar\n",
    "        \n",
    "    Return\n",
    "    ------\n",
    "    int, int, int\n",
    "        Cantidad de monedas de 25, 5 y 1 U\n",
    "        que equivalen a la cantidad dada, dinero,\n",
    "        suponiendo un cambio óptimo\n",
    "    \n",
    "    Example\n",
    "    -------\n",
    "    >>> cambio_de_moneda(638)\n",
    "    (25, 2, 3)\n",
    "    \"\"\"\n",
    "    mon_25 = dinero // 25\n",
    "    resto_25 = dinero % 25\n",
    "    mon_5 = resto_25 // 5\n",
    "    mon_1 = resto_25 % 5\n",
    "    return mon_25, mon_5, mon_1\n",
    "\n",
    "print(cambio_de_moneda(238))"
   ]
  },
  {
   "cell_type": "markdown",
   "metadata": {},
   "source": [
    "He aquí otra solución correctamente documentada:"
   ]
  },
  {
   "cell_type": "code",
   "execution_count": 23,
   "metadata": {},
   "outputs": [
    {
     "name": "stdout",
     "output_type": "stream",
     "text": [
      "(3.0, 2.0)\n"
     ]
    }
   ],
   "source": [
    "import math\n",
    "\n",
    "def solve_real_roots(a, b, c):\n",
    "    \"\"\"\n",
    "    Función que calcula las raíces de una ecuación de segundo grado,\n",
    "    supuesto que dicha ecuación tiene dos raíces son reales.\n",
    "    \n",
    "    Parameters\n",
    "    ----------\n",
    "    a, b, c: float, float, float\n",
    "        Coeficientes de la ecuación:\n",
    "        $a x^2 + b x + c = 0$\n",
    "\n",
    "    Precondition\n",
    "    ------------\n",
    "    a != 0 and b^2 - 4 a c >= 0\n",
    "    \n",
    "    Return\n",
    "    ------\n",
    "    float, float\n",
    "        Las dos soluciones de la ecuación dada\n",
    "    \n",
    "    Example\n",
    "    -------\n",
    "    >>> print(solve_real_roots(2, -10, 12))\n",
    "    (3.0, 2.0)\n",
    "    \"\"\"\n",
    "    discriminante = b**2 - 4*a*c\n",
    "    sol1 = (-b + math.sqrt(discriminante)) / (2*a)\n",
    "    sol2 = (-b - math.sqrt(discriminante)) / (2*a)\n",
    "    return sol1, sol2\n",
    "\n",
    "print(solve_real_roots(2, -10, 12))"
   ]
  },
  {
   "cell_type": "markdown",
   "metadata": {},
   "source": [
    "He aquí otra solución más, con anotaciones de tipos:"
   ]
  },
  {
   "cell_type": "code",
   "execution_count": 24,
   "metadata": {},
   "outputs": [
    {
     "name": "stdout",
     "output_type": "stream",
     "text": [
      "(3.0, 2.0)\n"
     ]
    }
   ],
   "source": [
    "import math\n",
    "\n",
    "def solve_real_roots(a: float, b: float, c: float) -> (float, float):\n",
    "    \"\"\"\n",
    "    Función que calcula las raíces de una ecuación de segundo grado,\n",
    "    supuesto que dicha ecuación tiene dos raíces son reales.\n",
    "    \n",
    "    Parameters\n",
    "    ----------\n",
    "    Coeficientes de la ecuación:\n",
    "    $a x^2 + b x + c = 0$\n",
    "\n",
    "    Precondition\n",
    "    ------------\n",
    "    a != 0 and b^2 - 4 a c >= 0\n",
    "    \n",
    "    Return\n",
    "    ------\n",
    "    Las dos soluciones de la ecuación dada\n",
    "    \n",
    "    Example\n",
    "    -------\n",
    "    >>> print(solve_real_roots(2, -10, 12))\n",
    "    (3.0, 2.0)\n",
    "    \"\"\"\n",
    "    discriminante = b**2 - 4*a*c\n",
    "    sol1 = (-b + math.sqrt(discriminante)) / (2*a)\n",
    "    sol2 = (-b - math.sqrt(discriminante)) / (2*a)\n",
    "    return sol1, sol2\n",
    "\n",
    "print(solve_real_roots(2, -10, 12))"
   ]
  }
 ],
 "metadata": {
  "kernelspec": {
   "display_name": "Python 3 (ipykernel)",
   "language": "python",
   "name": "python3"
  },
  "language_info": {
   "codemirror_mode": {
    "name": "ipython",
    "version": 3
   },
   "file_extension": ".py",
   "mimetype": "text/x-python",
   "name": "python",
   "nbconvert_exporter": "python",
   "pygments_lexer": "ipython3",
   "version": "3.12.2"
  }
 },
 "nbformat": 4,
 "nbformat_minor": 4
}
