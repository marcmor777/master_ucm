{
 "cells": [
  {
   "cell_type": "markdown",
   "metadata": {},
   "source": [
    "# Instrucciones condicionales\n",
    "\n",
    "<hr>\n",
    "\n",
    "Las instrucciones condicionales permiten elegir una entre dos vías para resolver un problema, según sea el resultado de evaluar un predicado.\n",
    "\n",
    "    Si predicado_se_cumple:\n",
    "        hacer esto\n",
    "    si no:\n",
    "        hacer lo otro\n",
    "\n",
    "Por ejemplo, para saber si alguien aprueba o no, basta con ver si la nota es un cinco, al menos:\n",
    "\n",
    "    Si \"la nota es un cinco al menos\":\n",
    "        la respuesta es que sí, que el estudiante aprueba\n",
    "    si no:\n",
    "        la respuesta es negativa, pues el estudiante no aprueba\n",
    "\n",
    "La respuesta a la pregunta de si \"la nota es un cinco al menos\" a un sí o un no, esto es, True o False, que son los valores booleanos. En la instrucción condicional, siempre hay una expresión booleana que gobierna cuál es la instrucción que se realiza."
   ]
  },
  {
   "cell_type": "markdown",
   "metadata": {},
   "source": [
    "## Instrucción condicional completa\n",
    "\n",
    "Lo anterior se puede expresar en Python así:"
   ]
  },
  {
   "cell_type": "code",
   "execution_count": 1,
   "metadata": {},
   "outputs": [
    {
     "data": {
      "text/plain": [
       "(False, True, True, True, False)"
      ]
     },
     "execution_count": 1,
     "metadata": {},
     "output_type": "execute_result"
    }
   ],
   "source": [
    "def aprobado(nota):\n",
    "    if nota >= 5.0:\n",
    "        return True\n",
    "    else:\n",
    "        return False\n",
    "\n",
    "aprobado(3.0), aprobado(7.5), aprobado(5.0), aprobado(10.0), aprobado(4.999) "
   ]
  },
  {
   "cell_type": "markdown",
   "metadata": {},
   "source": [
    "La función anterior no está documentada, salvo la elección clara de los identificadores. Queremos progresar tan rápido que a menudo omitimos la documentación. He aquí la misma función de nuevo con una documentación más completa:"
   ]
  },
  {
   "cell_type": "code",
   "execution_count": 2,
   "metadata": {},
   "outputs": [
    {
     "data": {
      "text/plain": [
       "(False, True, True, True, False)"
      ]
     },
     "execution_count": 2,
     "metadata": {},
     "output_type": "execute_result"
    }
   ],
   "source": [
    "def aprobado(nota):\n",
    "    \"\"\"\n",
    "    Averigua si una nota numérica es suficiente para aprobar o no\n",
    "    \n",
    "    Parameters\n",
    "    ----------\n",
    "    nota : float\n",
    "        La nota numérica\n",
    "    \n",
    "    Precondition\n",
    "    ------------\n",
    "    nota >= 0 and nota <= 10\n",
    "    \n",
    "    Returns\n",
    "    -------\n",
    "    bool \n",
    "        True, si la nota es suficiente para aprobar\n",
    "        False, si la nota no lo es\n",
    "    \"\"\"\n",
    "    if nota >= 5.0:\n",
    "        return True\n",
    "    else:\n",
    "        return False\n",
    "\n",
    "aprobado(3.0), aprobado(7.5), aprobado(5.0), aprobado(10.0), aprobado(4.999) "
   ]
  },
  {
   "cell_type": "markdown",
   "metadata": {},
   "source": [
    "Podemos añadir anotaciones de tipos, y entonces no deben repetirse en el docstring:"
   ]
  },
  {
   "cell_type": "code",
   "execution_count": 3,
   "metadata": {},
   "outputs": [
    {
     "data": {
      "text/plain": [
       "(False, True, True, True, False)"
      ]
     },
     "execution_count": 3,
     "metadata": {},
     "output_type": "execute_result"
    }
   ],
   "source": [
    "def aprobado(nota: float) -> bool:\n",
    "    \"\"\"\n",
    "    Averigua si una nota numérica es suficiente para aprobar o no\n",
    "    \n",
    "    Parameters\n",
    "    ----------\n",
    "    nota : la nota numérica\n",
    "    \n",
    "    Precondition\n",
    "    ------------\n",
    "    nota >= 0 and nota <= 10\n",
    "    \n",
    "    Returns\n",
    "    -------\n",
    "        True, si la nota es suficiente para aprobar\n",
    "        False, si la nota no lo es\n",
    "    \"\"\"\n",
    "    if nota >= 5.0:\n",
    "        return True\n",
    "    else:\n",
    "        return False\n",
    "\n",
    "aprobado(3.0), aprobado(7.5), aprobado(5.0), aprobado(10.0), aprobado(4.999) "
   ]
  },
  {
   "cell_type": "markdown",
   "metadata": {},
   "source": [
    "Observa las dos versiones siguientes de la función. Las presento sin repetir la documentación por brevedad. Valora cuál de ellas es más clara."
   ]
  },
  {
   "cell_type": "code",
   "execution_count": 4,
   "metadata": {},
   "outputs": [
    {
     "data": {
      "text/plain": [
       "(False, True, True, True, False)"
      ]
     },
     "execution_count": 4,
     "metadata": {},
     "output_type": "execute_result"
    }
   ],
   "source": [
    "def aprobado(nota):\n",
    "    return True if nota >= 5.0 else False\n",
    "\n",
    "aprobado(3.0), aprobado(7.5), aprobado(5.0), aprobado(10.0), aprobado(4.999) "
   ]
  },
  {
   "cell_type": "code",
   "execution_count": 5,
   "metadata": {},
   "outputs": [
    {
     "data": {
      "text/plain": [
       "(False, True, True, True, False)"
      ]
     },
     "execution_count": 5,
     "metadata": {},
     "output_type": "execute_result"
    }
   ],
   "source": [
    "def aprobado(nota):\n",
    "    return nota >= 5.0\n",
    "\n",
    "aprobado(3.0), aprobado(7.5), aprobado(5.0), aprobado(10.0), aprobado(4.999) "
   ]
  },
  {
   "cell_type": "markdown",
   "metadata": {},
   "source": [
    "## Instrucción condicional incompleta\n",
    "\n",
    "La rama \"else\" no siempre es necesaria:"
   ]
  },
  {
   "cell_type": "code",
   "execution_count": 6,
   "metadata": {},
   "outputs": [
    {
     "data": {
      "text/plain": [
       "(10, 10)"
      ]
     },
     "execution_count": 6,
     "metadata": {},
     "output_type": "execute_result"
    }
   ],
   "source": [
    "def valor_absoluto(x):\n",
    "  \"\"\"\n",
    "  Devuelve el valor absoluto de un numero.\n",
    "  \n",
    "  Parameters\n",
    "  ----------\n",
    "  x: the number\n",
    "  \n",
    "  Returns\n",
    "  -------\n",
    "    The absolute value of the number\n",
    "  \"\"\"\n",
    "  if x < 0:\n",
    "    # cambio de signo del dato de entrada\n",
    "    x = -x\n",
    "    return x\n",
    "\n",
    "valor_absoluto(10), valor_absoluto(-10)"
   ]
  },
  {
   "cell_type": "markdown",
   "metadata": {},
   "source": [
    "Seguro que puedes proponer tú una documentación más completa de la función anterior.\n",
    "En este caso, podríamos haber usado también la instrucción condicional completa:"
   ]
  },
  {
   "cell_type": "code",
   "execution_count": 7,
   "metadata": {},
   "outputs": [
    {
     "name": "stdout",
     "output_type": "stream",
     "text": [
      "10 10\n",
      "7 7\n"
     ]
    }
   ],
   "source": [
    "def valor_absoluto(x):\n",
    "    if x < 0:\n",
    "        return -x\n",
    "    else:\n",
    "        return x\n",
    "    \n",
    "print(valor_absoluto(10), valor_absoluto(-10))\n",
    "\n",
    "# La misma función con su documentación completa:\n",
    "\n",
    "def valor_absoluto(x):\n",
    "    \"\"\"\n",
    "    Devuelve el valor absoluto de un número, real\n",
    "    \n",
    "    Parameters\n",
    "    ----------\n",
    "    x : float\n",
    "    \n",
    "    Returns\n",
    "    -------\n",
    "    float\n",
    "        El valor absoluto de x\n",
    "    \"\"\"\n",
    "    if x < 0:\n",
    "        return -x\n",
    "    else:\n",
    "        return x\n",
    "\n",
    "print(valor_absoluto(7), valor_absoluto(-7))"
   ]
  },
  {
   "cell_type": "markdown",
   "metadata": {},
   "source": [
    "Otro ejemplo:"
   ]
  },
  {
   "cell_type": "code",
   "execution_count": 8,
   "metadata": {},
   "outputs": [
    {
     "name": "stdout",
     "output_type": "stream",
     "text": [
      "(3, 2) (3, 2)\n"
     ]
    }
   ],
   "source": [
    "def max_min(x, y):\n",
    "    if x < y :\n",
    "        max = y\n",
    "        min = x\n",
    "    else:\n",
    "        max = x\n",
    "        min = y\n",
    "    return max, min\n",
    "\n",
    "print(max_min(2, 3), max_min(3, 2))"
   ]
  },
  {
   "cell_type": "markdown",
   "metadata": {},
   "source": [
    "El ejemplo anterior ha sido útil como ejemplo de if... else ...\n",
    "Pero me extraña mucho que Python no tenga ya funciones predefinidas para calcular el máximo y el mínimo. Me arriesgo y pruebo a ver:"
   ]
  },
  {
   "cell_type": "code",
   "execution_count": 9,
   "metadata": {},
   "outputs": [
    {
     "name": "stdout",
     "output_type": "stream",
     "text": [
      "13\n",
      "10\n"
     ]
    }
   ],
   "source": [
    "print(max(10, 13))\n",
    "print(min(10, 13))"
   ]
  },
  {
   "cell_type": "markdown",
   "metadata": {},
   "source": [
    "Por tanto, la función anterior puero redefinirla usando los recursos que me ofrece Python:"
   ]
  },
  {
   "cell_type": "code",
   "execution_count": 1,
   "metadata": {},
   "outputs": [
    {
     "name": "stdout",
     "output_type": "stream",
     "text": [
      "(3, 2) (3, 2)\n"
     ]
    }
   ],
   "source": [
    "def max_min(x, y):\n",
    "    return max(x, y), min(x, y)\n",
    "\n",
    "print(max_min(2, 3), max_min(3, 2))"
   ]
  },
  {
   "cell_type": "markdown",
   "metadata": {},
   "source": [
    "Recomendación: antes de diseñar funciones, puede ser una buena idea ver si Python tiene ya una solución creada para ello:\n",
    "\n",
    "    Google: python maximum, minimum"
   ]
  },
  {
   "cell_type": "markdown",
   "metadata": {},
   "source": [
    "## Podemos anidar condicionales"
   ]
  },
  {
   "cell_type": "code",
   "execution_count": 11,
   "metadata": {},
   "outputs": [
    {
     "data": {
      "text/plain": [
       "(2, 1, 2, 0, 0)"
      ]
     },
     "execution_count": 11,
     "metadata": {},
     "output_type": "execute_result"
    }
   ],
   "source": [
    "def grado_poli(a, b, c):\n",
    "    \"\"\"\n",
    "    Devuelve el grado del polinomio a*x^2 + b*x + c\n",
    "    \n",
    "    Parameters\n",
    "    ----------\n",
    "    a, b, c : float\n",
    "        Coeficientes del polinomio\n",
    "    \n",
    "    Returns\n",
    "    -------\n",
    "    int \n",
    "        Grado del polinomio \n",
    "    \"\"\"\n",
    "    if a == 0:\n",
    "        if b == 0:\n",
    "            grado = 0\n",
    "        else:\n",
    "            grado = 1\n",
    "    else:\n",
    "        grado = 2\n",
    "    return grado\n",
    "\n",
    "grado_poli(2, 3, 4), grado_poli(0, 1, 2), grado_poli(1, 0, 0), grado_poli(0, 0, 1), grado_poli(0, 0, 0)"
   ]
  },
  {
   "cell_type": "markdown",
   "metadata": {},
   "source": [
    "## Elecciones múltiples"
   ]
  },
  {
   "cell_type": "code",
   "execution_count": 12,
   "metadata": {},
   "outputs": [
    {
     "data": {
      "text/plain": [
       "('Sobresaliente', 'Suspenso', 'Suspenso', 'Suspenso', 'Notable', 'Aprobado')"
      ]
     },
     "execution_count": 12,
     "metadata": {},
     "output_type": "execute_result"
    }
   ],
   "source": [
    "def calificacion(num_nota):\n",
    "    \"\"\"\n",
    "    Converierte una calificación numérica en su denominación\n",
    "    \n",
    "    Parameters\n",
    "    ----------\n",
    "    num_nota : float\n",
    "        la nota numérica\n",
    "    \n",
    "    Precondition\n",
    "    ------------\n",
    "    num_nota >= 0 and num_nota <= 10\n",
    "    \n",
    "    Returns\n",
    "    -------\n",
    "    str \n",
    "        la denominación de la calificación       \n",
    "    \"\"\"\n",
    "    if num_nota < 5:\n",
    "        return \"Suspenso\"\n",
    "    elif num_nota < 7:\n",
    "        return \"Aprobado\"\n",
    "    elif num_nota < 9:\n",
    "        return \"Notable\"\n",
    "    else:\n",
    "        return \"Sobresaliente\"\n",
    "    \n",
    "calificacion(10), calificacion(1.23), calificacion(3.45), calificacion(4.999), calificacion(7), calificacion(5)"
   ]
  },
  {
   "cell_type": "markdown",
   "metadata": {},
   "source": [
    "Por tanto, es preferible, para las elecciones múltiples, usar \"if .... elif ... elif ... else\""
   ]
  },
  {
   "cell_type": "markdown",
   "metadata": {},
   "source": [
    "## Expresión condicional\n",
    "\n",
    "Observa la diferencia entre una *instrucción* condicional y una *expresión* condicional:"
   ]
  },
  {
   "cell_type": "code",
   "execution_count": 2,
   "metadata": {},
   "outputs": [
    {
     "name": "stdout",
     "output_type": "stream",
     "text": [
      "7\n",
      "7\n",
      "7\n",
      "7\n"
     ]
    }
   ],
   "source": [
    "def valor_abs_1(x):\n",
    "    if x >= 0:\n",
    "        return x\n",
    "    else:\n",
    "        return -x\n",
    "    \n",
    "def valor_abs_2(x):\n",
    "    return x if x >= 0 else -x\n",
    "\n",
    "print(valor_abs_1(7))\n",
    "print(valor_abs_1(-7))\n",
    "print(valor_abs_2(7))\n",
    "print(valor_abs_2(-7))"
   ]
  },
  {
   "cell_type": "markdown",
   "metadata": {},
   "source": [
    "## Errores comunes\n",
    "\n",
    "No cubrir todos los casos posibles."
   ]
  },
  {
   "cell_type": "code",
   "execution_count": 14,
   "metadata": {},
   "outputs": [
    {
     "name": "stdout",
     "output_type": "stream",
     "text": [
      "False\n",
      "None\n"
     ]
    }
   ],
   "source": [
    "def val_absoluto_mal(x):\n",
    "    if x < 0:\n",
    "        return -x\n",
    "    if x > 0:\n",
    "        return x\n",
    "    \n",
    "print(val_absoluto_mal(0) == 0)\n",
    "print(val_absoluto_mal(0))"
   ]
  },
  {
   "cell_type": "markdown",
   "metadata": {},
   "source": [
    "## Referencias\n",
    "\n",
    "He aquí nuestra referencia, tomada de w3schols:\n",
    "\n",
    "    https://www.w3schools.com/python/python_conditions.asp"
   ]
  }
 ],
 "metadata": {
  "kernelspec": {
   "display_name": "master_ucm",
   "language": "python",
   "name": "python3"
  },
  "language_info": {
   "codemirror_mode": {
    "name": "ipython",
    "version": 3
   },
   "file_extension": ".py",
   "mimetype": "text/x-python",
   "name": "python",
   "nbconvert_exporter": "python",
   "pygments_lexer": "ipython3",
   "version": "3.11.11"
  }
 },
 "nbformat": 4,
 "nbformat_minor": 1
}
