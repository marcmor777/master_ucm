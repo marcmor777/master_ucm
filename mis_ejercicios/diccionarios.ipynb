{
 "cells": [
  {
   "cell_type": "markdown",
   "metadata": {},
   "source": [
    "# Ejercicios Diccionarios"
   ]
  },
  {
   "cell_type": "markdown",
   "metadata": {},
   "source": [
    "## Nivel 1 - Principiante"
   ]
  },
  {
   "cell_type": "markdown",
   "metadata": {},
   "source": [
    "**Ejercicio 1**: Contador de palabras: Escribe una función que tome una cadena como entrada y devuelva un diccionario donde las claves sean las palabras únicas en la cadena y los valores sean la frecuencia con la que aparecen."
   ]
  },
  {
   "cell_type": "code",
   "execution_count": 11,
   "metadata": {},
   "outputs": [
    {
     "name": "stdout",
     "output_type": "stream",
     "text": [
      "{'crear': 1, 'un': 2, 'diccionario': 2, 'anidado': 2}\n"
     ]
    }
   ],
   "source": [
    "def contar_palabras(input_string: str)-> dict:\n",
    "    lista_palabras=[word for word in input_string.split(' ')]\n",
    "    contador = {}\n",
    "    for palabra in lista_palabras:\n",
    "        contador[palabra]=contador.get(palabra, 0) + 1\n",
    "    return contador\n",
    "\n",
    "a=contar_palabras(\"crear un diccionario anidado diccionario anidado un\")\n",
    "print(a)"
   ]
  },
  {
   "cell_type": "markdown",
   "metadata": {},
   "source": [
    "**Ejercicio 2:** Traductor básico: Crea un diccionario que mapee palabras en inglés a sus traducciones al español. Pide al usuario que ingrese una palabra en inglés y muestra su traducción."
   ]
  },
  {
   "cell_type": "code",
   "execution_count": 14,
   "metadata": {},
   "outputs": [
    {
     "name": "stdout",
     "output_type": "stream",
     "text": [
      "dog\n"
     ]
    }
   ],
   "source": [
    "def traducir_palabra(input_word:str) -> str:\n",
    "    traductor = {\"hola\": \"hello\", \"adiós\": \"goodbye\", \"gracias\": \"thank you\", \"perro\":\"dog\"}\n",
    "    return traductor.get(input_word, \"word not found\")\n",
    "\n",
    "print(traducir_palabra(\"perro\"))\n",
    "    "
   ]
  },
  {
   "cell_type": "markdown",
   "metadata": {},
   "source": [
    "**Ejercicio 3:** \n",
    "Registro de estudiantes: Crea un diccionario para almacenar la información de los estudiantes (nombre, edad, grado). Permite al usuario agregar nuevos estudiantes y mostrar la información de un estudiante específico."
   ]
  },
  {
   "cell_type": "code",
   "execution_count": 17,
   "metadata": {},
   "outputs": [
    {
     "name": "stdout",
     "output_type": "stream",
     "text": [
      "{'jose': {'age': '33', 'grade': '6'}, 'diana': {'age': '28', 'grade': '4'}, 'jhon': {'age': '12', 'grade': '1'}, 'quit': {'age': 'stop', 'grade': '5'}}\n"
     ]
    }
   ],
   "source": [
    "students = {}\n",
    "while True:\n",
    "    name = input(\"insert name or 'stop' to quit\")\n",
    "    if name == 'stop':\n",
    "        break\n",
    "    else:\n",
    "        age = input(\"insert age\")\n",
    "        grade = input(\"insert grade\")\n",
    "        students[name]={'age':age, 'grade':grade}\n",
    "\n",
    "print(students)"
   ]
  },
  {
   "cell_type": "code",
   "execution_count": 20,
   "metadata": {},
   "outputs": [
    {
     "name": "stdout",
     "output_type": "stream",
     "text": [
      "Name: jose, age: 33, course: 6\n",
      "Name: diana, age: 28, course: 4\n",
      "Name: jhon, age: 12, course: 1\n",
      "Name: quit, age: stop, course: 5\n"
     ]
    }
   ],
   "source": [
    "for k, v in students.items():\n",
    "    print(f\"Name: {k}, age: {v['age']}, course: {v['grade']}\")"
   ]
  },
  {
   "cell_type": "markdown",
   "metadata": {},
   "source": [
    "## Nivel 2 - Intermedio"
   ]
  },
  {
   "cell_type": "markdown",
   "metadata": {},
   "source": [
    "**Ejercicio 4:** Agrupación por categorías: Tienes una lista de productos con sus categorías. Utiliza un diccionario para agrupar los productos por categoría."
   ]
  },
  {
   "cell_type": "code",
   "execution_count": null,
   "metadata": {},
   "outputs": [
    {
     "name": "stdout",
     "output_type": "stream",
     "text": [
      "frutas\n",
      "verduras\n",
      "frutas\n",
      "verdura\n",
      "verdura\n",
      "verdura\n",
      "verdura\n"
     ]
    }
   ],
   "source": [
    "productos = [\n",
    "    {\"nombre\": \"manzana\", \"categoria\": \"frutas\"},\n",
    "    {\"nombre\": \"zanahoria\", \"categoria\": \"verduras\"},\n",
    "    {\"nombre\": \"plátano\", \"categoria\": \"frutas\"},\n",
    "    {\"nombre\": \"pimiento\", \"categoria\": \"verdura\"},\n",
    "    {\"nombre\": \"tomate\", \"categoria\": \"verdura\"},\n",
    "    {\"nombre\": \"patata\", \"categoria\": \"verdura\"},\n",
    "    {\"nombre\": \"calabacin\", \"categoria\": \"verdura\"},\n",
    "]\n",
    "\n",
    "categorias = {}\n",
    "\n",
    "for producto in productos:\n",
    "    \n",
    "    print(producto['categoria'])"
   ]
  },
  {
   "cell_type": "markdown",
   "metadata": {},
   "source": [
    "\n",
    "Nivel Intermedio\n",
    "\n",
    "Agrupación por categorías: Tienes una lista de productos con sus categorías. Utiliza un diccionario para agrupar los productos por categoría.\n",
    "Inventario de tienda: Crea un diccionario que represente el inventario de una tienda (producto: cantidad). Escribe funciones para agregar, eliminar y actualizar productos, así como para mostrar el inventario actual.\n",
    "Análisis de texto: Escribe un programa que lea un archivo de texto y utilice un diccionario para contar la frecuencia de cada letra y palabra en el texto.\n",
    "Nivel Avanzado\n",
    "\n",
    "Diccionario anidado: Crea un diccionario anidado para representar la estructura de un árbol genealógico. Cada persona debe tener un nombre, fecha de nacimiento y un diccionario con sus hijos.\n",
    "Cálculo de estadísticas: Tienes una lista de diccionarios, donde cada diccionario representa las calificaciones de un estudiante en diferentes materias. Calcula el promedio de calificaciones de cada estudiante y el promedio general de la clase.\n",
    "Búsqueda eficiente: Implementa una función que busque un valor en un diccionario anidado de manera eficiente, utilizando recursión o iteración.\n",
    "Diccionario ordenado: Investiga cómo crear y utilizar un diccionario ordenado en Python (por ejemplo, OrderedDict del módulo collections). Implementa un programa que mantenga el orden de inserción de las claves en un diccionario."
   ]
  }
 ],
 "metadata": {
  "kernelspec": {
   "display_name": "master_ucm",
   "language": "python",
   "name": "python3"
  },
  "language_info": {
   "codemirror_mode": {
    "name": "ipython",
    "version": 3
   },
   "file_extension": ".py",
   "mimetype": "text/x-python",
   "name": "python",
   "nbconvert_exporter": "python",
   "pygments_lexer": "ipython3",
   "version": "3.11.11"
  }
 },
 "nbformat": 4,
 "nbformat_minor": 2
}
